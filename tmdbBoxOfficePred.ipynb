{
  "nbformat": 4,
  "nbformat_minor": 0,
  "metadata": {
    "colab": {
      "name": "tmdbBoxOfficePred.ipynb",
      "provenance": [],
      "collapsed_sections": [],
      "authorship_tag": "ABX9TyOUZzT2n3h8NF6UARfogFmH",
      "include_colab_link": true
    },
    "kernelspec": {
      "name": "python3",
      "display_name": "Python 3"
    },
    "language_info": {
      "name": "python"
    }
  },
  "cells": [
    {
      "cell_type": "markdown",
      "metadata": {
        "id": "view-in-github",
        "colab_type": "text"
      },
      "source": [
        "<a href=\"https://colab.research.google.com/github/rohitpaul23/kaggleAssign/blob/main/tmdbBoxOfficePred.ipynb\" target=\"_parent\"><img src=\"https://colab.research.google.com/assets/colab-badge.svg\" alt=\"Open In Colab\"/></a>"
      ]
    },
    {
      "cell_type": "markdown",
      "source": [
        "# TMDB Box Office Prediction"
      ],
      "metadata": {
        "id": "Wmz3XyMAI2HJ"
      }
    },
    {
      "cell_type": "markdown",
      "source": [
        "In a world… where movies made an estimated $41.7 billion in 2018, the film industry is more popular than ever. But what movies make the most money at the box office? How much does a director matter? Or the budget? For some movies, it's \"You had me at 'Hello.'\" For others, the trailer falls short of expectations and you think \"What we have here is a failure to communicate.\"\n",
        "\n",
        "Here, we're presented with metadata on over 7,000 past films from The Movie Database to try and predict their overall worldwide box office revenue. Data points provided include cast, crew, plot keywords, budget, posters, release dates, languages, production companies, and countries. You can collect other publicly available data to use in your model predictions, but in the spirit of this competition, use only data that would have been available before a movie's release"
      ],
      "metadata": {
        "id": "JIb8xkWgIi6X"
      }
    },
    {
      "cell_type": "markdown",
      "source": [
        "In this dataset, we are provided with 7398 movies and a variety of metadata obtained from The Movie Database (TMDB). Movies are labeled with id. Data points include cast, crew, plot keywords, budget, posters, release dates, languages, production companies, and countries.\n",
        "\n",
        "We are predicting the worldwide revenue for 4398 movies in the test file.\n",
        "\n",
        "Note - many movies are remade over the years, therefore it may seem like multiple instance of a movie may appear in the data, however they are different and should be considered separate movies. In addition, some movies may share a title, but be entirely unrelated."
      ],
      "metadata": {
        "id": "RG23J0yhJLpp"
      }
    },
    {
      "cell_type": "code",
      "source": [
        "!pip install opendatasets scikit-learn plotly folium --upgrade --quiet"
      ],
      "metadata": {
        "id": "XvC_qzSrJifI",
        "colab": {
          "base_uri": "https://localhost:8080/"
        },
        "outputId": "7a66f621-839e-4f59-ee02-df0944d9d941"
      },
      "execution_count": 2,
      "outputs": [
        {
          "output_type": "stream",
          "name": "stdout",
          "text": [
            "\u001b[K     |████████████████████████████████| 15.2 MB 17.4 MB/s \n",
            "\u001b[K     |████████████████████████████████| 95 kB 2.1 MB/s \n",
            "\u001b[31mERROR: pip's dependency resolver does not currently take into account all the packages that are installed. This behaviour is the source of the following dependency conflicts.\n",
            "datascience 0.10.6 requires folium==0.2.1, but you have folium 0.12.1.post1 which is incompatible.\u001b[0m\n",
            "\u001b[?25h"
          ]
        }
      ]
    },
    {
      "cell_type": "code",
      "source": [
        "!pip install pandas numpy matplotlib seaborn --quiet"
      ],
      "metadata": {
        "id": "3o67LYyiKqCp"
      },
      "execution_count": 3,
      "outputs": []
    },
    {
      "cell_type": "code",
      "execution_count": 4,
      "metadata": {
        "id": "vSZQoGteIFQG"
      },
      "outputs": [],
      "source": [
        "import opendatasets as od"
      ]
    },
    {
      "cell_type": "code",
      "source": [
        "od.download('https://www.kaggle.com/competitions/tmdb-box-office-prediction')"
      ],
      "metadata": {
        "colab": {
          "base_uri": "https://localhost:8080/"
        },
        "id": "ByMUY15zJ3K_",
        "outputId": "2a790737-f894-4ff0-d407-dfb4a4ba8db7"
      },
      "execution_count": 5,
      "outputs": [
        {
          "output_type": "stream",
          "name": "stdout",
          "text": [
            "Please provide your Kaggle credentials to download this dataset. Learn more: http://bit.ly/kaggle-creds\n",
            "Your Kaggle username: rohitpaul23\n",
            "Your Kaggle Key: ··········\n",
            "Downloading tmdb-box-office-prediction.zip to ./tmdb-box-office-prediction\n"
          ]
        },
        {
          "output_type": "stream",
          "name": "stderr",
          "text": [
            "100%|██████████| 17.4M/17.4M [00:00<00:00, 46.6MB/s]\n"
          ]
        },
        {
          "output_type": "stream",
          "name": "stdout",
          "text": [
            "\n",
            "Extracting archive ./tmdb-box-office-prediction/tmdb-box-office-prediction.zip to ./tmdb-box-office-prediction\n"
          ]
        }
      ]
    },
    {
      "cell_type": "code",
      "source": [
        "import os\n",
        "\n",
        "os.listdir('tmdb-box-office-prediction')"
      ],
      "metadata": {
        "colab": {
          "base_uri": "https://localhost:8080/"
        },
        "id": "VvP0KoVKK_vL",
        "outputId": "3aae1da2-93b6-4bf5-b58b-ad984adc1fe6"
      },
      "execution_count": 6,
      "outputs": [
        {
          "output_type": "execute_result",
          "data": {
            "text/plain": [
              "['train.csv', 'sample_submission.csv', 'test.csv']"
            ]
          },
          "metadata": {},
          "execution_count": 6
        }
      ]
    },
    {
      "cell_type": "code",
      "source": [
        "import pandas as pd\n",
        "\n",
        "train_df = pd.read_csv('tmdb-box-office-prediction/train.csv')\n",
        "test_df = pd.read_csv('tmdb-box-office-prediction/test.csv')\n",
        "sample_submission_df = pd.read_csv('tmdb-box-office-prediction/sample_submission.csv')"
      ],
      "metadata": {
        "id": "Evn8oMskLUl7"
      },
      "execution_count": 7,
      "outputs": []
    },
    {
      "cell_type": "code",
      "source": [
        "train_df"
      ],
      "metadata": {
        "colab": {
          "base_uri": "https://localhost:8080/",
          "height": 1000
        },
        "id": "uWVkbFR6LyyK",
        "outputId": "428cee1b-db2c-419c-9b23-1ccb29ffdb6f"
      },
      "execution_count": 8,
      "outputs": [
        {
          "output_type": "execute_result",
          "data": {
            "text/plain": [
              "        id                              belongs_to_collection    budget  \\\n",
              "0        1  [{'id': 313576, 'name': 'Hot Tub Time Machine ...  14000000   \n",
              "1        2  [{'id': 107674, 'name': 'The Princess Diaries ...  40000000   \n",
              "2        3                                                NaN   3300000   \n",
              "3        4                                                NaN   1200000   \n",
              "4        5                                                NaN         0   \n",
              "...    ...                                                ...       ...   \n",
              "2995  2996                                                NaN         0   \n",
              "2996  2997                                                NaN         0   \n",
              "2997  2998                                                NaN  65000000   \n",
              "2998  2999                                                NaN  42000000   \n",
              "2999  3000                                                NaN  35000000   \n",
              "\n",
              "                                                 genres  \\\n",
              "0                        [{'id': 35, 'name': 'Comedy'}]   \n",
              "1     [{'id': 35, 'name': 'Comedy'}, {'id': 18, 'nam...   \n",
              "2                         [{'id': 18, 'name': 'Drama'}]   \n",
              "3     [{'id': 53, 'name': 'Thriller'}, {'id': 18, 'n...   \n",
              "4     [{'id': 28, 'name': 'Action'}, {'id': 53, 'nam...   \n",
              "...                                                 ...   \n",
              "2995  [{'id': 35, 'name': 'Comedy'}, {'id': 10749, '...   \n",
              "2996  [{'id': 18, 'name': 'Drama'}, {'id': 10402, 'n...   \n",
              "2997  [{'id': 80, 'name': 'Crime'}, {'id': 28, 'name...   \n",
              "2998  [{'id': 35, 'name': 'Comedy'}, {'id': 10749, '...   \n",
              "2999  [{'id': 53, 'name': 'Thriller'}, {'id': 28, 'n...   \n",
              "\n",
              "                               homepage    imdb_id original_language  \\\n",
              "0                                   NaN  tt2637294                en   \n",
              "1                                   NaN  tt0368933                en   \n",
              "2     http://sonyclassics.com/whiplash/  tt2582802                en   \n",
              "3            http://kahaanithefilm.com/  tt1821480                hi   \n",
              "4                                   NaN  tt1380152                ko   \n",
              "...                                 ...        ...               ...   \n",
              "2995                                NaN  tt0109403                en   \n",
              "2996                                NaN  tt2364975                sv   \n",
              "2997                                NaN  tt0116908                en   \n",
              "2998     http://www.alongcamepolly.com/  tt0343135                en   \n",
              "2999   http://www.abductionthefilm.com/  tt1600195                en   \n",
              "\n",
              "                                original_title  \\\n",
              "0                       Hot Tub Time Machine 2   \n",
              "1     The Princess Diaries 2: Royal Engagement   \n",
              "2                                     Whiplash   \n",
              "3                                      Kahaani   \n",
              "4                                         마린보이   \n",
              "...                                        ...   \n",
              "2995                                   Chasers   \n",
              "2996                               Vi är bäst!   \n",
              "2997                   The Long Kiss Goodnight   \n",
              "2998                          Along Came Polly   \n",
              "2999                                 Abduction   \n",
              "\n",
              "                                               overview  popularity  ...  \\\n",
              "0     When Lou, who has become the \"father of the In...    6.575393  ...   \n",
              "1     Mia Thermopolis is now a college graduate and ...    8.248895  ...   \n",
              "2     Under the direction of a ruthless instructor, ...   64.299990  ...   \n",
              "3     Vidya Bagchi (Vidya Balan) arrives in Kolkata ...    3.174936  ...   \n",
              "4     Marine Boy is the story of a former national s...    1.148070  ...   \n",
              "...                                                 ...         ...  ...   \n",
              "2995  Military men Rock Reilly and Eddie Devane are ...    9.853270  ...   \n",
              "2996  Three girls in 1980s Stockholm decide to form ...    3.727996  ...   \n",
              "2997  Samantha Caine, suburban homemaker, is the ide...   14.482345  ...   \n",
              "2998  Reuben Feffer is a guy who's spent his entire ...   15.725542  ...   \n",
              "2999  A young man sets out to uncover the truth abou...   10.512109  ...   \n",
              "\n",
              "     release_date runtime                                   spoken_languages  \\\n",
              "0         2/20/15    93.0           [{'iso_639_1': 'en', 'name': 'English'}]   \n",
              "1          8/6/04   113.0           [{'iso_639_1': 'en', 'name': 'English'}]   \n",
              "2        10/10/14   105.0           [{'iso_639_1': 'en', 'name': 'English'}]   \n",
              "3          3/9/12   122.0  [{'iso_639_1': 'en', 'name': 'English'}, {'iso...   \n",
              "4          2/5/09   118.0           [{'iso_639_1': 'ko', 'name': '한국어/조선말'}]   \n",
              "...           ...     ...                                                ...   \n",
              "2995      4/22/94   102.0           [{'iso_639_1': 'en', 'name': 'English'}]   \n",
              "2996      3/28/13   102.0           [{'iso_639_1': 'sv', 'name': 'svenska'}]   \n",
              "2997     10/11/96   120.0           [{'iso_639_1': 'en', 'name': 'English'}]   \n",
              "2998      1/16/04    90.0           [{'iso_639_1': 'en', 'name': 'English'}]   \n",
              "2999      9/22/11   106.0           [{'iso_639_1': 'en', 'name': 'English'}]   \n",
              "\n",
              "        status                                            tagline  \\\n",
              "0     Released  The Laws of Space and Time are About to be Vio...   \n",
              "1     Released  It can take a lifetime to find true love; she'...   \n",
              "2     Released    The road to greatness can take you to the edge.   \n",
              "3     Released                                                NaN   \n",
              "4     Released                                                NaN   \n",
              "...        ...                                                ...   \n",
              "2995  Released  It was supposed to be a routine prisoner trans...   \n",
              "2996  Released                                                NaN   \n",
              "2997  Released               What's forgotten is not always gone.   \n",
              "2998  Released  For the most cautious man on Earth, life is ab...   \n",
              "2999  Released          They stole his life. He's taking it back.   \n",
              "\n",
              "                                         title  \\\n",
              "0                       Hot Tub Time Machine 2   \n",
              "1     The Princess Diaries 2: Royal Engagement   \n",
              "2                                     Whiplash   \n",
              "3                                      Kahaani   \n",
              "4                                   Marine Boy   \n",
              "...                                        ...   \n",
              "2995                                   Chasers   \n",
              "2996                          We Are the Best!   \n",
              "2997                   The Long Kiss Goodnight   \n",
              "2998                          Along Came Polly   \n",
              "2999                                 Abduction   \n",
              "\n",
              "                                               Keywords  \\\n",
              "0     [{'id': 4379, 'name': 'time travel'}, {'id': 9...   \n",
              "1     [{'id': 2505, 'name': 'coronation'}, {'id': 42...   \n",
              "2     [{'id': 1416, 'name': 'jazz'}, {'id': 1523, 'n...   \n",
              "3     [{'id': 10092, 'name': 'mystery'}, {'id': 1054...   \n",
              "4                                                   NaN   \n",
              "...                                                 ...   \n",
              "2995  [{'id': 378, 'name': 'prison'}, {'id': 572, 'n...   \n",
              "2996  [{'id': 1192, 'name': 'sweden'}, {'id': 4470, ...   \n",
              "2997  [{'id': 441, 'name': 'assassination'}, {'id': ...   \n",
              "2998  [{'id': 966, 'name': 'beach'}, {'id': 2676, 'n...   \n",
              "2999  [{'id': 591, 'name': 'cia'}, {'id': 822, 'name...   \n",
              "\n",
              "                                                   cast  \\\n",
              "0     [{'cast_id': 4, 'character': 'Lou', 'credit_id...   \n",
              "1     [{'cast_id': 1, 'character': 'Mia Thermopolis'...   \n",
              "2     [{'cast_id': 5, 'character': 'Andrew Neimann',...   \n",
              "3     [{'cast_id': 1, 'character': 'Vidya Bagchi', '...   \n",
              "4     [{'cast_id': 3, 'character': 'Chun-soo', 'cred...   \n",
              "...                                                 ...   \n",
              "2995  [{'cast_id': 2, 'character': 'Rock Reilly', 'c...   \n",
              "2996  [{'cast_id': 5, 'character': 'Bobo', 'credit_i...   \n",
              "2997  [{'cast_id': 10, 'character': 'Samantha Caine ...   \n",
              "2998  [{'cast_id': 8, 'character': 'Reuben Feffer', ...   \n",
              "2999  [{'cast_id': 2, 'character': 'Nathan Harper', ...   \n",
              "\n",
              "                                                   crew    revenue  \n",
              "0     [{'credit_id': '59ac067c92514107af02c8c8', 'de...   12314651  \n",
              "1     [{'credit_id': '52fe43fe9251416c7502563d', 'de...   95149435  \n",
              "2     [{'credit_id': '54d5356ec3a3683ba0000039', 'de...   13092000  \n",
              "3     [{'credit_id': '52fe48779251416c9108d6eb', 'de...   16000000  \n",
              "4     [{'credit_id': '52fe464b9251416c75073b43', 'de...    3923970  \n",
              "...                                                 ...        ...  \n",
              "2995  [{'credit_id': '52fe4494c3a368484e02ac7d', 'de...    1596687  \n",
              "2996  [{'credit_id': '5716b72ac3a3686678012c84', 'de...     180590  \n",
              "2997  [{'credit_id': '52fe443a9251416c7502d579', 'de...   89456761  \n",
              "2998  [{'credit_id': '556f817b9251410866000a63', 'de...  171963386  \n",
              "2999  [{'credit_id': '5391990d0e0a260fb5001629', 'de...   82087155  \n",
              "\n",
              "[3000 rows x 23 columns]"
            ],
            "text/html": [
              "\n",
              "  <div id=\"df-0920e5f6-7948-4983-9995-896dfc8c1844\">\n",
              "    <div class=\"colab-df-container\">\n",
              "      <div>\n",
              "<style scoped>\n",
              "    .dataframe tbody tr th:only-of-type {\n",
              "        vertical-align: middle;\n",
              "    }\n",
              "\n",
              "    .dataframe tbody tr th {\n",
              "        vertical-align: top;\n",
              "    }\n",
              "\n",
              "    .dataframe thead th {\n",
              "        text-align: right;\n",
              "    }\n",
              "</style>\n",
              "<table border=\"1\" class=\"dataframe\">\n",
              "  <thead>\n",
              "    <tr style=\"text-align: right;\">\n",
              "      <th></th>\n",
              "      <th>id</th>\n",
              "      <th>belongs_to_collection</th>\n",
              "      <th>budget</th>\n",
              "      <th>genres</th>\n",
              "      <th>homepage</th>\n",
              "      <th>imdb_id</th>\n",
              "      <th>original_language</th>\n",
              "      <th>original_title</th>\n",
              "      <th>overview</th>\n",
              "      <th>popularity</th>\n",
              "      <th>...</th>\n",
              "      <th>release_date</th>\n",
              "      <th>runtime</th>\n",
              "      <th>spoken_languages</th>\n",
              "      <th>status</th>\n",
              "      <th>tagline</th>\n",
              "      <th>title</th>\n",
              "      <th>Keywords</th>\n",
              "      <th>cast</th>\n",
              "      <th>crew</th>\n",
              "      <th>revenue</th>\n",
              "    </tr>\n",
              "  </thead>\n",
              "  <tbody>\n",
              "    <tr>\n",
              "      <th>0</th>\n",
              "      <td>1</td>\n",
              "      <td>[{'id': 313576, 'name': 'Hot Tub Time Machine ...</td>\n",
              "      <td>14000000</td>\n",
              "      <td>[{'id': 35, 'name': 'Comedy'}]</td>\n",
              "      <td>NaN</td>\n",
              "      <td>tt2637294</td>\n",
              "      <td>en</td>\n",
              "      <td>Hot Tub Time Machine 2</td>\n",
              "      <td>When Lou, who has become the \"father of the In...</td>\n",
              "      <td>6.575393</td>\n",
              "      <td>...</td>\n",
              "      <td>2/20/15</td>\n",
              "      <td>93.0</td>\n",
              "      <td>[{'iso_639_1': 'en', 'name': 'English'}]</td>\n",
              "      <td>Released</td>\n",
              "      <td>The Laws of Space and Time are About to be Vio...</td>\n",
              "      <td>Hot Tub Time Machine 2</td>\n",
              "      <td>[{'id': 4379, 'name': 'time travel'}, {'id': 9...</td>\n",
              "      <td>[{'cast_id': 4, 'character': 'Lou', 'credit_id...</td>\n",
              "      <td>[{'credit_id': '59ac067c92514107af02c8c8', 'de...</td>\n",
              "      <td>12314651</td>\n",
              "    </tr>\n",
              "    <tr>\n",
              "      <th>1</th>\n",
              "      <td>2</td>\n",
              "      <td>[{'id': 107674, 'name': 'The Princess Diaries ...</td>\n",
              "      <td>40000000</td>\n",
              "      <td>[{'id': 35, 'name': 'Comedy'}, {'id': 18, 'nam...</td>\n",
              "      <td>NaN</td>\n",
              "      <td>tt0368933</td>\n",
              "      <td>en</td>\n",
              "      <td>The Princess Diaries 2: Royal Engagement</td>\n",
              "      <td>Mia Thermopolis is now a college graduate and ...</td>\n",
              "      <td>8.248895</td>\n",
              "      <td>...</td>\n",
              "      <td>8/6/04</td>\n",
              "      <td>113.0</td>\n",
              "      <td>[{'iso_639_1': 'en', 'name': 'English'}]</td>\n",
              "      <td>Released</td>\n",
              "      <td>It can take a lifetime to find true love; she'...</td>\n",
              "      <td>The Princess Diaries 2: Royal Engagement</td>\n",
              "      <td>[{'id': 2505, 'name': 'coronation'}, {'id': 42...</td>\n",
              "      <td>[{'cast_id': 1, 'character': 'Mia Thermopolis'...</td>\n",
              "      <td>[{'credit_id': '52fe43fe9251416c7502563d', 'de...</td>\n",
              "      <td>95149435</td>\n",
              "    </tr>\n",
              "    <tr>\n",
              "      <th>2</th>\n",
              "      <td>3</td>\n",
              "      <td>NaN</td>\n",
              "      <td>3300000</td>\n",
              "      <td>[{'id': 18, 'name': 'Drama'}]</td>\n",
              "      <td>http://sonyclassics.com/whiplash/</td>\n",
              "      <td>tt2582802</td>\n",
              "      <td>en</td>\n",
              "      <td>Whiplash</td>\n",
              "      <td>Under the direction of a ruthless instructor, ...</td>\n",
              "      <td>64.299990</td>\n",
              "      <td>...</td>\n",
              "      <td>10/10/14</td>\n",
              "      <td>105.0</td>\n",
              "      <td>[{'iso_639_1': 'en', 'name': 'English'}]</td>\n",
              "      <td>Released</td>\n",
              "      <td>The road to greatness can take you to the edge.</td>\n",
              "      <td>Whiplash</td>\n",
              "      <td>[{'id': 1416, 'name': 'jazz'}, {'id': 1523, 'n...</td>\n",
              "      <td>[{'cast_id': 5, 'character': 'Andrew Neimann',...</td>\n",
              "      <td>[{'credit_id': '54d5356ec3a3683ba0000039', 'de...</td>\n",
              "      <td>13092000</td>\n",
              "    </tr>\n",
              "    <tr>\n",
              "      <th>3</th>\n",
              "      <td>4</td>\n",
              "      <td>NaN</td>\n",
              "      <td>1200000</td>\n",
              "      <td>[{'id': 53, 'name': 'Thriller'}, {'id': 18, 'n...</td>\n",
              "      <td>http://kahaanithefilm.com/</td>\n",
              "      <td>tt1821480</td>\n",
              "      <td>hi</td>\n",
              "      <td>Kahaani</td>\n",
              "      <td>Vidya Bagchi (Vidya Balan) arrives in Kolkata ...</td>\n",
              "      <td>3.174936</td>\n",
              "      <td>...</td>\n",
              "      <td>3/9/12</td>\n",
              "      <td>122.0</td>\n",
              "      <td>[{'iso_639_1': 'en', 'name': 'English'}, {'iso...</td>\n",
              "      <td>Released</td>\n",
              "      <td>NaN</td>\n",
              "      <td>Kahaani</td>\n",
              "      <td>[{'id': 10092, 'name': 'mystery'}, {'id': 1054...</td>\n",
              "      <td>[{'cast_id': 1, 'character': 'Vidya Bagchi', '...</td>\n",
              "      <td>[{'credit_id': '52fe48779251416c9108d6eb', 'de...</td>\n",
              "      <td>16000000</td>\n",
              "    </tr>\n",
              "    <tr>\n",
              "      <th>4</th>\n",
              "      <td>5</td>\n",
              "      <td>NaN</td>\n",
              "      <td>0</td>\n",
              "      <td>[{'id': 28, 'name': 'Action'}, {'id': 53, 'nam...</td>\n",
              "      <td>NaN</td>\n",
              "      <td>tt1380152</td>\n",
              "      <td>ko</td>\n",
              "      <td>마린보이</td>\n",
              "      <td>Marine Boy is the story of a former national s...</td>\n",
              "      <td>1.148070</td>\n",
              "      <td>...</td>\n",
              "      <td>2/5/09</td>\n",
              "      <td>118.0</td>\n",
              "      <td>[{'iso_639_1': 'ko', 'name': '한국어/조선말'}]</td>\n",
              "      <td>Released</td>\n",
              "      <td>NaN</td>\n",
              "      <td>Marine Boy</td>\n",
              "      <td>NaN</td>\n",
              "      <td>[{'cast_id': 3, 'character': 'Chun-soo', 'cred...</td>\n",
              "      <td>[{'credit_id': '52fe464b9251416c75073b43', 'de...</td>\n",
              "      <td>3923970</td>\n",
              "    </tr>\n",
              "    <tr>\n",
              "      <th>...</th>\n",
              "      <td>...</td>\n",
              "      <td>...</td>\n",
              "      <td>...</td>\n",
              "      <td>...</td>\n",
              "      <td>...</td>\n",
              "      <td>...</td>\n",
              "      <td>...</td>\n",
              "      <td>...</td>\n",
              "      <td>...</td>\n",
              "      <td>...</td>\n",
              "      <td>...</td>\n",
              "      <td>...</td>\n",
              "      <td>...</td>\n",
              "      <td>...</td>\n",
              "      <td>...</td>\n",
              "      <td>...</td>\n",
              "      <td>...</td>\n",
              "      <td>...</td>\n",
              "      <td>...</td>\n",
              "      <td>...</td>\n",
              "      <td>...</td>\n",
              "    </tr>\n",
              "    <tr>\n",
              "      <th>2995</th>\n",
              "      <td>2996</td>\n",
              "      <td>NaN</td>\n",
              "      <td>0</td>\n",
              "      <td>[{'id': 35, 'name': 'Comedy'}, {'id': 10749, '...</td>\n",
              "      <td>NaN</td>\n",
              "      <td>tt0109403</td>\n",
              "      <td>en</td>\n",
              "      <td>Chasers</td>\n",
              "      <td>Military men Rock Reilly and Eddie Devane are ...</td>\n",
              "      <td>9.853270</td>\n",
              "      <td>...</td>\n",
              "      <td>4/22/94</td>\n",
              "      <td>102.0</td>\n",
              "      <td>[{'iso_639_1': 'en', 'name': 'English'}]</td>\n",
              "      <td>Released</td>\n",
              "      <td>It was supposed to be a routine prisoner trans...</td>\n",
              "      <td>Chasers</td>\n",
              "      <td>[{'id': 378, 'name': 'prison'}, {'id': 572, 'n...</td>\n",
              "      <td>[{'cast_id': 2, 'character': 'Rock Reilly', 'c...</td>\n",
              "      <td>[{'credit_id': '52fe4494c3a368484e02ac7d', 'de...</td>\n",
              "      <td>1596687</td>\n",
              "    </tr>\n",
              "    <tr>\n",
              "      <th>2996</th>\n",
              "      <td>2997</td>\n",
              "      <td>NaN</td>\n",
              "      <td>0</td>\n",
              "      <td>[{'id': 18, 'name': 'Drama'}, {'id': 10402, 'n...</td>\n",
              "      <td>NaN</td>\n",
              "      <td>tt2364975</td>\n",
              "      <td>sv</td>\n",
              "      <td>Vi är bäst!</td>\n",
              "      <td>Three girls in 1980s Stockholm decide to form ...</td>\n",
              "      <td>3.727996</td>\n",
              "      <td>...</td>\n",
              "      <td>3/28/13</td>\n",
              "      <td>102.0</td>\n",
              "      <td>[{'iso_639_1': 'sv', 'name': 'svenska'}]</td>\n",
              "      <td>Released</td>\n",
              "      <td>NaN</td>\n",
              "      <td>We Are the Best!</td>\n",
              "      <td>[{'id': 1192, 'name': 'sweden'}, {'id': 4470, ...</td>\n",
              "      <td>[{'cast_id': 5, 'character': 'Bobo', 'credit_i...</td>\n",
              "      <td>[{'credit_id': '5716b72ac3a3686678012c84', 'de...</td>\n",
              "      <td>180590</td>\n",
              "    </tr>\n",
              "    <tr>\n",
              "      <th>2997</th>\n",
              "      <td>2998</td>\n",
              "      <td>NaN</td>\n",
              "      <td>65000000</td>\n",
              "      <td>[{'id': 80, 'name': 'Crime'}, {'id': 28, 'name...</td>\n",
              "      <td>NaN</td>\n",
              "      <td>tt0116908</td>\n",
              "      <td>en</td>\n",
              "      <td>The Long Kiss Goodnight</td>\n",
              "      <td>Samantha Caine, suburban homemaker, is the ide...</td>\n",
              "      <td>14.482345</td>\n",
              "      <td>...</td>\n",
              "      <td>10/11/96</td>\n",
              "      <td>120.0</td>\n",
              "      <td>[{'iso_639_1': 'en', 'name': 'English'}]</td>\n",
              "      <td>Released</td>\n",
              "      <td>What's forgotten is not always gone.</td>\n",
              "      <td>The Long Kiss Goodnight</td>\n",
              "      <td>[{'id': 441, 'name': 'assassination'}, {'id': ...</td>\n",
              "      <td>[{'cast_id': 10, 'character': 'Samantha Caine ...</td>\n",
              "      <td>[{'credit_id': '52fe443a9251416c7502d579', 'de...</td>\n",
              "      <td>89456761</td>\n",
              "    </tr>\n",
              "    <tr>\n",
              "      <th>2998</th>\n",
              "      <td>2999</td>\n",
              "      <td>NaN</td>\n",
              "      <td>42000000</td>\n",
              "      <td>[{'id': 35, 'name': 'Comedy'}, {'id': 10749, '...</td>\n",
              "      <td>http://www.alongcamepolly.com/</td>\n",
              "      <td>tt0343135</td>\n",
              "      <td>en</td>\n",
              "      <td>Along Came Polly</td>\n",
              "      <td>Reuben Feffer is a guy who's spent his entire ...</td>\n",
              "      <td>15.725542</td>\n",
              "      <td>...</td>\n",
              "      <td>1/16/04</td>\n",
              "      <td>90.0</td>\n",
              "      <td>[{'iso_639_1': 'en', 'name': 'English'}]</td>\n",
              "      <td>Released</td>\n",
              "      <td>For the most cautious man on Earth, life is ab...</td>\n",
              "      <td>Along Came Polly</td>\n",
              "      <td>[{'id': 966, 'name': 'beach'}, {'id': 2676, 'n...</td>\n",
              "      <td>[{'cast_id': 8, 'character': 'Reuben Feffer', ...</td>\n",
              "      <td>[{'credit_id': '556f817b9251410866000a63', 'de...</td>\n",
              "      <td>171963386</td>\n",
              "    </tr>\n",
              "    <tr>\n",
              "      <th>2999</th>\n",
              "      <td>3000</td>\n",
              "      <td>NaN</td>\n",
              "      <td>35000000</td>\n",
              "      <td>[{'id': 53, 'name': 'Thriller'}, {'id': 28, 'n...</td>\n",
              "      <td>http://www.abductionthefilm.com/</td>\n",
              "      <td>tt1600195</td>\n",
              "      <td>en</td>\n",
              "      <td>Abduction</td>\n",
              "      <td>A young man sets out to uncover the truth abou...</td>\n",
              "      <td>10.512109</td>\n",
              "      <td>...</td>\n",
              "      <td>9/22/11</td>\n",
              "      <td>106.0</td>\n",
              "      <td>[{'iso_639_1': 'en', 'name': 'English'}]</td>\n",
              "      <td>Released</td>\n",
              "      <td>They stole his life. He's taking it back.</td>\n",
              "      <td>Abduction</td>\n",
              "      <td>[{'id': 591, 'name': 'cia'}, {'id': 822, 'name...</td>\n",
              "      <td>[{'cast_id': 2, 'character': 'Nathan Harper', ...</td>\n",
              "      <td>[{'credit_id': '5391990d0e0a260fb5001629', 'de...</td>\n",
              "      <td>82087155</td>\n",
              "    </tr>\n",
              "  </tbody>\n",
              "</table>\n",
              "<p>3000 rows × 23 columns</p>\n",
              "</div>\n",
              "      <button class=\"colab-df-convert\" onclick=\"convertToInteractive('df-0920e5f6-7948-4983-9995-896dfc8c1844')\"\n",
              "              title=\"Convert this dataframe to an interactive table.\"\n",
              "              style=\"display:none;\">\n",
              "        \n",
              "  <svg xmlns=\"http://www.w3.org/2000/svg\" height=\"24px\"viewBox=\"0 0 24 24\"\n",
              "       width=\"24px\">\n",
              "    <path d=\"M0 0h24v24H0V0z\" fill=\"none\"/>\n",
              "    <path d=\"M18.56 5.44l.94 2.06.94-2.06 2.06-.94-2.06-.94-.94-2.06-.94 2.06-2.06.94zm-11 1L8.5 8.5l.94-2.06 2.06-.94-2.06-.94L8.5 2.5l-.94 2.06-2.06.94zm10 10l.94 2.06.94-2.06 2.06-.94-2.06-.94-.94-2.06-.94 2.06-2.06.94z\"/><path d=\"M17.41 7.96l-1.37-1.37c-.4-.4-.92-.59-1.43-.59-.52 0-1.04.2-1.43.59L10.3 9.45l-7.72 7.72c-.78.78-.78 2.05 0 2.83L4 21.41c.39.39.9.59 1.41.59.51 0 1.02-.2 1.41-.59l7.78-7.78 2.81-2.81c.8-.78.8-2.07 0-2.86zM5.41 20L4 18.59l7.72-7.72 1.47 1.35L5.41 20z\"/>\n",
              "  </svg>\n",
              "      </button>\n",
              "      \n",
              "  <style>\n",
              "    .colab-df-container {\n",
              "      display:flex;\n",
              "      flex-wrap:wrap;\n",
              "      gap: 12px;\n",
              "    }\n",
              "\n",
              "    .colab-df-convert {\n",
              "      background-color: #E8F0FE;\n",
              "      border: none;\n",
              "      border-radius: 50%;\n",
              "      cursor: pointer;\n",
              "      display: none;\n",
              "      fill: #1967D2;\n",
              "      height: 32px;\n",
              "      padding: 0 0 0 0;\n",
              "      width: 32px;\n",
              "    }\n",
              "\n",
              "    .colab-df-convert:hover {\n",
              "      background-color: #E2EBFA;\n",
              "      box-shadow: 0px 1px 2px rgba(60, 64, 67, 0.3), 0px 1px 3px 1px rgba(60, 64, 67, 0.15);\n",
              "      fill: #174EA6;\n",
              "    }\n",
              "\n",
              "    [theme=dark] .colab-df-convert {\n",
              "      background-color: #3B4455;\n",
              "      fill: #D2E3FC;\n",
              "    }\n",
              "\n",
              "    [theme=dark] .colab-df-convert:hover {\n",
              "      background-color: #434B5C;\n",
              "      box-shadow: 0px 1px 3px 1px rgba(0, 0, 0, 0.15);\n",
              "      filter: drop-shadow(0px 1px 2px rgba(0, 0, 0, 0.3));\n",
              "      fill: #FFFFFF;\n",
              "    }\n",
              "  </style>\n",
              "\n",
              "      <script>\n",
              "        const buttonEl =\n",
              "          document.querySelector('#df-0920e5f6-7948-4983-9995-896dfc8c1844 button.colab-df-convert');\n",
              "        buttonEl.style.display =\n",
              "          google.colab.kernel.accessAllowed ? 'block' : 'none';\n",
              "\n",
              "        async function convertToInteractive(key) {\n",
              "          const element = document.querySelector('#df-0920e5f6-7948-4983-9995-896dfc8c1844');\n",
              "          const dataTable =\n",
              "            await google.colab.kernel.invokeFunction('convertToInteractive',\n",
              "                                                     [key], {});\n",
              "          if (!dataTable) return;\n",
              "\n",
              "          const docLinkHtml = 'Like what you see? Visit the ' +\n",
              "            '<a target=\"_blank\" href=https://colab.research.google.com/notebooks/data_table.ipynb>data table notebook</a>'\n",
              "            + ' to learn more about interactive tables.';\n",
              "          element.innerHTML = '';\n",
              "          dataTable['output_type'] = 'display_data';\n",
              "          await google.colab.output.renderOutput(dataTable, element);\n",
              "          const docLink = document.createElement('div');\n",
              "          docLink.innerHTML = docLinkHtml;\n",
              "          element.appendChild(docLink);\n",
              "        }\n",
              "      </script>\n",
              "    </div>\n",
              "  </div>\n",
              "  "
            ]
          },
          "metadata": {},
          "execution_count": 8
        }
      ]
    },
    {
      "cell_type": "code",
      "source": [
        "train_df.columns"
      ],
      "metadata": {
        "colab": {
          "base_uri": "https://localhost:8080/"
        },
        "id": "zjmekjHHbeni",
        "outputId": "8ce1cf33-3705-4ba9-eb5a-b1eaa1ce47ba"
      },
      "execution_count": 9,
      "outputs": [
        {
          "output_type": "execute_result",
          "data": {
            "text/plain": [
              "Index(['id', 'belongs_to_collection', 'budget', 'genres', 'homepage',\n",
              "       'imdb_id', 'original_language', 'original_title', 'overview',\n",
              "       'popularity', 'poster_path', 'production_companies',\n",
              "       'production_countries', 'release_date', 'runtime', 'spoken_languages',\n",
              "       'status', 'tagline', 'title', 'Keywords', 'cast', 'crew', 'revenue'],\n",
              "      dtype='object')"
            ]
          },
          "metadata": {},
          "execution_count": 9
        }
      ]
    },
    {
      "cell_type": "code",
      "source": [
        "m = train_df.shape[0]\n",
        "n = train_df.shape[1]\n",
        "m, n"
      ],
      "metadata": {
        "id": "G8ZnqO3WXHXv",
        "colab": {
          "base_uri": "https://localhost:8080/"
        },
        "outputId": "74886a0a-148a-4a69-dc05-ea7338bc90bd"
      },
      "execution_count": 10,
      "outputs": [
        {
          "output_type": "execute_result",
          "data": {
            "text/plain": [
              "(3000, 23)"
            ]
          },
          "metadata": {},
          "execution_count": 10
        }
      ]
    },
    {
      "cell_type": "code",
      "source": [
        "  train_df.info()"
      ],
      "metadata": {
        "colab": {
          "base_uri": "https://localhost:8080/"
        },
        "id": "sQH8PoTdrI3A",
        "outputId": "8c317f6e-9bcc-4255-c4cd-69a5b44f5e48"
      },
      "execution_count": 11,
      "outputs": [
        {
          "output_type": "stream",
          "name": "stdout",
          "text": [
            "<class 'pandas.core.frame.DataFrame'>\n",
            "RangeIndex: 3000 entries, 0 to 2999\n",
            "Data columns (total 23 columns):\n",
            " #   Column                 Non-Null Count  Dtype  \n",
            "---  ------                 --------------  -----  \n",
            " 0   id                     3000 non-null   int64  \n",
            " 1   belongs_to_collection  604 non-null    object \n",
            " 2   budget                 3000 non-null   int64  \n",
            " 3   genres                 2993 non-null   object \n",
            " 4   homepage               946 non-null    object \n",
            " 5   imdb_id                3000 non-null   object \n",
            " 6   original_language      3000 non-null   object \n",
            " 7   original_title         3000 non-null   object \n",
            " 8   overview               2992 non-null   object \n",
            " 9   popularity             3000 non-null   float64\n",
            " 10  poster_path            2999 non-null   object \n",
            " 11  production_companies   2844 non-null   object \n",
            " 12  production_countries   2945 non-null   object \n",
            " 13  release_date           3000 non-null   object \n",
            " 14  runtime                2998 non-null   float64\n",
            " 15  spoken_languages       2980 non-null   object \n",
            " 16  status                 3000 non-null   object \n",
            " 17  tagline                2403 non-null   object \n",
            " 18  title                  3000 non-null   object \n",
            " 19  Keywords               2724 non-null   object \n",
            " 20  cast                   2987 non-null   object \n",
            " 21  crew                   2984 non-null   object \n",
            " 22  revenue                3000 non-null   int64  \n",
            "dtypes: float64(2), int64(3), object(18)\n",
            "memory usage: 539.2+ KB\n"
          ]
        }
      ]
    },
    {
      "cell_type": "markdown",
      "source": [
        "## Feature Engineering"
      ],
      "metadata": {
        "id": "0erjmcUsO9SR"
      }
    },
    {
      "cell_type": "markdown",
      "source": [
        "Features like 'belongs_to_collection', 'imdb_id', 'poster_path' does not help us get the revenue whereas features like 'original_title', 'overview', 'tagline' requires nlp.\n",
        "\n",
        "Features such as 'budget', 'popularity' and 'runtime' can be used at it is with normalization, whereas for 'release date' need to be converted into date-time format.\n",
        "\n",
        "And for other categorical features one-hot encoding can be performed"
      ],
      "metadata": {
        "id": "oiL79cR6bpt0"
      }
    },
    {
      "cell_type": "code",
      "source": [
        "import numpy as np\n",
        "import re"
      ],
      "metadata": {
        "id": "l4yickDMPC7a"
      },
      "execution_count": 12,
      "outputs": []
    },
    {
      "cell_type": "markdown",
      "source": [
        "### Dealing with the Categorical attributes"
      ],
      "metadata": {
        "id": "0r7wIUKVTAin"
      }
    },
    {
      "cell_type": "markdown",
      "source": [
        "**GENRES**"
      ],
      "metadata": {
        "id": "jmQGcxD5dWWn"
      }
    },
    {
      "cell_type": "code",
      "source": [
        "def get_genre(df, entry):\n",
        "  row = df.iloc[entry]['genres']\n",
        "  if row is not np.nan:\n",
        "    alist = list(map(str.strip, re.split(\"'|[|]|{|}|,|:|\\t\", row[1:-1])))\n",
        "    newList = [ele for ele in alist if ele]\n",
        "    return newList[3::4]\n",
        "  else:\n",
        "    return []"
      ],
      "metadata": {
        "id": "LbMfOIGgNHxe"
      },
      "execution_count": 13,
      "outputs": []
    },
    {
      "cell_type": "code",
      "source": [
        "def get_all_genres():\n",
        "  emb_features = []\n",
        "  for entry in range(m):\n",
        "    alist = get_genre(train_df, entry)\n",
        "    for ele in alist:\n",
        "      if ele not in emb_features:\n",
        "        emb_features.append(ele)\n",
        "  return emb_features"
      ],
      "metadata": {
        "id": "o50Iyg4LPmgY"
      },
      "execution_count": 14,
      "outputs": []
    },
    {
      "cell_type": "code",
      "source": [
        "genres = get_all_genres()\n",
        "genres"
      ],
      "metadata": {
        "colab": {
          "base_uri": "https://localhost:8080/"
        },
        "id": "JWXte0jYZlgd",
        "outputId": "421daa79-b153-43fe-e80f-821e70b618bc"
      },
      "execution_count": 15,
      "outputs": [
        {
          "output_type": "execute_result",
          "data": {
            "text/plain": [
              "['Comedy',\n",
              " 'Drama',\n",
              " 'Family',\n",
              " 'Romance',\n",
              " 'Thriller',\n",
              " 'Action',\n",
              " 'Animation',\n",
              " 'Adventure',\n",
              " 'Horror',\n",
              " 'Documentary',\n",
              " 'Music',\n",
              " 'Crime',\n",
              " 'Science Fiction',\n",
              " 'Mystery',\n",
              " 'Foreign',\n",
              " 'Fantasy',\n",
              " 'War',\n",
              " 'Western',\n",
              " 'History',\n",
              " 'TV Movie']"
            ]
          },
          "metadata": {},
          "execution_count": 15
        }
      ]
    },
    {
      "cell_type": "code",
      "source": [
        "genre_len = len(genres)"
      ],
      "metadata": {
        "id": "XW4_AKFh2_9F"
      },
      "execution_count": 16,
      "outputs": []
    },
    {
      "cell_type": "code",
      "source": [
        "genre_train_df = pd.DataFrame(columns = genres, dtype = np.int64) \n",
        "genre_test_df = pd.DataFrame(columns = genres, dtype = np.int64) "
      ],
      "metadata": {
        "id": "6Z13fqi3zaoR"
      },
      "execution_count": 17,
      "outputs": []
    },
    {
      "cell_type": "code",
      "source": [
        "def fill_genre_df(df, genre_df):\n",
        "  no_of_rows = df.shape[0]\n",
        "  for entry in range(no_of_rows):\n",
        "    row_genres = get_genre(df, entry)\n",
        "    row_list = []\n",
        "    for index in genres:\n",
        "      if index in row_genres:\n",
        "        row_list.append(1)\n",
        "      else:\n",
        "        row_list.append(0) \n",
        "    genre_df.loc[entry] = row_list"
      ],
      "metadata": {
        "id": "sa_2RR4TyGp8"
      },
      "execution_count": 18,
      "outputs": []
    },
    {
      "cell_type": "code",
      "source": [
        "fill_genre_df(train_df, genre_train_df)\n",
        "fill_genre_df(test_df, genre_test_df)"
      ],
      "metadata": {
        "id": "Ap9ZDhxyPfKz"
      },
      "execution_count": 19,
      "outputs": []
    },
    {
      "cell_type": "code",
      "source": [
        "train_df = pd.concat([train_df, genre_train_df], axis = 1)\n",
        "test_df = pd.concat([test_df, genre_test_df], axis = 1)"
      ],
      "metadata": {
        "id": "H3XkfOOB5MYJ"
      },
      "execution_count": 20,
      "outputs": []
    },
    {
      "cell_type": "markdown",
      "source": [
        "**HOMEPAGE**"
      ],
      "metadata": {
        "id": "USBCTeaJjd_s"
      }
    },
    {
      "cell_type": "code",
      "source": [
        "def get_homepage_avail(df):\n",
        "  homepage_avail = []\n",
        "  for ele in df['homepage']: \n",
        "    if ele:\n",
        "      homepage_avail.append(1)\n",
        "    else:\n",
        "      homepage_avail.append(0)\n",
        "  return homepage_avail"
      ],
      "metadata": {
        "id": "qf6GCegDjiuO"
      },
      "execution_count": 21,
      "outputs": []
    },
    {
      "cell_type": "code",
      "source": [
        "train_homepage_list = get_homepage_avail(train_df)\n",
        "test_homepage_list = get_homepage_avail(test_df)"
      ],
      "metadata": {
        "id": "8M0xblTllx68"
      },
      "execution_count": 22,
      "outputs": []
    },
    {
      "cell_type": "code",
      "source": [
        "homepage_train_df = pd.DataFrame(train_homepage_list, columns = ['homepage_avail'], dtype = np.int64)\n",
        "homepage_test_df = pd.DataFrame(test_homepage_list, columns = ['homepage_avail'], dtype = np.int64)"
      ],
      "metadata": {
        "id": "F-0TyhKVmAZB"
      },
      "execution_count": 23,
      "outputs": []
    },
    {
      "cell_type": "code",
      "source": [
        "train_df = pd.concat([train_df, homepage_train_df], axis = 1)\n",
        "test_df = pd.concat([test_df, homepage_test_df], axis = 1)"
      ],
      "metadata": {
        "id": "K9KzGY4Onp9h"
      },
      "execution_count": 24,
      "outputs": []
    },
    {
      "cell_type": "markdown",
      "source": [
        "**PRODUCTION COMPANY**"
      ],
      "metadata": {
        "id": "I72c8QroSagQ"
      }
    },
    {
      "cell_type": "code",
      "source": [
        "prod_companies = []\n",
        "for entry in range(m):\n",
        "  row = train_df.iloc[entry]['production_companies']\n",
        "  if row is not np.nan:\n",
        "    alist = list(map(str.strip, re.split(\"'|[|]|{|}|,|:|\\t\", row[1:-1])))\n",
        "    newList = [ele for ele in alist if ele]\n",
        "    #print(newList)\n",
        "    for ele in newList[1::4]:\n",
        "      if ele not in prod_companies:\n",
        "        prod_companies.append(ele)"
      ],
      "metadata": {
        "id": "Ilg3P4xNfImB"
      },
      "execution_count": 25,
      "outputs": []
    },
    {
      "cell_type": "code",
      "source": [
        "len(prod_companies)\n"
      ],
      "metadata": {
        "colab": {
          "base_uri": "https://localhost:8080/"
        },
        "id": "a7PvLo_6eug9",
        "outputId": "1e7a04d3-f0bb-4452-8956-f754336157e5"
      },
      "execution_count": 26,
      "outputs": [
        {
          "output_type": "execute_result",
          "data": {
            "text/plain": [
              "3646"
            ]
          },
          "metadata": {},
          "execution_count": 26
        }
      ]
    },
    {
      "cell_type": "markdown",
      "source": [
        "Their are total of 3646 production companies which will lead to 3646 features by one-hot encoding which is not feasible to have as number of instances is 3000.\n",
        "\n",
        "Hence using num of production associated with a movie"
      ],
      "metadata": {
        "id": "AUtUQ6EMh54e"
      }
    },
    {
      "cell_type": "code",
      "source": [
        "def get_no_prod_company(df, entry):\n",
        "  row = df.iloc[entry]['production_companies']\n",
        "  if row is not np.nan:\n",
        "    alist = list(map(str.strip, re.split(\"'|[|]|{|}|,|:|\\t\", row[1:-1])))\n",
        "    newList = [ele for ele in alist if ele]\n",
        "    return len(newList[1::4])\n",
        "  else:\n",
        "    return 0"
      ],
      "metadata": {
        "id": "VqMU6udbTwfK"
      },
      "execution_count": 27,
      "outputs": []
    },
    {
      "cell_type": "code",
      "source": [
        "def get_all_no_of_prod_company(df):\n",
        "  no_prod_companies = []\n",
        "  no_of_rows = df.shape[0]\n",
        "  for entry in range(no_of_rows):\n",
        "    num_ = get_no_prod_company(df, entry)\n",
        "    no_prod_companies.append(num_)\n",
        "  return no_prod_companies"
      ],
      "metadata": {
        "id": "nEChfjx_hxeU"
      },
      "execution_count": 28,
      "outputs": []
    },
    {
      "cell_type": "code",
      "source": [
        "train_no_prod_companies = get_all_no_of_prod_company(train_df)\n",
        "test_no_prod_companies = get_all_no_of_prod_company(test_df)"
      ],
      "metadata": {
        "id": "2wvGJkK6VJsa"
      },
      "execution_count": 29,
      "outputs": []
    },
    {
      "cell_type": "code",
      "source": [
        "prod_train_df = pd.DataFrame(train_no_prod_companies, columns = ['prod_company'], dtype = np.float64)\n",
        "prod_test_df = pd.DataFrame(test_no_prod_companies, columns = ['prod_company'], dtype = np.float64)"
      ],
      "metadata": {
        "id": "CVrLgxIO6ZWO"
      },
      "execution_count": 30,
      "outputs": []
    },
    {
      "cell_type": "code",
      "source": [
        "train_df = pd.concat([train_df, prod_train_df], axis = 1)\n",
        "test_df = pd.concat([test_df, prod_test_df], axis = 1)"
      ],
      "metadata": {
        "id": "jhCbqC4u69Bs"
      },
      "execution_count": 31,
      "outputs": []
    },
    {
      "cell_type": "markdown",
      "source": [
        "**PRODUCTION COUNTRIES**"
      ],
      "metadata": {
        "id": "d97Q9ZflV4-g"
      }
    },
    {
      "cell_type": "code",
      "source": [
        "def get_country(df, entry):\n",
        "  row = df.iloc[entry]['production_countries']\n",
        "  if row is not np.nan:\n",
        "    alist = list(map(str.strip, re.split(\"'|[|]|{|}|,|:|\\t\", row[1:-1])))\n",
        "    newList = [ele for ele in alist if ele]\n",
        "    return newList[3::4]\n",
        "  else:\n",
        "    return []"
      ],
      "metadata": {
        "id": "kDX-FayDWEXs"
      },
      "execution_count": 32,
      "outputs": []
    },
    {
      "cell_type": "code",
      "source": [
        "def get_all_countries():\n",
        "  emb_features = []\n",
        "  for entry in range(m):\n",
        "    alist = get_country(train_df, entry)\n",
        "    for ele in alist:\n",
        "      if ele not in emb_features:\n",
        "        emb_features.append(ele)\n",
        "  return emb_features"
      ],
      "metadata": {
        "id": "omsNh9UpWJTG"
      },
      "execution_count": 33,
      "outputs": []
    },
    {
      "cell_type": "code",
      "source": [
        "prod_countries = get_all_countries()\n",
        "prod_countries"
      ],
      "metadata": {
        "colab": {
          "base_uri": "https://localhost:8080/"
        },
        "id": "cVJ9Wmzejk9S",
        "outputId": "aa6514ef-bd99-455e-c6a5-9ff5fd9525ac"
      },
      "execution_count": 34,
      "outputs": [
        {
          "output_type": "execute_result",
          "data": {
            "text/plain": [
              "['United States of America',\n",
              " 'India',\n",
              " 'South Korea',\n",
              " 'Canada',\n",
              " 'Serbia',\n",
              " 'United Kingdom',\n",
              " 'Austria',\n",
              " 'Germany',\n",
              " 'France',\n",
              " 'New Zealand',\n",
              " 'Japan',\n",
              " 'Ireland',\n",
              " 'Italy',\n",
              " 'Israel',\n",
              " 'Belgium',\n",
              " 'Czech Republic',\n",
              " 'China',\n",
              " 'Brazil',\n",
              " 'Argentina',\n",
              " 'Chile',\n",
              " 'Peru',\n",
              " 'Hong Kong',\n",
              " 'Russia',\n",
              " 'Spain',\n",
              " 'Turkey',\n",
              " 'Australia',\n",
              " 'Sweden',\n",
              " 'Luxembourg',\n",
              " 'South Africa',\n",
              " 'Switzerland',\n",
              " 'Iran',\n",
              " 'Morocco',\n",
              " 'Netherlands',\n",
              " 'Philippines',\n",
              " 'Iceland',\n",
              " 'Denmark',\n",
              " 'Taiwan',\n",
              " 'Mongolia',\n",
              " 'Hungary',\n",
              " 'Mexico',\n",
              " 'Romania',\n",
              " 'Greece',\n",
              " 'United Arab Emirates',\n",
              " 'Puerto Rico',\n",
              " 'Finland',\n",
              " 'Cambodia',\n",
              " 'Norway',\n",
              " 'Poland',\n",
              " 'Malta',\n",
              " 'Namibia',\n",
              " 'Bosnia and Herzegovina',\n",
              " 'Serbia and Montenegro',\n",
              " 'Pakistan',\n",
              " 'Algeria',\n",
              " 'Ethiopia',\n",
              " 'Qatar',\n",
              " 'Tunisia',\n",
              " 'Portugal',\n",
              " 'Bulgaria',\n",
              " 'Slovenia',\n",
              " 'Ukraine',\n",
              " 'Saudi Arabia',\n",
              " 'Jordan',\n",
              " 'Croatia',\n",
              " 'Singapore',\n",
              " 'Cyprus',\n",
              " 'Uruguay',\n",
              " 'Paraguay',\n",
              " 'Mauritania',\n",
              " 'Costa Rica',\n",
              " 'Bahamas',\n",
              " 'Burkina Faso',\n",
              " 'Ghana',\n",
              " 'Indonesia']"
            ]
          },
          "metadata": {},
          "execution_count": 34
        }
      ]
    },
    {
      "cell_type": "code",
      "source": [
        "prod_country_len = len(prod_countries)"
      ],
      "metadata": {
        "id": "FOLICHIe9nvK"
      },
      "execution_count": 35,
      "outputs": []
    },
    {
      "cell_type": "code",
      "source": [
        "prod_train_country_df = pd.DataFrame(columns = prod_countries, dtype = np.int64)\n",
        "prod_test_country_df = pd.DataFrame(columns = prod_countries, dtype = np.int64) "
      ],
      "metadata": {
        "id": "GH9d1Tyr8hDV"
      },
      "execution_count": 36,
      "outputs": []
    },
    {
      "cell_type": "code",
      "source": [
        "def fill_country_df(df, country_df):\n",
        "  no_of_rows = df.shape[0]\n",
        "  for entry in range(no_of_rows):\n",
        "    row_country = get_country(df, entry)\n",
        "    row_list = []\n",
        "    for index in prod_countries:\n",
        "      if index in row_country:\n",
        "        row_list.append(1)\n",
        "      else:\n",
        "        row_list.append(0) \n",
        "    country_df.loc[entry] = row_list"
      ],
      "metadata": {
        "id": "9ZqoDZhtWyka"
      },
      "execution_count": 37,
      "outputs": []
    },
    {
      "cell_type": "code",
      "source": [
        "fill_country_df(train_df, prod_train_country_df)\n",
        "fill_country_df(test_df, prod_test_country_df)"
      ],
      "metadata": {
        "id": "pgqpfDQb7qm-"
      },
      "execution_count": 38,
      "outputs": []
    },
    {
      "cell_type": "code",
      "source": [
        "train_df = pd.concat([train_df, prod_train_country_df], axis = 1)\n",
        "test_df = pd.concat([test_df, prod_test_country_df], axis = 1)"
      ],
      "metadata": {
        "id": "SG-QebsZ946L"
      },
      "execution_count": 39,
      "outputs": []
    },
    {
      "cell_type": "markdown",
      "source": [
        "**LANGUAGE**"
      ],
      "metadata": {
        "id": "r-RHYfIGXtBa"
      }
    },
    {
      "cell_type": "code",
      "source": [
        "def get_language(df, entry):\n",
        "  row = df.iloc[entry]['spoken_languages']\n",
        "  if row is not np.nan:\n",
        "    alist = list(map(str.strip, re.split(\"'|[|]|{|}|,|:|\\t\", row[1:-1])))\n",
        "    newList = [ele for ele in alist if ele]\n",
        "    row_lang = []\n",
        "    tag = 0\n",
        "    for ele in newList:\n",
        "      if tag == 1:\n",
        "        tag = 0\n",
        "        row_lang.append(ele)\n",
        "      if ele == 'iso_639_1':\n",
        "        tag = 1\n",
        "    return row_lang\n",
        "  else:\n",
        "    return []"
      ],
      "metadata": {
        "id": "cJpopqOUX3M_"
      },
      "execution_count": 40,
      "outputs": []
    },
    {
      "cell_type": "code",
      "source": [
        "def get_all_languages():\n",
        "  emb_features = []\n",
        "  for entry in range(m):\n",
        "    alist = get_language(train_df, entry)\n",
        "    for ele in alist:\n",
        "      if ele not in emb_features:\n",
        "        emb_features.append(ele)\n",
        "  return emb_features"
      ],
      "metadata": {
        "id": "qQClTfZ6Y1C7"
      },
      "execution_count": 41,
      "outputs": []
    },
    {
      "cell_type": "code",
      "source": [
        "lang = get_all_languages()"
      ],
      "metadata": {
        "id": "7u_uLA3Glpxh"
      },
      "execution_count": 42,
      "outputs": []
    },
    {
      "cell_type": "code",
      "source": [
        "lang_len = len(lang)"
      ],
      "metadata": {
        "id": "pLXvAkH3_c12"
      },
      "execution_count": 43,
      "outputs": []
    },
    {
      "cell_type": "code",
      "source": [
        "lang_train_df = pd.DataFrame(columns = lang, dtype = np.int64)\n",
        "lang_test_df = pd.DataFrame(columns = lang, dtype = np.int64) "
      ],
      "metadata": {
        "id": "W4hlKW75_XDp"
      },
      "execution_count": 44,
      "outputs": []
    },
    {
      "cell_type": "code",
      "source": [
        "def fill_language_df(df, lang_df):\n",
        "  no_of_rows = df.shape[0]\n",
        "  for entry in range(no_of_rows):\n",
        "    row_lang = get_language(df, entry)\n",
        "    row_list = []\n",
        "    for index in lang:\n",
        "      if index in row_lang:\n",
        "        row_list.append(1)\n",
        "      else:\n",
        "        row_list.append(0) \n",
        "    lang_df.loc[entry] = row_list"
      ],
      "metadata": {
        "id": "qy4vtIlDZbZv"
      },
      "execution_count": 45,
      "outputs": []
    },
    {
      "cell_type": "code",
      "source": [
        "fill_language_df(train_df, lang_train_df)\n",
        "fill_language_df(test_df, lang_test_df)"
      ],
      "metadata": {
        "id": "8hkus65k-S3h"
      },
      "execution_count": 46,
      "outputs": []
    },
    {
      "cell_type": "code",
      "source": [
        "train_df = pd.concat([train_df, lang_train_df], axis = 1)\n",
        "test_df = pd.concat([test_df, lang_test_df], axis = 1)"
      ],
      "metadata": {
        "id": "gNrEayHodtQp"
      },
      "execution_count": 47,
      "outputs": []
    },
    {
      "cell_type": "markdown",
      "source": [
        "**KEYWORDS**"
      ],
      "metadata": {
        "id": "aR3p1oqtaLbR"
      }
    },
    {
      "cell_type": "markdown",
      "source": [
        "Their are total of 7325 production companies which will lead to 7325 features by one-hot encoding which is not feasible to have as number of instances is 3000.\n",
        "\n",
        "Hence using num of keywords associated with a movie"
      ],
      "metadata": {
        "id": "HfmCIyDtpFW9"
      }
    },
    {
      "cell_type": "code",
      "source": [
        "def get_no_keyword(df, entry):\n",
        "  row = df.iloc[entry]['Keywords']\n",
        "  if row is not np.nan:\n",
        "    alist = list(map(str.strip, re.split(\"'|[|]|{|}|,|:|\\t\", row[1:-1])))\n",
        "    newList = [ele for ele in alist if ele]\n",
        "    return len(newList[1::4])\n",
        "  else:\n",
        "    return 0"
      ],
      "metadata": {
        "id": "heg2AqhWaj-W"
      },
      "execution_count": 48,
      "outputs": []
    },
    {
      "cell_type": "code",
      "source": [
        "def get_all_no_keywords(df):\n",
        "  no_keywords = []\n",
        "  no_of_rows = df.shape[0]\n",
        "  for entry in range(no_of_rows):\n",
        "    num_ = get_no_keyword(df, entry)\n",
        "    no_keywords.append(num_)\n",
        "  return no_keywords"
      ],
      "metadata": {
        "id": "S--5BNdKarBz"
      },
      "execution_count": 49,
      "outputs": []
    },
    {
      "cell_type": "code",
      "source": [
        "train_no_keywords = get_all_no_keywords(train_df)\n",
        "test_no_keywords = get_all_no_keywords(test_df)"
      ],
      "metadata": {
        "id": "30_yH5mMazbT"
      },
      "execution_count": 50,
      "outputs": []
    },
    {
      "cell_type": "code",
      "source": [
        "key_train_df = pd.DataFrame(train_no_keywords, columns = ['new_keywords'], dtype = np.float64)\n",
        "key_test_df = pd.DataFrame(test_no_keywords, columns = ['new_keywords'], dtype = np.float64)"
      ],
      "metadata": {
        "id": "g0Ugwc5JpXgQ"
      },
      "execution_count": 51,
      "outputs": []
    },
    {
      "cell_type": "code",
      "source": [
        "train_df = pd.concat([train_df, key_train_df], axis = 1)\n",
        "test_df = pd.concat([test_df, key_test_df], axis = 1)"
      ],
      "metadata": {
        "id": "TSu2acWapjTV"
      },
      "execution_count": 52,
      "outputs": []
    },
    {
      "cell_type": "markdown",
      "source": [
        "Same Analogy will be applied to **'CAST'** and **'CREW'**"
      ],
      "metadata": {
        "id": "Xg5-fCoZq37U"
      }
    },
    {
      "cell_type": "code",
      "source": [
        "def get_no_cast_crew(df, entry, feature):\n",
        "  row = df.iloc[entry][feature]\n",
        "  if row is not np.nan:\n",
        "    alist = list(map(str.strip, re.split(\"{\", row[1:-1])))\n",
        "    newList = [ele for ele in alist if ele]\n",
        "    return len(newList)\n",
        "  else:\n",
        "    return 0"
      ],
      "metadata": {
        "id": "EwHk65Mxfgpx"
      },
      "execution_count": 53,
      "outputs": []
    },
    {
      "cell_type": "code",
      "source": [
        "def get_all_cast_crew(df, feature):\n",
        "  no_c = []\n",
        "  no_of_rows = df.shape[0]\n",
        "  for entry in range(no_of_rows):\n",
        "    num_ = get_no_cast_crew(df, entry, feature)\n",
        "    no_c.append(num_)\n",
        "  return no_c"
      ],
      "metadata": {
        "id": "6zc4lF16f35w"
      },
      "execution_count": 54,
      "outputs": []
    },
    {
      "cell_type": "code",
      "source": [
        "train_no_cast = get_all_cast_crew(train_df, 'cast')\n",
        "test_no_cast = get_all_cast_crew(test_df, 'cast')"
      ],
      "metadata": {
        "id": "8yLQCei7q_p4"
      },
      "execution_count": 55,
      "outputs": []
    },
    {
      "cell_type": "code",
      "source": [
        "train_no_crew = get_all_cast_crew(train_df, 'crew')\n",
        "test_no_crew = get_all_cast_crew(test_df, 'crew')"
      ],
      "metadata": {
        "id": "9eC1lamngjDC"
      },
      "execution_count": 56,
      "outputs": []
    },
    {
      "cell_type": "code",
      "source": [
        "cast_train_df = pd.DataFrame(train_no_cast, columns = ['new_cast'], dtype = np.float64)\n",
        "cast_test_df = pd.DataFrame(test_no_cast, columns = ['new_cast'], dtype = np.float64)"
      ],
      "metadata": {
        "id": "oDIzpMH4g0aE"
      },
      "execution_count": 57,
      "outputs": []
    },
    {
      "cell_type": "code",
      "source": [
        "crew_train_df = pd.DataFrame(train_no_crew, columns = ['new_crew'], dtype = np.float64)\n",
        "crew_test_df = pd.DataFrame(test_no_crew, columns = ['new_crew'], dtype = np.float64)"
      ],
      "metadata": {
        "id": "JSBoRuGDg_46"
      },
      "execution_count": 58,
      "outputs": []
    },
    {
      "cell_type": "code",
      "source": [
        "train_df = pd.concat([train_df, cast_train_df], axis = 1)\n",
        "test_df = pd.concat([test_df, cast_test_df], axis = 1)"
      ],
      "metadata": {
        "id": "xO49yBobhKn5"
      },
      "execution_count": 59,
      "outputs": []
    },
    {
      "cell_type": "code",
      "source": [
        "train_df = pd.concat([train_df, crew_train_df], axis = 1)\n",
        "test_df = pd.concat([test_df, crew_test_df], axis = 1)"
      ],
      "metadata": {
        "id": "ilpgR3-ghQ0w"
      },
      "execution_count": 60,
      "outputs": []
    },
    {
      "cell_type": "markdown",
      "source": [
        "Dropping out the old attributes which is being modified into new attributes"
      ],
      "metadata": {
        "id": "dXYTwPMs3bHr"
      }
    },
    {
      "cell_type": "code",
      "source": [
        "old_feature = ['id', 'belongs_to_collection', 'genres', 'homepage', 'imdb_id', 'original_language', 'original_title', 'overview', 'poster_path', 'production_companies', 'production_countries', 'spoken_languages', 'status', 'tagline', 'title', 'Keywords', 'cast', 'crew']"
      ],
      "metadata": {
        "id": "dtqAHuTN2WBl"
      },
      "execution_count": 61,
      "outputs": []
    },
    {
      "cell_type": "code",
      "source": [
        "train_df.drop(old_feature, axis = 1, inplace=True)\n"
      ],
      "metadata": {
        "id": "bLIWDwHL27Jx"
      },
      "execution_count": 62,
      "outputs": []
    },
    {
      "cell_type": "code",
      "source": [
        "test_df.drop(old_feature, axis = 1, inplace=True)"
      ],
      "metadata": {
        "id": "Iaf-HzZm-axJ"
      },
      "execution_count": 63,
      "outputs": []
    },
    {
      "cell_type": "markdown",
      "source": [
        "### Dealing with date-time attributes"
      ],
      "metadata": {
        "id": "XzehSsRihei6"
      }
    },
    {
      "cell_type": "markdown",
      "source": [
        "**RELEASE DATE**"
      ],
      "metadata": {
        "id": "hsaKZ4fKhnok"
      }
    },
    {
      "cell_type": "code",
      "source": [
        "train_df['release_date'][0]"
      ],
      "metadata": {
        "colab": {
          "base_uri": "https://localhost:8080/",
          "height": 35
        },
        "id": "4qV1JvNUh1P8",
        "outputId": "df71f952-8da8-46f6-d835-09f08d521aff"
      },
      "execution_count": 64,
      "outputs": [
        {
          "output_type": "execute_result",
          "data": {
            "text/plain": [
              "'2/20/15'"
            ],
            "application/vnd.google.colaboratory.intrinsic+json": {
              "type": "string"
            }
          },
          "metadata": {},
          "execution_count": 64
        }
      ]
    },
    {
      "cell_type": "code",
      "source": [
        "def get_date_features(df):\n",
        "  df['release_date'] = pd.to_datetime(df['release_date'])\n",
        "  df['year'] = df['release_date'].dt.year\n",
        "  df['month'] = df['release_date'].dt.month\n",
        "  df['day'] = df['release_date'].dt.day\n",
        "  df['weak_of_year'] = df['release_date'].dt.week"
      ],
      "metadata": {
        "id": "6FqPY5R8rcb0"
      },
      "execution_count": 65,
      "outputs": []
    },
    {
      "cell_type": "code",
      "source": [
        "get_date_features(train_df)\n",
        "get_date_features(test_df)"
      ],
      "metadata": {
        "colab": {
          "base_uri": "https://localhost:8080/"
        },
        "id": "STErSgaxsbjQ",
        "outputId": "3497f331-3ae0-48a3-bf1f-ef0b3057c98e"
      },
      "execution_count": 66,
      "outputs": [
        {
          "output_type": "stream",
          "name": "stderr",
          "text": [
            "/usr/local/lib/python3.7/dist-packages/ipykernel_launcher.py:6: FutureWarning: Series.dt.weekofyear and Series.dt.week have been deprecated.  Please use Series.dt.isocalendar().week instead.\n",
            "  \n"
          ]
        }
      ]
    },
    {
      "cell_type": "code",
      "source": [
        "train_df.drop(['release_date'], axis = 1, inplace=True)\n",
        "test_df.drop(['release_date'], axis = 1, inplace=True)"
      ],
      "metadata": {
        "id": "YqyZLbP0T_bn"
      },
      "execution_count": 67,
      "outputs": []
    },
    {
      "cell_type": "markdown",
      "source": [
        "### Dealing with Numerical attributes"
      ],
      "metadata": {
        "id": "0cM4KYS2iW5O"
      }
    },
    {
      "cell_type": "markdown",
      "source": [
        "'id', 'belongs_to_collection', 'budget', 'genres', 'homepage',\n",
        "       'imdb_id', 'original_language', 'original_title', 'overview',\n",
        "       'popularity', 'poster_path', 'production_companies',\n",
        "       'production_countries', 'release_date', 'runtime', 'spoken_languages',\n",
        "       'status', 'tagline', 'title', 'Keywords', 'cast', 'crew', 'revenue'"
      ],
      "metadata": {
        "id": "doUhfZQLhyhj"
      }
    },
    {
      "cell_type": "code",
      "source": [
        "numerical_cols = ['budget', 'popularity', 'runtime', 'new_cast', 'new_crew', 'prod_company', 'new_keywords', 'day', 'month', 'year', 'weak_of_year']"
      ],
      "metadata": {
        "id": "Dmg2RNASh8TC"
      },
      "execution_count": 68,
      "outputs": []
    },
    {
      "cell_type": "code",
      "source": [
        "train_df[numerical_cols].isna().sum()"
      ],
      "metadata": {
        "colab": {
          "base_uri": "https://localhost:8080/"
        },
        "id": "O6ILqLVE0Tiz",
        "outputId": "2bc10b45-8831-4c79-a8dd-7a0554d0fbc5"
      },
      "execution_count": 69,
      "outputs": [
        {
          "output_type": "execute_result",
          "data": {
            "text/plain": [
              "budget          0\n",
              "popularity      0\n",
              "runtime         2\n",
              "new_cast        0\n",
              "new_crew        0\n",
              "prod_company    0\n",
              "new_keywords    0\n",
              "day             0\n",
              "month           0\n",
              "year            0\n",
              "weak_of_year    0\n",
              "dtype: int64"
            ]
          },
          "metadata": {},
          "execution_count": 69
        }
      ]
    },
    {
      "cell_type": "code",
      "source": [
        "test_df[numerical_cols].isna().sum()"
      ],
      "metadata": {
        "colab": {
          "base_uri": "https://localhost:8080/"
        },
        "id": "j9wHPL3n0iLK",
        "outputId": "47cd1c02-03c4-48a7-e4d0-d1e9e68e93cc"
      },
      "execution_count": 70,
      "outputs": [
        {
          "output_type": "execute_result",
          "data": {
            "text/plain": [
              "budget          0\n",
              "popularity      0\n",
              "runtime         4\n",
              "new_cast        0\n",
              "new_crew        0\n",
              "prod_company    0\n",
              "new_keywords    0\n",
              "day             1\n",
              "month           1\n",
              "year            1\n",
              "weak_of_year    1\n",
              "dtype: int64"
            ]
          },
          "metadata": {},
          "execution_count": 70
        }
      ]
    },
    {
      "cell_type": "markdown",
      "source": [
        "Only runtime attributes has na value in it"
      ],
      "metadata": {
        "id": "OEjdCXCe1HJH"
      }
    },
    {
      "cell_type": "code",
      "source": [
        "max_runtime = train_df['runtime'].max()"
      ],
      "metadata": {
        "id": "NTDF7Rft00pR"
      },
      "execution_count": 71,
      "outputs": []
    },
    {
      "cell_type": "code",
      "source": [
        "train_df['runtime'] = train_df['runtime'].fillna(max_runtime)\n",
        "test_df['runtime'] = test_df['runtime'].fillna(max_runtime)"
      ],
      "metadata": {
        "id": "qjHfKgKy1WxM"
      },
      "execution_count": 72,
      "outputs": []
    },
    {
      "cell_type": "code",
      "source": [
        "train_df[numerical_cols].isna().sum()"
      ],
      "metadata": {
        "colab": {
          "base_uri": "https://localhost:8080/"
        },
        "id": "VeKa9QXU1k7p",
        "outputId": "0ca63e40-c5e5-49aa-f4d6-1474ba64e10f"
      },
      "execution_count": 73,
      "outputs": [
        {
          "output_type": "execute_result",
          "data": {
            "text/plain": [
              "budget          0\n",
              "popularity      0\n",
              "runtime         0\n",
              "new_cast        0\n",
              "new_crew        0\n",
              "prod_company    0\n",
              "new_keywords    0\n",
              "day             0\n",
              "month           0\n",
              "year            0\n",
              "weak_of_year    0\n",
              "dtype: int64"
            ]
          },
          "metadata": {},
          "execution_count": 73
        }
      ]
    },
    {
      "cell_type": "markdown",
      "source": [
        "Scaling Numeric Inputs"
      ],
      "metadata": {
        "id": "THeq50PG7Q6w"
      }
    },
    {
      "cell_type": "code",
      "source": [
        "from sklearn.preprocessing import MinMaxScaler"
      ],
      "metadata": {
        "id": "vHc61V487W4O"
      },
      "execution_count": 74,
      "outputs": []
    },
    {
      "cell_type": "code",
      "source": [
        "scaler = MinMaxScaler().fit(train_df[numerical_cols])"
      ],
      "metadata": {
        "id": "P96bvtQ98KQr"
      },
      "execution_count": 75,
      "outputs": []
    },
    {
      "cell_type": "code",
      "source": [
        "train_df[numerical_cols] = scaler.transform(train_df[numerical_cols])\n",
        "test_df[numerical_cols] = scaler.transform(test_df[numerical_cols])"
      ],
      "metadata": {
        "id": "_L-fr47f9z64"
      },
      "execution_count": 76,
      "outputs": []
    },
    {
      "cell_type": "code",
      "source": [
        "train_df"
      ],
      "metadata": {
        "colab": {
          "base_uri": "https://localhost:8080/",
          "height": 488
        },
        "id": "viJqJWyv-E3H",
        "outputId": "340890c8-df33-4c75-d47e-6eaa26cc683a"
      },
      "execution_count": 77,
      "outputs": [
        {
          "output_type": "execute_result",
          "data": {
            "text/plain": [
              "        budget  popularity   runtime    revenue  Comedy  Drama  Family  \\\n",
              "0     0.036842    0.022340  0.275148   12314651       1      0       0   \n",
              "1     0.105263    0.028025  0.334320   95149435       1      1       1   \n",
              "2     0.008684    0.218457  0.310651   13092000       0      1       0   \n",
              "3     0.003158    0.010787  0.360947   16000000       0      1       0   \n",
              "4     0.000000    0.003901  0.349112    3923970       0      0       0   \n",
              "...        ...         ...       ...        ...     ...    ...     ...   \n",
              "2995  0.000000    0.033476  0.301775    1596687       1      0       0   \n",
              "2996  0.000000    0.012666  0.301775     180590       0      1       0   \n",
              "2997  0.171053    0.049203  0.355030   89456761       0      0       0   \n",
              "2998  0.110526    0.053427  0.266272  171963386       1      0       0   \n",
              "2999  0.092105    0.035715  0.313609   82087155       0      0       0   \n",
              "\n",
              "      Romance  Thriller  Action  ...  gu  ku  km  new_keywords  new_cast  \\\n",
              "0           0         0       0  ...   0   0   0      0.026846  0.153846   \n",
              "1           1         0       0  ...   0   0   0      0.026846  0.128205   \n",
              "2           0         0       0  ...   0   0   0      0.080537  0.326923   \n",
              "3           0         1       0  ...   0   0   0      0.046980  0.044872   \n",
              "4           0         1       1  ...   0   0   0      0.000000  0.025641   \n",
              "...       ...       ...     ...  ...  ..  ..  ..           ...       ...   \n",
              "2995        1         0       0  ...   0   0   0      0.127517  0.096154   \n",
              "2996        0         0       0  ...   0   0   0      0.040268  0.070513   \n",
              "2997        0         1       1  ...   0   0   0      0.093960  0.096154   \n",
              "2998        1         0       0  ...   0   0   0      0.147651  0.166667   \n",
              "2999        0         1       1  ...   0   0   0      0.093960  0.217949   \n",
              "\n",
              "      new_crew      year     month       day  weak_of_year  \n",
              "0     0.371134  0.434343  0.090909  0.633333      0.134615  \n",
              "1     0.046392  0.323232  0.636364  0.166667      0.596154  \n",
              "2     0.329897  0.424242  0.818182  0.300000      0.769231  \n",
              "3     0.015464  0.404040  0.181818  0.266667      0.173077  \n",
              "4     0.010309  0.373737  0.090909  0.133333      0.096154  \n",
              "...        ...       ...       ...       ...           ...  \n",
              "2995  0.087629  0.222222  0.272727  0.700000      0.288462  \n",
              "2996  0.077320  0.414141  0.181818  0.900000      0.230769  \n",
              "2997  0.051546  0.242424  0.818182  0.333333      0.769231  \n",
              "2998  0.458763  0.323232  0.000000  0.500000      0.038462  \n",
              "2999  0.247423  0.393939  0.727273  0.700000      0.711538  \n",
              "\n",
              "[3000 rows x 185 columns]"
            ],
            "text/html": [
              "\n",
              "  <div id=\"df-dd7fc452-9b84-45ea-a45b-f4c0d34939d0\">\n",
              "    <div class=\"colab-df-container\">\n",
              "      <div>\n",
              "<style scoped>\n",
              "    .dataframe tbody tr th:only-of-type {\n",
              "        vertical-align: middle;\n",
              "    }\n",
              "\n",
              "    .dataframe tbody tr th {\n",
              "        vertical-align: top;\n",
              "    }\n",
              "\n",
              "    .dataframe thead th {\n",
              "        text-align: right;\n",
              "    }\n",
              "</style>\n",
              "<table border=\"1\" class=\"dataframe\">\n",
              "  <thead>\n",
              "    <tr style=\"text-align: right;\">\n",
              "      <th></th>\n",
              "      <th>budget</th>\n",
              "      <th>popularity</th>\n",
              "      <th>runtime</th>\n",
              "      <th>revenue</th>\n",
              "      <th>Comedy</th>\n",
              "      <th>Drama</th>\n",
              "      <th>Family</th>\n",
              "      <th>Romance</th>\n",
              "      <th>Thriller</th>\n",
              "      <th>Action</th>\n",
              "      <th>...</th>\n",
              "      <th>gu</th>\n",
              "      <th>ku</th>\n",
              "      <th>km</th>\n",
              "      <th>new_keywords</th>\n",
              "      <th>new_cast</th>\n",
              "      <th>new_crew</th>\n",
              "      <th>year</th>\n",
              "      <th>month</th>\n",
              "      <th>day</th>\n",
              "      <th>weak_of_year</th>\n",
              "    </tr>\n",
              "  </thead>\n",
              "  <tbody>\n",
              "    <tr>\n",
              "      <th>0</th>\n",
              "      <td>0.036842</td>\n",
              "      <td>0.022340</td>\n",
              "      <td>0.275148</td>\n",
              "      <td>12314651</td>\n",
              "      <td>1</td>\n",
              "      <td>0</td>\n",
              "      <td>0</td>\n",
              "      <td>0</td>\n",
              "      <td>0</td>\n",
              "      <td>0</td>\n",
              "      <td>...</td>\n",
              "      <td>0</td>\n",
              "      <td>0</td>\n",
              "      <td>0</td>\n",
              "      <td>0.026846</td>\n",
              "      <td>0.153846</td>\n",
              "      <td>0.371134</td>\n",
              "      <td>0.434343</td>\n",
              "      <td>0.090909</td>\n",
              "      <td>0.633333</td>\n",
              "      <td>0.134615</td>\n",
              "    </tr>\n",
              "    <tr>\n",
              "      <th>1</th>\n",
              "      <td>0.105263</td>\n",
              "      <td>0.028025</td>\n",
              "      <td>0.334320</td>\n",
              "      <td>95149435</td>\n",
              "      <td>1</td>\n",
              "      <td>1</td>\n",
              "      <td>1</td>\n",
              "      <td>1</td>\n",
              "      <td>0</td>\n",
              "      <td>0</td>\n",
              "      <td>...</td>\n",
              "      <td>0</td>\n",
              "      <td>0</td>\n",
              "      <td>0</td>\n",
              "      <td>0.026846</td>\n",
              "      <td>0.128205</td>\n",
              "      <td>0.046392</td>\n",
              "      <td>0.323232</td>\n",
              "      <td>0.636364</td>\n",
              "      <td>0.166667</td>\n",
              "      <td>0.596154</td>\n",
              "    </tr>\n",
              "    <tr>\n",
              "      <th>2</th>\n",
              "      <td>0.008684</td>\n",
              "      <td>0.218457</td>\n",
              "      <td>0.310651</td>\n",
              "      <td>13092000</td>\n",
              "      <td>0</td>\n",
              "      <td>1</td>\n",
              "      <td>0</td>\n",
              "      <td>0</td>\n",
              "      <td>0</td>\n",
              "      <td>0</td>\n",
              "      <td>...</td>\n",
              "      <td>0</td>\n",
              "      <td>0</td>\n",
              "      <td>0</td>\n",
              "      <td>0.080537</td>\n",
              "      <td>0.326923</td>\n",
              "      <td>0.329897</td>\n",
              "      <td>0.424242</td>\n",
              "      <td>0.818182</td>\n",
              "      <td>0.300000</td>\n",
              "      <td>0.769231</td>\n",
              "    </tr>\n",
              "    <tr>\n",
              "      <th>3</th>\n",
              "      <td>0.003158</td>\n",
              "      <td>0.010787</td>\n",
              "      <td>0.360947</td>\n",
              "      <td>16000000</td>\n",
              "      <td>0</td>\n",
              "      <td>1</td>\n",
              "      <td>0</td>\n",
              "      <td>0</td>\n",
              "      <td>1</td>\n",
              "      <td>0</td>\n",
              "      <td>...</td>\n",
              "      <td>0</td>\n",
              "      <td>0</td>\n",
              "      <td>0</td>\n",
              "      <td>0.046980</td>\n",
              "      <td>0.044872</td>\n",
              "      <td>0.015464</td>\n",
              "      <td>0.404040</td>\n",
              "      <td>0.181818</td>\n",
              "      <td>0.266667</td>\n",
              "      <td>0.173077</td>\n",
              "    </tr>\n",
              "    <tr>\n",
              "      <th>4</th>\n",
              "      <td>0.000000</td>\n",
              "      <td>0.003901</td>\n",
              "      <td>0.349112</td>\n",
              "      <td>3923970</td>\n",
              "      <td>0</td>\n",
              "      <td>0</td>\n",
              "      <td>0</td>\n",
              "      <td>0</td>\n",
              "      <td>1</td>\n",
              "      <td>1</td>\n",
              "      <td>...</td>\n",
              "      <td>0</td>\n",
              "      <td>0</td>\n",
              "      <td>0</td>\n",
              "      <td>0.000000</td>\n",
              "      <td>0.025641</td>\n",
              "      <td>0.010309</td>\n",
              "      <td>0.373737</td>\n",
              "      <td>0.090909</td>\n",
              "      <td>0.133333</td>\n",
              "      <td>0.096154</td>\n",
              "    </tr>\n",
              "    <tr>\n",
              "      <th>...</th>\n",
              "      <td>...</td>\n",
              "      <td>...</td>\n",
              "      <td>...</td>\n",
              "      <td>...</td>\n",
              "      <td>...</td>\n",
              "      <td>...</td>\n",
              "      <td>...</td>\n",
              "      <td>...</td>\n",
              "      <td>...</td>\n",
              "      <td>...</td>\n",
              "      <td>...</td>\n",
              "      <td>...</td>\n",
              "      <td>...</td>\n",
              "      <td>...</td>\n",
              "      <td>...</td>\n",
              "      <td>...</td>\n",
              "      <td>...</td>\n",
              "      <td>...</td>\n",
              "      <td>...</td>\n",
              "      <td>...</td>\n",
              "      <td>...</td>\n",
              "    </tr>\n",
              "    <tr>\n",
              "      <th>2995</th>\n",
              "      <td>0.000000</td>\n",
              "      <td>0.033476</td>\n",
              "      <td>0.301775</td>\n",
              "      <td>1596687</td>\n",
              "      <td>1</td>\n",
              "      <td>0</td>\n",
              "      <td>0</td>\n",
              "      <td>1</td>\n",
              "      <td>0</td>\n",
              "      <td>0</td>\n",
              "      <td>...</td>\n",
              "      <td>0</td>\n",
              "      <td>0</td>\n",
              "      <td>0</td>\n",
              "      <td>0.127517</td>\n",
              "      <td>0.096154</td>\n",
              "      <td>0.087629</td>\n",
              "      <td>0.222222</td>\n",
              "      <td>0.272727</td>\n",
              "      <td>0.700000</td>\n",
              "      <td>0.288462</td>\n",
              "    </tr>\n",
              "    <tr>\n",
              "      <th>2996</th>\n",
              "      <td>0.000000</td>\n",
              "      <td>0.012666</td>\n",
              "      <td>0.301775</td>\n",
              "      <td>180590</td>\n",
              "      <td>0</td>\n",
              "      <td>1</td>\n",
              "      <td>0</td>\n",
              "      <td>0</td>\n",
              "      <td>0</td>\n",
              "      <td>0</td>\n",
              "      <td>...</td>\n",
              "      <td>0</td>\n",
              "      <td>0</td>\n",
              "      <td>0</td>\n",
              "      <td>0.040268</td>\n",
              "      <td>0.070513</td>\n",
              "      <td>0.077320</td>\n",
              "      <td>0.414141</td>\n",
              "      <td>0.181818</td>\n",
              "      <td>0.900000</td>\n",
              "      <td>0.230769</td>\n",
              "    </tr>\n",
              "    <tr>\n",
              "      <th>2997</th>\n",
              "      <td>0.171053</td>\n",
              "      <td>0.049203</td>\n",
              "      <td>0.355030</td>\n",
              "      <td>89456761</td>\n",
              "      <td>0</td>\n",
              "      <td>0</td>\n",
              "      <td>0</td>\n",
              "      <td>0</td>\n",
              "      <td>1</td>\n",
              "      <td>1</td>\n",
              "      <td>...</td>\n",
              "      <td>0</td>\n",
              "      <td>0</td>\n",
              "      <td>0</td>\n",
              "      <td>0.093960</td>\n",
              "      <td>0.096154</td>\n",
              "      <td>0.051546</td>\n",
              "      <td>0.242424</td>\n",
              "      <td>0.818182</td>\n",
              "      <td>0.333333</td>\n",
              "      <td>0.769231</td>\n",
              "    </tr>\n",
              "    <tr>\n",
              "      <th>2998</th>\n",
              "      <td>0.110526</td>\n",
              "      <td>0.053427</td>\n",
              "      <td>0.266272</td>\n",
              "      <td>171963386</td>\n",
              "      <td>1</td>\n",
              "      <td>0</td>\n",
              "      <td>0</td>\n",
              "      <td>1</td>\n",
              "      <td>0</td>\n",
              "      <td>0</td>\n",
              "      <td>...</td>\n",
              "      <td>0</td>\n",
              "      <td>0</td>\n",
              "      <td>0</td>\n",
              "      <td>0.147651</td>\n",
              "      <td>0.166667</td>\n",
              "      <td>0.458763</td>\n",
              "      <td>0.323232</td>\n",
              "      <td>0.000000</td>\n",
              "      <td>0.500000</td>\n",
              "      <td>0.038462</td>\n",
              "    </tr>\n",
              "    <tr>\n",
              "      <th>2999</th>\n",
              "      <td>0.092105</td>\n",
              "      <td>0.035715</td>\n",
              "      <td>0.313609</td>\n",
              "      <td>82087155</td>\n",
              "      <td>0</td>\n",
              "      <td>0</td>\n",
              "      <td>0</td>\n",
              "      <td>0</td>\n",
              "      <td>1</td>\n",
              "      <td>1</td>\n",
              "      <td>...</td>\n",
              "      <td>0</td>\n",
              "      <td>0</td>\n",
              "      <td>0</td>\n",
              "      <td>0.093960</td>\n",
              "      <td>0.217949</td>\n",
              "      <td>0.247423</td>\n",
              "      <td>0.393939</td>\n",
              "      <td>0.727273</td>\n",
              "      <td>0.700000</td>\n",
              "      <td>0.711538</td>\n",
              "    </tr>\n",
              "  </tbody>\n",
              "</table>\n",
              "<p>3000 rows × 185 columns</p>\n",
              "</div>\n",
              "      <button class=\"colab-df-convert\" onclick=\"convertToInteractive('df-dd7fc452-9b84-45ea-a45b-f4c0d34939d0')\"\n",
              "              title=\"Convert this dataframe to an interactive table.\"\n",
              "              style=\"display:none;\">\n",
              "        \n",
              "  <svg xmlns=\"http://www.w3.org/2000/svg\" height=\"24px\"viewBox=\"0 0 24 24\"\n",
              "       width=\"24px\">\n",
              "    <path d=\"M0 0h24v24H0V0z\" fill=\"none\"/>\n",
              "    <path d=\"M18.56 5.44l.94 2.06.94-2.06 2.06-.94-2.06-.94-.94-2.06-.94 2.06-2.06.94zm-11 1L8.5 8.5l.94-2.06 2.06-.94-2.06-.94L8.5 2.5l-.94 2.06-2.06.94zm10 10l.94 2.06.94-2.06 2.06-.94-2.06-.94-.94-2.06-.94 2.06-2.06.94z\"/><path d=\"M17.41 7.96l-1.37-1.37c-.4-.4-.92-.59-1.43-.59-.52 0-1.04.2-1.43.59L10.3 9.45l-7.72 7.72c-.78.78-.78 2.05 0 2.83L4 21.41c.39.39.9.59 1.41.59.51 0 1.02-.2 1.41-.59l7.78-7.78 2.81-2.81c.8-.78.8-2.07 0-2.86zM5.41 20L4 18.59l7.72-7.72 1.47 1.35L5.41 20z\"/>\n",
              "  </svg>\n",
              "      </button>\n",
              "      \n",
              "  <style>\n",
              "    .colab-df-container {\n",
              "      display:flex;\n",
              "      flex-wrap:wrap;\n",
              "      gap: 12px;\n",
              "    }\n",
              "\n",
              "    .colab-df-convert {\n",
              "      background-color: #E8F0FE;\n",
              "      border: none;\n",
              "      border-radius: 50%;\n",
              "      cursor: pointer;\n",
              "      display: none;\n",
              "      fill: #1967D2;\n",
              "      height: 32px;\n",
              "      padding: 0 0 0 0;\n",
              "      width: 32px;\n",
              "    }\n",
              "\n",
              "    .colab-df-convert:hover {\n",
              "      background-color: #E2EBFA;\n",
              "      box-shadow: 0px 1px 2px rgba(60, 64, 67, 0.3), 0px 1px 3px 1px rgba(60, 64, 67, 0.15);\n",
              "      fill: #174EA6;\n",
              "    }\n",
              "\n",
              "    [theme=dark] .colab-df-convert {\n",
              "      background-color: #3B4455;\n",
              "      fill: #D2E3FC;\n",
              "    }\n",
              "\n",
              "    [theme=dark] .colab-df-convert:hover {\n",
              "      background-color: #434B5C;\n",
              "      box-shadow: 0px 1px 3px 1px rgba(0, 0, 0, 0.15);\n",
              "      filter: drop-shadow(0px 1px 2px rgba(0, 0, 0, 0.3));\n",
              "      fill: #FFFFFF;\n",
              "    }\n",
              "  </style>\n",
              "\n",
              "      <script>\n",
              "        const buttonEl =\n",
              "          document.querySelector('#df-dd7fc452-9b84-45ea-a45b-f4c0d34939d0 button.colab-df-convert');\n",
              "        buttonEl.style.display =\n",
              "          google.colab.kernel.accessAllowed ? 'block' : 'none';\n",
              "\n",
              "        async function convertToInteractive(key) {\n",
              "          const element = document.querySelector('#df-dd7fc452-9b84-45ea-a45b-f4c0d34939d0');\n",
              "          const dataTable =\n",
              "            await google.colab.kernel.invokeFunction('convertToInteractive',\n",
              "                                                     [key], {});\n",
              "          if (!dataTable) return;\n",
              "\n",
              "          const docLinkHtml = 'Like what you see? Visit the ' +\n",
              "            '<a target=\"_blank\" href=https://colab.research.google.com/notebooks/data_table.ipynb>data table notebook</a>'\n",
              "            + ' to learn more about interactive tables.';\n",
              "          element.innerHTML = '';\n",
              "          dataTable['output_type'] = 'display_data';\n",
              "          await google.colab.output.renderOutput(dataTable, element);\n",
              "          const docLink = document.createElement('div');\n",
              "          docLink.innerHTML = docLinkHtml;\n",
              "          element.appendChild(docLink);\n",
              "        }\n",
              "      </script>\n",
              "    </div>\n",
              "  </div>\n",
              "  "
            ]
          },
          "metadata": {},
          "execution_count": 77
        }
      ]
    },
    {
      "cell_type": "code",
      "source": [
        "final_col = train_df.columns\n",
        "final_col"
      ],
      "metadata": {
        "colab": {
          "base_uri": "https://localhost:8080/"
        },
        "id": "vj3E0oflSFsS",
        "outputId": "61360427-3080-4884-8033-613a0be4c7b9"
      },
      "execution_count": 159,
      "outputs": [
        {
          "output_type": "execute_result",
          "data": {
            "text/plain": [
              "Index(['budget', 'popularity', 'runtime', 'revenue', 'Comedy', 'Drama',\n",
              "       'Family', 'Romance', 'Thriller', 'Action',\n",
              "       ...\n",
              "       'gu', 'ku', 'km', 'new_keywords', 'new_cast', 'new_crew', 'year',\n",
              "       'month', 'day', 'weak_of_year'],\n",
              "      dtype='object', length=185)"
            ]
          },
          "metadata": {},
          "execution_count": 159
        }
      ]
    },
    {
      "cell_type": "markdown",
      "source": [
        "## Training"
      ],
      "metadata": {
        "id": "roL_YvW_-jsn"
      }
    },
    {
      "cell_type": "code",
      "source": [
        "features = train_df.columns.to_list()"
      ],
      "metadata": {
        "id": "uiaCEmkC-jV5"
      },
      "execution_count": 78,
      "outputs": []
    },
    {
      "cell_type": "code",
      "source": [
        "target_feature = ['revenue']\n",
        "input_features = list(set(features) - set(target_feature))"
      ],
      "metadata": {
        "id": "wf4Vyi_gEQ1s"
      },
      "execution_count": 79,
      "outputs": []
    },
    {
      "cell_type": "code",
      "source": [
        "inputs = train_df[input_features].copy()\n",
        "test_inputs = test_df[input_features].copy()\n",
        "targets = train_df[target_feature]"
      ],
      "metadata": {
        "id": "R8jBNMkzEiH2"
      },
      "execution_count": 119,
      "outputs": []
    },
    {
      "cell_type": "code",
      "source": [
        "from sklearn.model_selection import train_test_split"
      ],
      "metadata": {
        "id": "mRMVgERpGn0U"
      },
      "execution_count": 81,
      "outputs": []
    },
    {
      "cell_type": "code",
      "source": [
        "train_inputs, val_inputs, train_targets, val_targets = train_test_split(inputs, targets, test_size = 0.15, random_state = 35)"
      ],
      "metadata": {
        "id": "ewcv4OJHGy7F"
      },
      "execution_count": 120,
      "outputs": []
    },
    {
      "cell_type": "code",
      "source": [
        "from xgboost import XGBRegressor"
      ],
      "metadata": {
        "id": "BGRN44IiGSy4"
      },
      "execution_count": 83,
      "outputs": []
    },
    {
      "cell_type": "code",
      "source": [
        "model = XGBRegressor(random_state=35, n_jobs=-1)"
      ],
      "metadata": {
        "id": "-DyU_qLIGX42"
      },
      "execution_count": 84,
      "outputs": []
    },
    {
      "cell_type": "code",
      "source": [
        "model.fit(train_inputs, train_targets)"
      ],
      "metadata": {
        "colab": {
          "base_uri": "https://localhost:8080/"
        },
        "id": "d_YVX31DGa7v",
        "outputId": "01c88412-7b44-46af-f069-caddaf9bbdb1"
      },
      "execution_count": 85,
      "outputs": [
        {
          "output_type": "stream",
          "name": "stdout",
          "text": [
            "[11:53:52] WARNING: /workspace/src/objective/regression_obj.cu:152: reg:linear is now deprecated in favor of reg:squarederror.\n"
          ]
        },
        {
          "output_type": "execute_result",
          "data": {
            "text/plain": [
              "XGBRegressor(n_jobs=-1, random_state=35)"
            ]
          },
          "metadata": {},
          "execution_count": 85
        }
      ]
    },
    {
      "cell_type": "code",
      "source": [
        "from sklearn.metrics import mean_squared_error\n",
        "\n",
        "def rmse(a, b):\n",
        "    return mean_squared_error(a, b, squared=False)"
      ],
      "metadata": {
        "id": "0X_jYjWjHTha"
      },
      "execution_count": 86,
      "outputs": []
    },
    {
      "cell_type": "code",
      "source": [
        "train_preds = model.predict(train_inputs)\n",
        "val_preds = model.predict(val_inputs)"
      ],
      "metadata": {
        "id": "0oi7p-TkUdKb"
      },
      "execution_count": 87,
      "outputs": []
    },
    {
      "cell_type": "code",
      "source": [
        "train_rmse = rmse(train_targets, train_preds)\n",
        "val_rmse = rmse(val_targets, val_preds)"
      ],
      "metadata": {
        "id": "EljedjVUUrFX"
      },
      "execution_count": 88,
      "outputs": []
    },
    {
      "cell_type": "code",
      "source": [
        "print('Training RMSE Error : ' + str(train_rmse) + ' and Validation RMSE Error : ' + str(val_rmse))"
      ],
      "metadata": {
        "colab": {
          "base_uri": "https://localhost:8080/"
        },
        "id": "oRELPPQkU6g3",
        "outputId": "3c31c08f-b731-4ffe-b55a-008edcfd514e"
      },
      "execution_count": 89,
      "outputs": [
        {
          "output_type": "stream",
          "name": "stdout",
          "text": [
            "Training RMSE Error : 56794737.00138652 and Validation RMSE Error : 55454450.94530316\n"
          ]
        }
      ]
    },
    {
      "cell_type": "code",
      "source": [
        "train_score = model.score(train_inputs, train_targets)\n",
        "val_score = model.score(val_inputs, val_targets)"
      ],
      "metadata": {
        "id": "ZktQQjBrVr3G"
      },
      "execution_count": 90,
      "outputs": []
    },
    {
      "cell_type": "code",
      "source": [
        "print('Training Score : ' + str(train_score*100) + ' %, and Validation Score : ' + str(val_score*100) + ' %')"
      ],
      "metadata": {
        "colab": {
          "base_uri": "https://localhost:8080/"
        },
        "id": "py41egSWV_il",
        "outputId": "a72f6264-dfae-4901-ece9-ff78054edc92"
      },
      "execution_count": 91,
      "outputs": [
        {
          "output_type": "stream",
          "name": "stdout",
          "text": [
            "Training Score : 84.42558202749733 %, and Validation Score : 63.46392999585155 %\n"
          ]
        }
      ]
    },
    {
      "cell_type": "markdown",
      "source": [
        ""
      ],
      "metadata": {
        "id": "yyD07wLFX12j"
      }
    },
    {
      "cell_type": "code",
      "source": [
        "import matplotlib.pyplot as plt\n",
        "from xgboost import plot_tree\n",
        "from matplotlib.pylab import rcParams\n",
        "%matplotlib inline\n",
        "\n",
        "rcParams['figure.figsize'] = 30,30"
      ],
      "metadata": {
        "id": "LD61sq3aX3qq"
      },
      "execution_count": 92,
      "outputs": []
    },
    {
      "cell_type": "code",
      "source": [
        "plot_tree(model, rankdir='LR');"
      ],
      "metadata": {
        "colab": {
          "base_uri": "https://localhost:8080/",
          "height": 359
        },
        "id": "ktAp-VoVX8ur",
        "outputId": "27ecff22-74cd-410f-d08d-aa693d434f51"
      },
      "execution_count": 93,
      "outputs": [
        {
          "output_type": "display_data",
          "data": {
            "text/plain": [
              "<Figure size 2160x2160 with 1 Axes>"
            ],
            "image/png": "[encoded data removed]"
          },
          "metadata": {
            "needs_background": "light"
          }
        }
      ]
    },
    {
      "cell_type": "code",
      "source": [
        "trees = model.get_booster().get_dump()"
      ],
      "metadata": {
        "id": "mLL7_nVjYTvP"
      },
      "execution_count": 94,
      "outputs": []
    },
    {
      "cell_type": "code",
      "source": [
        "len(trees)"
      ],
      "metadata": {
        "colab": {
          "base_uri": "https://localhost:8080/"
        },
        "id": "nYSoPSG1YdsU",
        "outputId": "3f2a9247-3c85-4236-d50a-f4c4eb4de721"
      },
      "execution_count": 95,
      "outputs": [
        {
          "output_type": "execute_result",
          "data": {
            "text/plain": [
              "100"
            ]
          },
          "metadata": {},
          "execution_count": 95
        }
      ]
    },
    {
      "cell_type": "code",
      "source": [
        "print(trees[0])"
      ],
      "metadata": {
        "colab": {
          "base_uri": "https://localhost:8080/"
        },
        "id": "tW0N08tLYf7t",
        "outputId": "71e59643-12ce-4568-cc9d-e8d9fb619ded"
      },
      "execution_count": 96,
      "outputs": [
        {
          "output_type": "stream",
          "name": "stdout",
          "text": [
            "0:[budget<0.269736826] yes=1,no=2,missing=1\n",
            "\t1:[budget<0.0934210569] yes=3,no=4,missing=3\n",
            "\t\t3:[budget<0.0314868428] yes=7,no=8,missing=7\n",
            "\t\t\t7:leaf=1728697.25\n",
            "\t\t\t8:leaf=5859447\n",
            "\t\t4:[popularity<0.0726271421] yes=9,no=10,missing=9\n",
            "\t\t\t9:leaf=13715467\n",
            "\t\t\t10:leaf=50336428\n",
            "\t2:[popularity<0.0586599223] yes=5,no=6,missing=5\n",
            "\t\t5:[new_crew<0.3041237] yes=11,no=12,missing=11\n",
            "\t\t\t11:leaf=42995932\n",
            "\t\t\t12:leaf=21665018\n",
            "\t\t6:[budget<0.410526335] yes=13,no=14,missing=13\n",
            "\t\t\t13:leaf=47667976\n",
            "\t\t\t14:leaf=81665232\n",
            "\n"
          ]
        }
      ]
    },
    {
      "cell_type": "code",
      "source": [
        "importance_df = pd.DataFrame({\n",
        "    'feature': train_inputs.columns,\n",
        "    'importance': model.feature_importances_\n",
        "}).sort_values('importance', ascending=False)"
      ],
      "metadata": {
        "id": "iO9xBqYMZLuL"
      },
      "execution_count": 97,
      "outputs": []
    },
    {
      "cell_type": "code",
      "source": [
        "import seaborn as sns\n",
        "plt.figure(figsize=(10,6))\n",
        "plt.title('Feature Importance')\n",
        "sns.barplot(data=importance_df.head(10), x='importance', y='feature');"
      ],
      "metadata": {
        "colab": {
          "base_uri": "https://localhost:8080/",
          "height": 404
        },
        "id": "edBY8przZZl_",
        "outputId": "6e3881a6-a4ae-4b00-d42a-9ec9362e2295"
      },
      "execution_count": 98,
      "outputs": [
        {
          "output_type": "display_data",
          "data": {
            "text/plain": [
              "<Figure size 720x432 with 1 Axes>"
            ],
            "image/png": "[encoded data removed]"
          },
          "metadata": {
            "needs_background": "light"
          }
        }
      ]
    },
    {
      "cell_type": "markdown",
      "source": [
        "### Using Hyperparameter tuning and K-Fold Validations"
      ],
      "metadata": {
        "id": "67pz8Ysk9mZ_"
      }
    },
    {
      "cell_type": "code",
      "source": [
        "from sklearn.model_selection import KFold"
      ],
      "metadata": {
        "id": "BNHZiC9MC9Ne"
      },
      "execution_count": 116,
      "outputs": []
    },
    {
      "cell_type": "code",
      "source": [
        "def train_and_evaluate(X_train, y_train, X_val, y_val, **params):\n",
        "    model = XGBRegressor(random_state=35, n_jobs=-1, **params)\n",
        "    model.fit(X_train, y_train)\n",
        "    train_score = model.score(X_train, y_train)\n",
        "    val_score = model.score(X_val, y_val)\n",
        "    return model, train_score, val_score"
      ],
      "metadata": {
        "id": "_LcIkESwDHTD"
      },
      "execution_count": 121,
      "outputs": []
    },
    {
      "cell_type": "code",
      "source": [
        "def test_params_kfold(n_splits, **params):\n",
        "    train_score_list, val_score_list, models = [], [], []\n",
        "    kfold = KFold(n_splits)\n",
        "    for train_idxs, val_idxs in kfold.split(train_inputs):\n",
        "        X_train, train_targets = inputs.iloc[train_idxs], targets.iloc[train_idxs]\n",
        "        X_val, val_targets = inputs.iloc[val_idxs], targets.iloc[val_idxs]\n",
        "        model, train_score, val_score = train_and_evaluate(X_train, train_targets, X_val, val_targets, **params)\n",
        "        models.append(model)\n",
        "        train_score_list.append(train_score)\n",
        "        val_score_list.append(val_score)\n",
        "    print('Train SCORE: {}, Validation SCORE: {}'.format(np.mean(train_score_list), np.mean(val_score_list)))\n",
        "    return np.mean(train_score_list), np.mean(val_score_list), models"
      ],
      "metadata": {
        "id": "B852ZgzVDqti"
      },
      "execution_count": 145,
      "outputs": []
    },
    {
      "cell_type": "code",
      "source": [
        "test_params_kfold(5)"
      ],
      "metadata": {
        "colab": {
          "base_uri": "https://localhost:8080/"
        },
        "id": "UBHIS558E1V1",
        "outputId": "90211664-ff0b-4dda-cd9b-3e4475bda65b"
      },
      "execution_count": 131,
      "outputs": [
        {
          "output_type": "stream",
          "name": "stdout",
          "text": [
            "[12:35:44] WARNING: /workspace/src/objective/regression_obj.cu:152: reg:linear is now deprecated in favor of reg:squarederror.\n",
            "[12:35:48] WARNING: /workspace/src/objective/regression_obj.cu:152: reg:linear is now deprecated in favor of reg:squarederror.\n",
            "[12:35:51] WARNING: /workspace/src/objective/regression_obj.cu:152: reg:linear is now deprecated in favor of reg:squarederror.\n",
            "[12:35:54] WARNING: /workspace/src/objective/regression_obj.cu:152: reg:linear is now deprecated in favor of reg:squarederror.\n",
            "[12:35:57] WARNING: /workspace/src/objective/regression_obj.cu:152: reg:linear is now deprecated in favor of reg:squarederror.\n",
            "Train SCORE: 0.8542112498015824, Validation SCORE: 0.6488260223923978\n"
          ]
        },
        {
          "output_type": "execute_result",
          "data": {
            "text/plain": [
              "(0.8542112498015824, 0.6488260223923978)"
            ]
          },
          "metadata": {},
          "execution_count": 131
        }
      ]
    },
    {
      "cell_type": "code",
      "source": [
        "def test_param_and_plot_gbm(n_splits, param_name, param_values, **params):\n",
        "    train_errors, val_errors = [], [] \n",
        "    \n",
        "    for value in param_values:\n",
        "        newparams = {param_name: value}\n",
        "        for para in params:\n",
        "          newparams[para] = params[para]\n",
        "        train_score, val_score = test_params_kfold(n_splits, **newparams)\n",
        "        train_errors.append(train_score)\n",
        "        val_errors.append(val_score)\n",
        "    print(val_errors)\n",
        "    plt.figure(figsize=(10,6))\n",
        "    plt.title('Overfitting curve: ' + param_name)\n",
        "    plt.plot(param_values, train_errors, 'b-o')\n",
        "    plt.plot(param_values, val_errors, 'r-o')\n",
        "    plt.xlabel(param_name)\n",
        "    plt.ylabel('RMSE')\n",
        "    plt.legend(['Training', 'Validation'])"
      ],
      "metadata": {
        "id": "KvGAZ5oZ-2VP"
      },
      "execution_count": 132,
      "outputs": []
    },
    {
      "cell_type": "markdown",
      "source": [
        "**n_estimators**"
      ],
      "metadata": {
        "id": "1t22q6UZAtFT"
      }
    },
    {
      "cell_type": "code",
      "source": [
        "test_param_and_plot_gbm(5, 'n_estimators', [10, 20, 50, 100, 150, 250])"
      ],
      "metadata": {
        "colab": {
          "base_uri": "https://localhost:8080/",
          "height": 1000
        },
        "id": "eIcyPfyJ_N2A",
        "outputId": "5be87e09-272a-4962-d9c2-3cf2515b8646"
      },
      "execution_count": 135,
      "outputs": [
        {
          "output_type": "stream",
          "name": "stdout",
          "text": [
            "[12:40:46] WARNING: /workspace/src/objective/regression_obj.cu:152: reg:linear is now deprecated in favor of reg:squarederror.\n",
            "[12:40:46] WARNING: /workspace/src/objective/regression_obj.cu:152: reg:linear is now deprecated in favor of reg:squarederror.\n",
            "[12:40:47] WARNING: /workspace/src/objective/regression_obj.cu:152: reg:linear is now deprecated in favor of reg:squarederror.\n",
            "[12:40:47] WARNING: /workspace/src/objective/regression_obj.cu:152: reg:linear is now deprecated in favor of reg:squarederror.\n",
            "[12:40:47] WARNING: /workspace/src/objective/regression_obj.cu:152: reg:linear is now deprecated in favor of reg:squarederror.\n",
            "Train SCORE: 0.5745147769933212, Validation SCORE: 0.5041444138327432\n",
            "[12:40:48] WARNING: /workspace/src/objective/regression_obj.cu:152: reg:linear is now deprecated in favor of reg:squarederror.\n",
            "[12:40:48] WARNING: /workspace/src/objective/regression_obj.cu:152: reg:linear is now deprecated in favor of reg:squarederror.\n",
            "[12:40:49] WARNING: /workspace/src/objective/regression_obj.cu:152: reg:linear is now deprecated in favor of reg:squarederror.\n",
            "[12:40:50] WARNING: /workspace/src/objective/regression_obj.cu:152: reg:linear is now deprecated in favor of reg:squarederror.\n",
            "[12:40:50] WARNING: /workspace/src/objective/regression_obj.cu:152: reg:linear is now deprecated in favor of reg:squarederror.\n",
            "Train SCORE: 0.7301255740363476, Validation SCORE: 0.6128269801468067\n",
            "[12:40:51] WARNING: /workspace/src/objective/regression_obj.cu:152: reg:linear is now deprecated in favor of reg:squarederror.\n",
            "[12:40:51] WARNING: /workspace/src/objective/regression_obj.cu:152: reg:linear is now deprecated in favor of reg:squarederror.\n",
            "[12:40:52] WARNING: /workspace/src/objective/regression_obj.cu:152: reg:linear is now deprecated in favor of reg:squarederror.\n",
            "[12:40:52] WARNING: /workspace/src/objective/regression_obj.cu:152: reg:linear is now deprecated in favor of reg:squarederror.\n",
            "[12:40:52] WARNING: /workspace/src/objective/regression_obj.cu:152: reg:linear is now deprecated in favor of reg:squarederror.\n",
            "Train SCORE: 0.8158742123983327, Validation SCORE: 0.6454505240482845\n",
            "[12:40:53] WARNING: /workspace/src/objective/regression_obj.cu:152: reg:linear is now deprecated in favor of reg:squarederror.\n",
            "[12:40:54] WARNING: /workspace/src/objective/regression_obj.cu:152: reg:linear is now deprecated in favor of reg:squarederror.\n",
            "[12:40:54] WARNING: /workspace/src/objective/regression_obj.cu:152: reg:linear is now deprecated in favor of reg:squarederror.\n",
            "[12:40:55] WARNING: /workspace/src/objective/regression_obj.cu:152: reg:linear is now deprecated in favor of reg:squarederror.\n",
            "[12:40:56] WARNING: /workspace/src/objective/regression_obj.cu:152: reg:linear is now deprecated in favor of reg:squarederror.\n",
            "Train SCORE: 0.8542112498015824, Validation SCORE: 0.6488260223923978\n",
            "[12:40:56] WARNING: /workspace/src/objective/regression_obj.cu:152: reg:linear is now deprecated in favor of reg:squarederror.\n",
            "[12:40:57] WARNING: /workspace/src/objective/regression_obj.cu:152: reg:linear is now deprecated in favor of reg:squarederror.\n",
            "[12:40:58] WARNING: /workspace/src/objective/regression_obj.cu:152: reg:linear is now deprecated in favor of reg:squarederror.\n",
            "[12:40:59] WARNING: /workspace/src/objective/regression_obj.cu:152: reg:linear is now deprecated in favor of reg:squarederror.\n",
            "[12:41:00] WARNING: /workspace/src/objective/regression_obj.cu:152: reg:linear is now deprecated in favor of reg:squarederror.\n",
            "Train SCORE: 0.8736487252627111, Validation SCORE: 0.6441234936220293\n",
            "[12:41:01] WARNING: /workspace/src/objective/regression_obj.cu:152: reg:linear is now deprecated in favor of reg:squarederror.\n",
            "[12:41:03] WARNING: /workspace/src/objective/regression_obj.cu:152: reg:linear is now deprecated in favor of reg:squarederror.\n",
            "[12:41:04] WARNING: /workspace/src/objective/regression_obj.cu:152: reg:linear is now deprecated in favor of reg:squarederror.\n",
            "[12:41:06] WARNING: /workspace/src/objective/regression_obj.cu:152: reg:linear is now deprecated in favor of reg:squarederror.\n",
            "[12:41:08] WARNING: /workspace/src/objective/regression_obj.cu:152: reg:linear is now deprecated in favor of reg:squarederror.\n",
            "Train SCORE: 0.900141891546532, Validation SCORE: 0.6391978026695795\n",
            "[0.5041444138327432, 0.6128269801468067, 0.6454505240482845, 0.6488260223923978, 0.6441234936220293, 0.6391978026695795]\n"
          ]
        },
        {
          "output_type": "display_data",
          "data": {
            "text/plain": [
              "<Figure size 720x432 with 1 Axes>"
            ],
            "image/png": "[encoded data removed]"
          },
          "metadata": {
            "needs_background": "light"
          }
        }
      ]
    },
    {
      "cell_type": "markdown",
      "source": [
        "Optimal value for n_estimators is 100"
      ],
      "metadata": {
        "id": "FZomlBpT_xNs"
      }
    },
    {
      "cell_type": "markdown",
      "source": [
        "**max_depth**"
      ],
      "metadata": {
        "id": "suVlhZfWA3jm"
      }
    },
    {
      "cell_type": "code",
      "source": [
        "test_param_and_plot_gbm(5, 'max_depth', [2, 3, 4, 5, 6, 7, 8, 10, 15], n_estimators = 100)"
      ],
      "metadata": {
        "colab": {
          "base_uri": "https://localhost:8080/",
          "height": 1000
        },
        "id": "iNi_qAUg_DZn",
        "outputId": "883ca697-7024-409a-e8a3-5401f70155d0"
      },
      "execution_count": 136,
      "outputs": [
        {
          "output_type": "stream",
          "name": "stdout",
          "text": [
            "[12:41:32] WARNING: /workspace/src/objective/regression_obj.cu:152: reg:linear is now deprecated in favor of reg:squarederror.\n",
            "[12:41:34] WARNING: /workspace/src/objective/regression_obj.cu:152: reg:linear is now deprecated in favor of reg:squarederror.\n",
            "[12:41:35] WARNING: /workspace/src/objective/regression_obj.cu:152: reg:linear is now deprecated in favor of reg:squarederror.\n",
            "[12:41:36] WARNING: /workspace/src/objective/regression_obj.cu:152: reg:linear is now deprecated in favor of reg:squarederror.\n",
            "[12:41:37] WARNING: /workspace/src/objective/regression_obj.cu:152: reg:linear is now deprecated in favor of reg:squarederror.\n",
            "Train SCORE: 0.7798848772916757, Validation SCORE: 0.6342546442514475\n",
            "[12:41:38] WARNING: /workspace/src/objective/regression_obj.cu:152: reg:linear is now deprecated in favor of reg:squarederror.\n",
            "[12:41:38] WARNING: /workspace/src/objective/regression_obj.cu:152: reg:linear is now deprecated in favor of reg:squarederror.\n",
            "[12:41:39] WARNING: /workspace/src/objective/regression_obj.cu:152: reg:linear is now deprecated in favor of reg:squarederror.\n",
            "[12:41:40] WARNING: /workspace/src/objective/regression_obj.cu:152: reg:linear is now deprecated in favor of reg:squarederror.\n",
            "[12:41:40] WARNING: /workspace/src/objective/regression_obj.cu:152: reg:linear is now deprecated in favor of reg:squarederror.\n",
            "Train SCORE: 0.8542112498015824, Validation SCORE: 0.6488260223923978\n",
            "[12:41:41] WARNING: /workspace/src/objective/regression_obj.cu:152: reg:linear is now deprecated in favor of reg:squarederror.\n",
            "[12:41:42] WARNING: /workspace/src/objective/regression_obj.cu:152: reg:linear is now deprecated in favor of reg:squarederror.\n",
            "[12:41:43] WARNING: /workspace/src/objective/regression_obj.cu:152: reg:linear is now deprecated in favor of reg:squarederror.\n",
            "[12:41:44] WARNING: /workspace/src/objective/regression_obj.cu:152: reg:linear is now deprecated in favor of reg:squarederror.\n",
            "[12:41:45] WARNING: /workspace/src/objective/regression_obj.cu:152: reg:linear is now deprecated in favor of reg:squarederror.\n",
            "Train SCORE: 0.9058820825516147, Validation SCORE: 0.6439170920028875\n",
            "[12:41:45] WARNING: /workspace/src/objective/regression_obj.cu:152: reg:linear is now deprecated in favor of reg:squarederror.\n",
            "[12:41:46] WARNING: /workspace/src/objective/regression_obj.cu:152: reg:linear is now deprecated in favor of reg:squarederror.\n",
            "[12:41:47] WARNING: /workspace/src/objective/regression_obj.cu:152: reg:linear is now deprecated in favor of reg:squarederror.\n",
            "[12:41:49] WARNING: /workspace/src/objective/regression_obj.cu:152: reg:linear is now deprecated in favor of reg:squarederror.\n",
            "[12:41:50] WARNING: /workspace/src/objective/regression_obj.cu:152: reg:linear is now deprecated in favor of reg:squarederror.\n",
            "Train SCORE: 0.9420462991882086, Validation SCORE: 0.6265630038251244\n",
            "[12:41:51] WARNING: /workspace/src/objective/regression_obj.cu:152: reg:linear is now deprecated in favor of reg:squarederror.\n",
            "[12:41:52] WARNING: /workspace/src/objective/regression_obj.cu:152: reg:linear is now deprecated in favor of reg:squarederror.\n",
            "[12:41:53] WARNING: /workspace/src/objective/regression_obj.cu:152: reg:linear is now deprecated in favor of reg:squarederror.\n",
            "[12:41:54] WARNING: /workspace/src/objective/regression_obj.cu:152: reg:linear is now deprecated in favor of reg:squarederror.\n",
            "[12:41:56] WARNING: /workspace/src/objective/regression_obj.cu:152: reg:linear is now deprecated in favor of reg:squarederror.\n",
            "Train SCORE: 0.9648796137699451, Validation SCORE: 0.631103128522299\n",
            "[12:41:57] WARNING: /workspace/src/objective/regression_obj.cu:152: reg:linear is now deprecated in favor of reg:squarederror.\n",
            "[12:41:58] WARNING: /workspace/src/objective/regression_obj.cu:152: reg:linear is now deprecated in favor of reg:squarederror.\n",
            "[12:42:00] WARNING: /workspace/src/objective/regression_obj.cu:152: reg:linear is now deprecated in favor of reg:squarederror.\n",
            "[12:42:01] WARNING: /workspace/src/objective/regression_obj.cu:152: reg:linear is now deprecated in favor of reg:squarederror.\n",
            "[12:42:03] WARNING: /workspace/src/objective/regression_obj.cu:152: reg:linear is now deprecated in favor of reg:squarederror.\n",
            "Train SCORE: 0.9798552014487004, Validation SCORE: 0.6121103555667148\n",
            "[12:42:04] WARNING: /workspace/src/objective/regression_obj.cu:152: reg:linear is now deprecated in favor of reg:squarederror.\n",
            "[12:42:06] WARNING: /workspace/src/objective/regression_obj.cu:152: reg:linear is now deprecated in favor of reg:squarederror.\n",
            "[12:42:07] WARNING: /workspace/src/objective/regression_obj.cu:152: reg:linear is now deprecated in favor of reg:squarederror.\n",
            "[12:42:09] WARNING: /workspace/src/objective/regression_obj.cu:152: reg:linear is now deprecated in favor of reg:squarederror.\n",
            "[12:42:11] WARNING: /workspace/src/objective/regression_obj.cu:152: reg:linear is now deprecated in favor of reg:squarederror.\n",
            "Train SCORE: 0.9896419423573318, Validation SCORE: 0.6214429668496229\n",
            "[12:42:12] WARNING: /workspace/src/objective/regression_obj.cu:152: reg:linear is now deprecated in favor of reg:squarederror.\n",
            "[12:42:14] WARNING: /workspace/src/objective/regression_obj.cu:152: reg:linear is now deprecated in favor of reg:squarederror.\n",
            "[12:42:17] WARNING: /workspace/src/objective/regression_obj.cu:152: reg:linear is now deprecated in favor of reg:squarederror.\n",
            "[12:42:19] WARNING: /workspace/src/objective/regression_obj.cu:152: reg:linear is now deprecated in favor of reg:squarederror.\n",
            "[12:42:21] WARNING: /workspace/src/objective/regression_obj.cu:152: reg:linear is now deprecated in favor of reg:squarederror.\n",
            "Train SCORE: 0.9982220129541943, Validation SCORE: 0.6023174510356901\n",
            "[12:42:23] WARNING: /workspace/src/objective/regression_obj.cu:152: reg:linear is now deprecated in favor of reg:squarederror.\n",
            "[12:42:26] WARNING: /workspace/src/objective/regression_obj.cu:152: reg:linear is now deprecated in favor of reg:squarederror.\n",
            "[12:42:31] WARNING: /workspace/src/objective/regression_obj.cu:152: reg:linear is now deprecated in favor of reg:squarederror.\n",
            "[12:42:34] WARNING: /workspace/src/objective/regression_obj.cu:152: reg:linear is now deprecated in favor of reg:squarederror.\n",
            "[12:42:38] WARNING: /workspace/src/objective/regression_obj.cu:152: reg:linear is now deprecated in favor of reg:squarederror.\n",
            "Train SCORE: 0.9999748200504385, Validation SCORE: 0.5690553432225283\n",
            "[0.6342546442514475, 0.6488260223923978, 0.6439170920028875, 0.6265630038251244, 0.631103128522299, 0.6121103555667148, 0.6214429668496229, 0.6023174510356901, 0.5690553432225283]\n"
          ]
        },
        {
          "output_type": "display_data",
          "data": {
            "text/plain": [
              "<Figure size 720x432 with 1 Axes>"
            ],
            "image/png": "[encoded data removed]"
          },
          "metadata": {
            "needs_background": "light"
          }
        }
      ]
    },
    {
      "cell_type": "markdown",
      "source": [
        "optimal parameter for max_depth = 3"
      ],
      "metadata": {
        "id": "lHoF4-5PI_04"
      }
    },
    {
      "cell_type": "markdown",
      "source": [
        "**min_child_weight**"
      ],
      "metadata": {
        "id": "EX31fBl0BnYY"
      }
    },
    {
      "cell_type": "code",
      "source": [
        "test_param_and_plot_gbm(5, 'min_child_weight', [1, 2, 3, 4, 5, 6,], max_depth = 3, n_estimators = 100)"
      ],
      "metadata": {
        "colab": {
          "base_uri": "https://localhost:8080/",
          "height": 1000
        },
        "id": "AuLWSt6fBsRs",
        "outputId": "8df30fb6-e844-49aa-efb4-70845c205a74"
      },
      "execution_count": 138,
      "outputs": [
        {
          "output_type": "stream",
          "name": "stdout",
          "text": [
            "[12:46:31] WARNING: /workspace/src/objective/regression_obj.cu:152: reg:linear is now deprecated in favor of reg:squarederror.\n",
            "[12:46:33] WARNING: /workspace/src/objective/regression_obj.cu:152: reg:linear is now deprecated in favor of reg:squarederror.\n",
            "[12:46:34] WARNING: /workspace/src/objective/regression_obj.cu:152: reg:linear is now deprecated in favor of reg:squarederror.\n",
            "[12:46:35] WARNING: /workspace/src/objective/regression_obj.cu:152: reg:linear is now deprecated in favor of reg:squarederror.\n",
            "[12:46:35] WARNING: /workspace/src/objective/regression_obj.cu:152: reg:linear is now deprecated in favor of reg:squarederror.\n",
            "Train SCORE: 0.8542112498015824, Validation SCORE: 0.6488260223923978\n",
            "[12:46:36] WARNING: /workspace/src/objective/regression_obj.cu:152: reg:linear is now deprecated in favor of reg:squarederror.\n",
            "[12:46:37] WARNING: /workspace/src/objective/regression_obj.cu:152: reg:linear is now deprecated in favor of reg:squarederror.\n",
            "[12:46:37] WARNING: /workspace/src/objective/regression_obj.cu:152: reg:linear is now deprecated in favor of reg:squarederror.\n",
            "[12:46:38] WARNING: /workspace/src/objective/regression_obj.cu:152: reg:linear is now deprecated in favor of reg:squarederror.\n",
            "[12:46:39] WARNING: /workspace/src/objective/regression_obj.cu:152: reg:linear is now deprecated in favor of reg:squarederror.\n",
            "Train SCORE: 0.8534969570888835, Validation SCORE: 0.6420178368838478\n",
            "[12:46:39] WARNING: /workspace/src/objective/regression_obj.cu:152: reg:linear is now deprecated in favor of reg:squarederror.\n",
            "[12:46:40] WARNING: /workspace/src/objective/regression_obj.cu:152: reg:linear is now deprecated in favor of reg:squarederror.\n",
            "[12:46:41] WARNING: /workspace/src/objective/regression_obj.cu:152: reg:linear is now deprecated in favor of reg:squarederror.\n",
            "[12:46:41] WARNING: /workspace/src/objective/regression_obj.cu:152: reg:linear is now deprecated in favor of reg:squarederror.\n",
            "[12:46:42] WARNING: /workspace/src/objective/regression_obj.cu:152: reg:linear is now deprecated in favor of reg:squarederror.\n",
            "Train SCORE: 0.8533970299932498, Validation SCORE: 0.6456814871457336\n",
            "[12:46:43] WARNING: /workspace/src/objective/regression_obj.cu:152: reg:linear is now deprecated in favor of reg:squarederror.\n",
            "[12:46:44] WARNING: /workspace/src/objective/regression_obj.cu:152: reg:linear is now deprecated in favor of reg:squarederror.\n",
            "[12:46:44] WARNING: /workspace/src/objective/regression_obj.cu:152: reg:linear is now deprecated in favor of reg:squarederror.\n",
            "[12:46:45] WARNING: /workspace/src/objective/regression_obj.cu:152: reg:linear is now deprecated in favor of reg:squarederror.\n",
            "[12:46:46] WARNING: /workspace/src/objective/regression_obj.cu:152: reg:linear is now deprecated in favor of reg:squarederror.\n",
            "Train SCORE: 0.8515747680590773, Validation SCORE: 0.6466251568394524\n",
            "[12:46:46] WARNING: /workspace/src/objective/regression_obj.cu:152: reg:linear is now deprecated in favor of reg:squarederror.\n",
            "[12:46:47] WARNING: /workspace/src/objective/regression_obj.cu:152: reg:linear is now deprecated in favor of reg:squarederror.\n",
            "[12:46:48] WARNING: /workspace/src/objective/regression_obj.cu:152: reg:linear is now deprecated in favor of reg:squarederror.\n",
            "[12:46:48] WARNING: /workspace/src/objective/regression_obj.cu:152: reg:linear is now deprecated in favor of reg:squarederror.\n",
            "[12:46:49] WARNING: /workspace/src/objective/regression_obj.cu:152: reg:linear is now deprecated in favor of reg:squarederror.\n",
            "Train SCORE: 0.8472390374136032, Validation SCORE: 0.6504185396765252\n",
            "[12:46:50] WARNING: /workspace/src/objective/regression_obj.cu:152: reg:linear is now deprecated in favor of reg:squarederror.\n",
            "[12:46:50] WARNING: /workspace/src/objective/regression_obj.cu:152: reg:linear is now deprecated in favor of reg:squarederror.\n",
            "[12:46:51] WARNING: /workspace/src/objective/regression_obj.cu:152: reg:linear is now deprecated in favor of reg:squarederror.\n",
            "[12:46:52] WARNING: /workspace/src/objective/regression_obj.cu:152: reg:linear is now deprecated in favor of reg:squarederror.\n",
            "[12:46:52] WARNING: /workspace/src/objective/regression_obj.cu:152: reg:linear is now deprecated in favor of reg:squarederror.\n",
            "Train SCORE: 0.8445966862434577, Validation SCORE: 0.6456415050742252\n",
            "[0.6488260223923978, 0.6420178368838478, 0.6456814871457336, 0.6466251568394524, 0.6504185396765252, 0.6456415050742252]\n"
          ]
        },
        {
          "output_type": "display_data",
          "data": {
            "text/plain": [
              "<Figure size 720x432 with 1 Axes>"
            ],
            "image/png": "[encoded data removed]"
          },
          "metadata": {
            "needs_background": "light"
          }
        }
      ]
    },
    {
      "cell_type": "markdown",
      "source": [
        "Optimal value of min_child_weight is 5"
      ],
      "metadata": {
        "id": "81WmqqT1Jknj"
      }
    },
    {
      "cell_type": "markdown",
      "source": [
        "**subsample**"
      ],
      "metadata": {
        "id": "4MpTcfJNJ3l7"
      }
    },
    {
      "cell_type": "code",
      "source": [
        "test_param_and_plot_gbm(5, 'subsample', [0.2, 0.4, 0.5, 0.6, 0.7, 0.8, 1], max_depth = 3, n_estimators = 100, min_child_weight = 5)"
      ],
      "metadata": {
        "colab": {
          "base_uri": "https://localhost:8080/",
          "height": 1000
        },
        "id": "-BO8-KE1Jq1i",
        "outputId": "231714d8-b4ef-4b6d-9f3a-5a505799bf9e"
      },
      "execution_count": 140,
      "outputs": [
        {
          "output_type": "stream",
          "name": "stdout",
          "text": [
            "[12:49:22] WARNING: /workspace/src/objective/regression_obj.cu:152: reg:linear is now deprecated in favor of reg:squarederror.\n",
            "[12:49:24] WARNING: /workspace/src/objective/regression_obj.cu:152: reg:linear is now deprecated in favor of reg:squarederror.\n",
            "[12:49:26] WARNING: /workspace/src/objective/regression_obj.cu:152: reg:linear is now deprecated in favor of reg:squarederror.\n",
            "[12:49:27] WARNING: /workspace/src/objective/regression_obj.cu:152: reg:linear is now deprecated in favor of reg:squarederror.\n",
            "[12:49:27] WARNING: /workspace/src/objective/regression_obj.cu:152: reg:linear is now deprecated in favor of reg:squarederror.\n",
            "Train SCORE: 0.777606718607936, Validation SCORE: 0.6348693676988993\n",
            "[12:49:28] WARNING: /workspace/src/objective/regression_obj.cu:152: reg:linear is now deprecated in favor of reg:squarederror.\n",
            "[12:49:29] WARNING: /workspace/src/objective/regression_obj.cu:152: reg:linear is now deprecated in favor of reg:squarederror.\n",
            "[12:49:29] WARNING: /workspace/src/objective/regression_obj.cu:152: reg:linear is now deprecated in favor of reg:squarederror.\n",
            "[12:49:30] WARNING: /workspace/src/objective/regression_obj.cu:152: reg:linear is now deprecated in favor of reg:squarederror.\n",
            "[12:49:31] WARNING: /workspace/src/objective/regression_obj.cu:152: reg:linear is now deprecated in favor of reg:squarederror.\n",
            "Train SCORE: 0.8240186316380189, Validation SCORE: 0.6288521670562777\n",
            "[12:49:32] WARNING: /workspace/src/objective/regression_obj.cu:152: reg:linear is now deprecated in favor of reg:squarederror.\n",
            "[12:49:32] WARNING: /workspace/src/objective/regression_obj.cu:152: reg:linear is now deprecated in favor of reg:squarederror.\n",
            "[12:49:33] WARNING: /workspace/src/objective/regression_obj.cu:152: reg:linear is now deprecated in favor of reg:squarederror.\n",
            "[12:49:34] WARNING: /workspace/src/objective/regression_obj.cu:152: reg:linear is now deprecated in favor of reg:squarederror.\n",
            "[12:49:35] WARNING: /workspace/src/objective/regression_obj.cu:152: reg:linear is now deprecated in favor of reg:squarederror.\n",
            "Train SCORE: 0.8358649420396247, Validation SCORE: 0.6439300445548988\n",
            "[12:49:36] WARNING: /workspace/src/objective/regression_obj.cu:152: reg:linear is now deprecated in favor of reg:squarederror.\n",
            "[12:49:37] WARNING: /workspace/src/objective/regression_obj.cu:152: reg:linear is now deprecated in favor of reg:squarederror.\n",
            "[12:49:37] WARNING: /workspace/src/objective/regression_obj.cu:152: reg:linear is now deprecated in favor of reg:squarederror.\n",
            "[12:49:38] WARNING: /workspace/src/objective/regression_obj.cu:152: reg:linear is now deprecated in favor of reg:squarederror.\n",
            "[12:49:39] WARNING: /workspace/src/objective/regression_obj.cu:152: reg:linear is now deprecated in favor of reg:squarederror.\n",
            "Train SCORE: 0.8418759899686254, Validation SCORE: 0.6530298691927945\n",
            "[12:49:40] WARNING: /workspace/src/objective/regression_obj.cu:152: reg:linear is now deprecated in favor of reg:squarederror.\n",
            "[12:49:41] WARNING: /workspace/src/objective/regression_obj.cu:152: reg:linear is now deprecated in favor of reg:squarederror.\n",
            "[12:49:41] WARNING: /workspace/src/objective/regression_obj.cu:152: reg:linear is now deprecated in favor of reg:squarederror.\n",
            "[12:49:42] WARNING: /workspace/src/objective/regression_obj.cu:152: reg:linear is now deprecated in favor of reg:squarederror.\n",
            "[12:49:43] WARNING: /workspace/src/objective/regression_obj.cu:152: reg:linear is now deprecated in favor of reg:squarederror.\n",
            "Train SCORE: 0.844434630696463, Validation SCORE: 0.6316329944419008\n",
            "[12:49:44] WARNING: /workspace/src/objective/regression_obj.cu:152: reg:linear is now deprecated in favor of reg:squarederror.\n",
            "[12:49:45] WARNING: /workspace/src/objective/regression_obj.cu:152: reg:linear is now deprecated in favor of reg:squarederror.\n",
            "[12:49:45] WARNING: /workspace/src/objective/regression_obj.cu:152: reg:linear is now deprecated in favor of reg:squarederror.\n",
            "[12:49:46] WARNING: /workspace/src/objective/regression_obj.cu:152: reg:linear is now deprecated in favor of reg:squarederror.\n",
            "[12:49:47] WARNING: /workspace/src/objective/regression_obj.cu:152: reg:linear is now deprecated in favor of reg:squarederror.\n",
            "Train SCORE: 0.8506785422235998, Validation SCORE: 0.6491312292131812\n",
            "[12:49:48] WARNING: /workspace/src/objective/regression_obj.cu:152: reg:linear is now deprecated in favor of reg:squarederror.\n",
            "[12:49:48] WARNING: /workspace/src/objective/regression_obj.cu:152: reg:linear is now deprecated in favor of reg:squarederror.\n",
            "[12:49:49] WARNING: /workspace/src/objective/regression_obj.cu:152: reg:linear is now deprecated in favor of reg:squarederror.\n",
            "[12:49:50] WARNING: /workspace/src/objective/regression_obj.cu:152: reg:linear is now deprecated in favor of reg:squarederror.\n",
            "[12:49:50] WARNING: /workspace/src/objective/regression_obj.cu:152: reg:linear is now deprecated in favor of reg:squarederror.\n",
            "Train SCORE: 0.8472390374136032, Validation SCORE: 0.6504185396765252\n",
            "[0.6348693676988993, 0.6288521670562777, 0.6439300445548988, 0.6530298691927945, 0.6316329944419008, 0.6491312292131812, 0.6504185396765252]\n"
          ]
        },
        {
          "output_type": "display_data",
          "data": {
            "text/plain": [
              "<Figure size 720x432 with 1 Axes>"
            ],
            "image/png": "[encoded data removed]"
          },
          "metadata": {
            "needs_background": "light"
          }
        }
      ]
    },
    {
      "cell_type": "markdown",
      "source": [
        "Optimal value for subsample is 0.6 "
      ],
      "metadata": {
        "id": "MHJZGj5zKPtS"
      }
    },
    {
      "cell_type": "markdown",
      "source": [
        "**learning_rate**"
      ],
      "metadata": {
        "id": "gQcc0-yhKWd2"
      }
    },
    {
      "cell_type": "code",
      "source": [
        "test_param_and_plot_gbm(5, 'learning_rate', [0.1, 0.2, 0.3, 0.4, 0.5, 0.6, 0.7, 0.99], max_depth = 3, n_estimators = 100, min_child_weight = 5, subsample = 0.6)"
      ],
      "metadata": {
        "colab": {
          "base_uri": "https://localhost:8080/",
          "height": 1000
        },
        "id": "WLg6hiNrKW8V",
        "outputId": "6d024d99-d6f0-470e-bf48-080192d68554"
      },
      "execution_count": 142,
      "outputs": [
        {
          "output_type": "stream",
          "name": "stdout",
          "text": [
            "[12:52:41] WARNING: /workspace/src/objective/regression_obj.cu:152: reg:linear is now deprecated in favor of reg:squarederror.\n",
            "[12:52:43] WARNING: /workspace/src/objective/regression_obj.cu:152: reg:linear is now deprecated in favor of reg:squarederror.\n",
            "[12:52:44] WARNING: /workspace/src/objective/regression_obj.cu:152: reg:linear is now deprecated in favor of reg:squarederror.\n",
            "[12:52:45] WARNING: /workspace/src/objective/regression_obj.cu:152: reg:linear is now deprecated in favor of reg:squarederror.\n",
            "[12:52:46] WARNING: /workspace/src/objective/regression_obj.cu:152: reg:linear is now deprecated in favor of reg:squarederror.\n",
            "Train SCORE: 0.8418759899686254, Validation SCORE: 0.6530298691927945\n",
            "[12:52:46] WARNING: /workspace/src/objective/regression_obj.cu:152: reg:linear is now deprecated in favor of reg:squarederror.\n",
            "[12:52:47] WARNING: /workspace/src/objective/regression_obj.cu:152: reg:linear is now deprecated in favor of reg:squarederror.\n",
            "[12:52:48] WARNING: /workspace/src/objective/regression_obj.cu:152: reg:linear is now deprecated in favor of reg:squarederror.\n",
            "[12:52:49] WARNING: /workspace/src/objective/regression_obj.cu:152: reg:linear is now deprecated in favor of reg:squarederror.\n",
            "[12:52:50] WARNING: /workspace/src/objective/regression_obj.cu:152: reg:linear is now deprecated in favor of reg:squarederror.\n",
            "Train SCORE: 0.8833094440194907, Validation SCORE: 0.6157797970689045\n",
            "[12:52:50] WARNING: /workspace/src/objective/regression_obj.cu:152: reg:linear is now deprecated in favor of reg:squarederror.\n",
            "[12:52:51] WARNING: /workspace/src/objective/regression_obj.cu:152: reg:linear is now deprecated in favor of reg:squarederror.\n",
            "[12:52:52] WARNING: /workspace/src/objective/regression_obj.cu:152: reg:linear is now deprecated in favor of reg:squarederror.\n",
            "[12:52:53] WARNING: /workspace/src/objective/regression_obj.cu:152: reg:linear is now deprecated in favor of reg:squarederror.\n",
            "[12:52:54] WARNING: /workspace/src/objective/regression_obj.cu:152: reg:linear is now deprecated in favor of reg:squarederror.\n",
            "Train SCORE: 0.9065224628147576, Validation SCORE: 0.6106454869604228\n",
            "[12:52:55] WARNING: /workspace/src/objective/regression_obj.cu:152: reg:linear is now deprecated in favor of reg:squarederror.\n",
            "[12:52:55] WARNING: /workspace/src/objective/regression_obj.cu:152: reg:linear is now deprecated in favor of reg:squarederror.\n",
            "[12:52:56] WARNING: /workspace/src/objective/regression_obj.cu:152: reg:linear is now deprecated in favor of reg:squarederror.\n",
            "[12:52:57] WARNING: /workspace/src/objective/regression_obj.cu:152: reg:linear is now deprecated in favor of reg:squarederror.\n",
            "[12:52:58] WARNING: /workspace/src/objective/regression_obj.cu:152: reg:linear is now deprecated in favor of reg:squarederror.\n",
            "Train SCORE: 0.9209822960653892, Validation SCORE: 0.5950380333512857\n",
            "[12:52:59] WARNING: /workspace/src/objective/regression_obj.cu:152: reg:linear is now deprecated in favor of reg:squarederror.\n",
            "[12:53:00] WARNING: /workspace/src/objective/regression_obj.cu:152: reg:linear is now deprecated in favor of reg:squarederror.\n",
            "[12:53:00] WARNING: /workspace/src/objective/regression_obj.cu:152: reg:linear is now deprecated in favor of reg:squarederror.\n",
            "[12:53:01] WARNING: /workspace/src/objective/regression_obj.cu:152: reg:linear is now deprecated in favor of reg:squarederror.\n",
            "[12:53:02] WARNING: /workspace/src/objective/regression_obj.cu:152: reg:linear is now deprecated in favor of reg:squarederror.\n",
            "Train SCORE: 0.9281096939019686, Validation SCORE: 0.5510227362911719\n",
            "[12:53:03] WARNING: /workspace/src/objective/regression_obj.cu:152: reg:linear is now deprecated in favor of reg:squarederror.\n",
            "[12:53:04] WARNING: /workspace/src/objective/regression_obj.cu:152: reg:linear is now deprecated in favor of reg:squarederror.\n",
            "[12:53:04] WARNING: /workspace/src/objective/regression_obj.cu:152: reg:linear is now deprecated in favor of reg:squarederror.\n",
            "[12:53:05] WARNING: /workspace/src/objective/regression_obj.cu:152: reg:linear is now deprecated in favor of reg:squarederror.\n",
            "[12:53:06] WARNING: /workspace/src/objective/regression_obj.cu:152: reg:linear is now deprecated in favor of reg:squarederror.\n",
            "Train SCORE: 0.9315303002991447, Validation SCORE: 0.4829308196413221\n",
            "[12:53:07] WARNING: /workspace/src/objective/regression_obj.cu:152: reg:linear is now deprecated in favor of reg:squarederror.\n",
            "[12:53:08] WARNING: /workspace/src/objective/regression_obj.cu:152: reg:linear is now deprecated in favor of reg:squarederror.\n",
            "[12:53:09] WARNING: /workspace/src/objective/regression_obj.cu:152: reg:linear is now deprecated in favor of reg:squarederror.\n",
            "[12:53:09] WARNING: /workspace/src/objective/regression_obj.cu:152: reg:linear is now deprecated in favor of reg:squarederror.\n",
            "[12:53:10] WARNING: /workspace/src/objective/regression_obj.cu:152: reg:linear is now deprecated in favor of reg:squarederror.\n",
            "Train SCORE: 0.9346290329439999, Validation SCORE: 0.4474719870494699\n",
            "[12:53:11] WARNING: /workspace/src/objective/regression_obj.cu:152: reg:linear is now deprecated in favor of reg:squarederror.\n",
            "[12:53:12] WARNING: /workspace/src/objective/regression_obj.cu:152: reg:linear is now deprecated in favor of reg:squarederror.\n",
            "[12:53:13] WARNING: /workspace/src/objective/regression_obj.cu:152: reg:linear is now deprecated in favor of reg:squarederror.\n",
            "[12:53:14] WARNING: /workspace/src/objective/regression_obj.cu:152: reg:linear is now deprecated in favor of reg:squarederror.\n",
            "[12:53:14] WARNING: /workspace/src/objective/regression_obj.cu:152: reg:linear is now deprecated in favor of reg:squarederror.\n",
            "Train SCORE: 0.9261130081515857, Validation SCORE: 0.20010963652776237\n",
            "[0.6530298691927945, 0.6157797970689045, 0.6106454869604228, 0.5950380333512857, 0.5510227362911719, 0.4829308196413221, 0.4474719870494699, 0.20010963652776237]\n"
          ]
        },
        {
          "output_type": "display_data",
          "data": {
            "text/plain": [
              "<Figure size 720x432 with 1 Axes>"
            ],
            "image/png": "[encoded data removed]"
          },
          "metadata": {
            "needs_background": "light"
          }
        }
      ]
    },
    {
      "cell_type": "markdown",
      "source": [
        "Optimal value for learning_rate = 0.1"
      ],
      "metadata": {
        "id": "PZnRJ731LIQU"
      }
    },
    {
      "cell_type": "markdown",
      "source": [
        "Using booster, whether linear model for each iteration will give a better accuracy"
      ],
      "metadata": {
        "id": "ZBaOqel3O2Vf"
      }
    },
    {
      "cell_type": "code",
      "source": [
        "test_params_kfold(5, booster='gblinear')"
      ],
      "metadata": {
        "colab": {
          "base_uri": "https://localhost:8080/"
        },
        "id": "j3W2Xs6ePBhA",
        "outputId": "7d1ed015-b006-4067-c0f1-e12863714fca"
      },
      "execution_count": 151,
      "outputs": [
        {
          "output_type": "stream",
          "name": "stdout",
          "text": [
            "[13:13:56] WARNING: /workspace/src/objective/regression_obj.cu:152: reg:linear is now deprecated in favor of reg:squarederror.\n",
            "[13:13:57] WARNING: /workspace/src/objective/regression_obj.cu:152: reg:linear is now deprecated in favor of reg:squarederror.\n",
            "[13:13:58] WARNING: /workspace/src/objective/regression_obj.cu:152: reg:linear is now deprecated in favor of reg:squarederror.\n",
            "[13:13:59] WARNING: /workspace/src/objective/regression_obj.cu:152: reg:linear is now deprecated in favor of reg:squarederror.\n",
            "[13:14:01] WARNING: /workspace/src/objective/regression_obj.cu:152: reg:linear is now deprecated in favor of reg:squarederror.\n",
            "Train SCORE: 0.08378666082868165, Validation SCORE: 0.07876310100115384\n"
          ]
        },
        {
          "output_type": "execute_result",
          "data": {
            "text/plain": [
              "(0.08378666082868165,\n",
              " 0.07876310100115384,\n",
              " [XGBRegressor(booster='gblinear', n_jobs=-1, random_state=35),\n",
              "  XGBRegressor(booster='gblinear', n_jobs=-1, random_state=35),\n",
              "  XGBRegressor(booster='gblinear', n_jobs=-1, random_state=35),\n",
              "  XGBRegressor(booster='gblinear', n_jobs=-1, random_state=35),\n",
              "  XGBRegressor(booster='gblinear', n_jobs=-1, random_state=35)])"
            ]
          },
          "metadata": {},
          "execution_count": 151
        }
      ]
    },
    {
      "cell_type": "markdown",
      "source": [
        "it give us a validation score off 0.0787 which is very less "
      ],
      "metadata": {
        "id": "ohFXE3zAPysl"
      }
    },
    {
      "cell_type": "markdown",
      "source": [
        "Putting it all together"
      ],
      "metadata": {
        "id": "YtuvmNoiLmu_"
      }
    },
    {
      "cell_type": "code",
      "source": [
        "final_train_score, final_val_score, final_models = test_params_kfold(5, learning_rate = 0.1, \n",
        "                                                                     max_depth = 3, \n",
        "                                                                     n_estimators = 100, \n",
        "                                                                     min_child_weight = 5, \n",
        "                                                                     subsample = 0.6)"
      ],
      "metadata": {
        "colab": {
          "base_uri": "https://localhost:8080/"
        },
        "id": "kGfPtElCLpZP",
        "outputId": "de2bb4a4-01e1-4246-d39b-547f140239b4"
      },
      "execution_count": 146,
      "outputs": [
        {
          "output_type": "stream",
          "name": "stdout",
          "text": [
            "[13:05:15] WARNING: /workspace/src/objective/regression_obj.cu:152: reg:linear is now deprecated in favor of reg:squarederror.\n",
            "[13:05:16] WARNING: /workspace/src/objective/regression_obj.cu:152: reg:linear is now deprecated in favor of reg:squarederror.\n",
            "[13:05:17] WARNING: /workspace/src/objective/regression_obj.cu:152: reg:linear is now deprecated in favor of reg:squarederror.\n",
            "[13:05:18] WARNING: /workspace/src/objective/regression_obj.cu:152: reg:linear is now deprecated in favor of reg:squarederror.\n",
            "[13:05:19] WARNING: /workspace/src/objective/regression_obj.cu:152: reg:linear is now deprecated in favor of reg:squarederror.\n",
            "Train SCORE: 0.8418759899686254, Validation SCORE: 0.6530298691927945\n"
          ]
        }
      ]
    },
    {
      "cell_type": "code",
      "source": [
        "def predict_avg(models, inputs):\n",
        "    return np.mean([model.predict(inputs) for model in models], axis=0)"
      ],
      "metadata": {
        "id": "x6W1m2JvN0Qe"
      },
      "execution_count": 147,
      "outputs": []
    },
    {
      "cell_type": "code",
      "source": [
        "pred_test = predict_avg(final_models, test_inputs)"
      ],
      "metadata": {
        "id": "PISyF5deN4Rx"
      },
      "execution_count": 148,
      "outputs": []
    },
    {
      "cell_type": "code",
      "source": [
        "pred_test"
      ],
      "metadata": {
        "colab": {
          "base_uri": "https://localhost:8080/"
        },
        "id": "tLR6zWZSOfgU",
        "outputId": "8558adb1-406a-488e-ff2e-c20323649f09"
      },
      "execution_count": 149,
      "outputs": [
        {
          "output_type": "execute_result",
          "data": {
            "text/plain": [
              "array([1.2477363e+07, 1.9531344e+06, 2.0207082e+07, ..., 4.3049312e+07,\n",
              "       1.1767266e+08, 1.5607456e+07], dtype=float32)"
            ]
          },
          "metadata": {},
          "execution_count": 149
        }
      ]
    },
    {
      "cell_type": "code",
      "source": [
        "sample_submission_df['revenue']  = pred_test"
      ],
      "metadata": {
        "id": "B4UwdVHzQDmv"
      },
      "execution_count": 154,
      "outputs": []
    },
    {
      "cell_type": "code",
      "source": [
        "sample_submission_df"
      ],
      "metadata": {
        "colab": {
          "base_uri": "https://localhost:8080/",
          "height": 424
        },
        "id": "ueeidPmPQhPG",
        "outputId": "4a63ee00-d6b8-4a78-ced6-9d4aed8d0463"
      },
      "execution_count": 155,
      "outputs": [
        {
          "output_type": "execute_result",
          "data": {
            "text/plain": [
              "        id       revenue\n",
              "0     3001  1.247736e+07\n",
              "1     3002  1.953134e+06\n",
              "2     3003  2.020708e+07\n",
              "3     3004  3.784218e+07\n",
              "4     3005 -3.763395e+04\n",
              "...    ...           ...\n",
              "4393  7394  9.930023e+07\n",
              "4394  7395  3.628210e+07\n",
              "4395  7396  4.304931e+07\n",
              "4396  7397  1.176727e+08\n",
              "4397  7398  1.560746e+07\n",
              "\n",
              "[4398 rows x 2 columns]"
            ],
            "text/html": [
              "\n",
              "  <div id=\"df-318b9fab-82b9-4e52-b3a8-1ff841c6f94e\">\n",
              "    <div class=\"colab-df-container\">\n",
              "      <div>\n",
              "<style scoped>\n",
              "    .dataframe tbody tr th:only-of-type {\n",
              "        vertical-align: middle;\n",
              "    }\n",
              "\n",
              "    .dataframe tbody tr th {\n",
              "        vertical-align: top;\n",
              "    }\n",
              "\n",
              "    .dataframe thead th {\n",
              "        text-align: right;\n",
              "    }\n",
              "</style>\n",
              "<table border=\"1\" class=\"dataframe\">\n",
              "  <thead>\n",
              "    <tr style=\"text-align: right;\">\n",
              "      <th></th>\n",
              "      <th>id</th>\n",
              "      <th>revenue</th>\n",
              "    </tr>\n",
              "  </thead>\n",
              "  <tbody>\n",
              "    <tr>\n",
              "      <th>0</th>\n",
              "      <td>3001</td>\n",
              "      <td>1.247736e+07</td>\n",
              "    </tr>\n",
              "    <tr>\n",
              "      <th>1</th>\n",
              "      <td>3002</td>\n",
              "      <td>1.953134e+06</td>\n",
              "    </tr>\n",
              "    <tr>\n",
              "      <th>2</th>\n",
              "      <td>3003</td>\n",
              "      <td>2.020708e+07</td>\n",
              "    </tr>\n",
              "    <tr>\n",
              "      <th>3</th>\n",
              "      <td>3004</td>\n",
              "      <td>3.784218e+07</td>\n",
              "    </tr>\n",
              "    <tr>\n",
              "      <th>4</th>\n",
              "      <td>3005</td>\n",
              "      <td>-3.763395e+04</td>\n",
              "    </tr>\n",
              "    <tr>\n",
              "      <th>...</th>\n",
              "      <td>...</td>\n",
              "      <td>...</td>\n",
              "    </tr>\n",
              "    <tr>\n",
              "      <th>4393</th>\n",
              "      <td>7394</td>\n",
              "      <td>9.930023e+07</td>\n",
              "    </tr>\n",
              "    <tr>\n",
              "      <th>4394</th>\n",
              "      <td>7395</td>\n",
              "      <td>3.628210e+07</td>\n",
              "    </tr>\n",
              "    <tr>\n",
              "      <th>4395</th>\n",
              "      <td>7396</td>\n",
              "      <td>4.304931e+07</td>\n",
              "    </tr>\n",
              "    <tr>\n",
              "      <th>4396</th>\n",
              "      <td>7397</td>\n",
              "      <td>1.176727e+08</td>\n",
              "    </tr>\n",
              "    <tr>\n",
              "      <th>4397</th>\n",
              "      <td>7398</td>\n",
              "      <td>1.560746e+07</td>\n",
              "    </tr>\n",
              "  </tbody>\n",
              "</table>\n",
              "<p>4398 rows × 2 columns</p>\n",
              "</div>\n",
              "      <button class=\"colab-df-convert\" onclick=\"convertToInteractive('df-318b9fab-82b9-4e52-b3a8-1ff841c6f94e')\"\n",
              "              title=\"Convert this dataframe to an interactive table.\"\n",
              "              style=\"display:none;\">\n",
              "        \n",
              "  <svg xmlns=\"http://www.w3.org/2000/svg\" height=\"24px\"viewBox=\"0 0 24 24\"\n",
              "       width=\"24px\">\n",
              "    <path d=\"M0 0h24v24H0V0z\" fill=\"none\"/>\n",
              "    <path d=\"M18.56 5.44l.94 2.06.94-2.06 2.06-.94-2.06-.94-.94-2.06-.94 2.06-2.06.94zm-11 1L8.5 8.5l.94-2.06 2.06-.94-2.06-.94L8.5 2.5l-.94 2.06-2.06.94zm10 10l.94 2.06.94-2.06 2.06-.94-2.06-.94-.94-2.06-.94 2.06-2.06.94z\"/><path d=\"M17.41 7.96l-1.37-1.37c-.4-.4-.92-.59-1.43-.59-.52 0-1.04.2-1.43.59L10.3 9.45l-7.72 7.72c-.78.78-.78 2.05 0 2.83L4 21.41c.39.39.9.59 1.41.59.51 0 1.02-.2 1.41-.59l7.78-7.78 2.81-2.81c.8-.78.8-2.07 0-2.86zM5.41 20L4 18.59l7.72-7.72 1.47 1.35L5.41 20z\"/>\n",
              "  </svg>\n",
              "      </button>\n",
              "      \n",
              "  <style>\n",
              "    .colab-df-container {\n",
              "      display:flex;\n",
              "      flex-wrap:wrap;\n",
              "      gap: 12px;\n",
              "    }\n",
              "\n",
              "    .colab-df-convert {\n",
              "      background-color: #E8F0FE;\n",
              "      border: none;\n",
              "      border-radius: 50%;\n",
              "      cursor: pointer;\n",
              "      display: none;\n",
              "      fill: #1967D2;\n",
              "      height: 32px;\n",
              "      padding: 0 0 0 0;\n",
              "      width: 32px;\n",
              "    }\n",
              "\n",
              "    .colab-df-convert:hover {\n",
              "      background-color: #E2EBFA;\n",
              "      box-shadow: 0px 1px 2px rgba(60, 64, 67, 0.3), 0px 1px 3px 1px rgba(60, 64, 67, 0.15);\n",
              "      fill: #174EA6;\n",
              "    }\n",
              "\n",
              "    [theme=dark] .colab-df-convert {\n",
              "      background-color: #3B4455;\n",
              "      fill: #D2E3FC;\n",
              "    }\n",
              "\n",
              "    [theme=dark] .colab-df-convert:hover {\n",
              "      background-color: #434B5C;\n",
              "      box-shadow: 0px 1px 3px 1px rgba(0, 0, 0, 0.15);\n",
              "      filter: drop-shadow(0px 1px 2px rgba(0, 0, 0, 0.3));\n",
              "      fill: #FFFFFF;\n",
              "    }\n",
              "  </style>\n",
              "\n",
              "      <script>\n",
              "        const buttonEl =\n",
              "          document.querySelector('#df-318b9fab-82b9-4e52-b3a8-1ff841c6f94e button.colab-df-convert');\n",
              "        buttonEl.style.display =\n",
              "          google.colab.kernel.accessAllowed ? 'block' : 'none';\n",
              "\n",
              "        async function convertToInteractive(key) {\n",
              "          const element = document.querySelector('#df-318b9fab-82b9-4e52-b3a8-1ff841c6f94e');\n",
              "          const dataTable =\n",
              "            await google.colab.kernel.invokeFunction('convertToInteractive',\n",
              "                                                     [key], {});\n",
              "          if (!dataTable) return;\n",
              "\n",
              "          const docLinkHtml = 'Like what you see? Visit the ' +\n",
              "            '<a target=\"_blank\" href=https://colab.research.google.com/notebooks/data_table.ipynb>data table notebook</a>'\n",
              "            + ' to learn more about interactive tables.';\n",
              "          element.innerHTML = '';\n",
              "          dataTable['output_type'] = 'display_data';\n",
              "          await google.colab.output.renderOutput(dataTable, element);\n",
              "          const docLink = document.createElement('div');\n",
              "          docLink.innerHTML = docLinkHtml;\n",
              "          element.appendChild(docLink);\n",
              "        }\n",
              "      </script>\n",
              "    </div>\n",
              "  </div>\n",
              "  "
            ]
          },
          "metadata": {},
          "execution_count": 155
        }
      ]
    },
    {
      "cell_type": "code",
      "source": [
        "sample_submission_df.to_csv('./tmdb-box-office-prediction/sample_submission.csv', index=None)"
      ],
      "metadata": {
        "id": "bBajiPxjQrEe"
      },
      "execution_count": 157,
      "outputs": []
    },
    {
      "cell_type": "markdown",
      "source": [
        "Saving the models"
      ],
      "metadata": {
        "id": "wK4ljrzJO0Pk"
      }
    },
    {
      "cell_type": "code",
      "source": [
        "import joblib"
      ],
      "metadata": {
        "id": "2r06VPvvR0ni"
      },
      "execution_count": 158,
      "outputs": []
    },
    {
      "cell_type": "code",
      "source": [
        "box_office_pred = {\n",
        "    'models': final_models,\n",
        "    'scaler': scaler,\n",
        "    'input_cols': input_features,\n",
        "    'target_col': target_feature,\n",
        "    'k_fold': 5\n",
        "}"
      ],
      "metadata": {
        "id": "I2Z4lfxAR33S"
      },
      "execution_count": 160,
      "outputs": []
    },
    {
      "cell_type": "code",
      "source": [
        "joblib.dump(box_office_pred, 'house_prices_rf.joblib')"
      ],
      "metadata": {
        "colab": {
          "base_uri": "https://localhost:8080/"
        },
        "id": "ZXG-AV2mS1Rz",
        "outputId": "11233fae-1900-4c2c-f558-59bda9d54cb4"
      },
      "execution_count": 161,
      "outputs": [
        {
          "output_type": "execute_result",
          "data": {
            "text/plain": [
              "['house_prices_rf.joblib']"
            ]
          },
          "metadata": {},
          "execution_count": 161
        }
      ]
    }
  ]
}