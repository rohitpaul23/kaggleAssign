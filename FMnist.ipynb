{
  "nbformat": 4,
  "nbformat_minor": 0,
  "metadata": {
    "colab": {
      "name": "FMnist.ipynb",
      "provenance": [],
      "collapsed_sections": [
        "NJtSCkjuMBPj",
        "-60gvrPz1kDc",
        "CVHSaYtuik8E"
      ],
      "authorship_tag": "ABX9TyPBxggMElIAIL9br+USTjum",
      "include_colab_link": true
    },
    "kernelspec": {
      "name": "python3",
      "display_name": "Python 3"
    },
    "language_info": {
      "name": "python"
    },
    "accelerator": "GPU",
    "gpuClass": "standard"
  },
  "cells": [
    {
      "cell_type": "markdown",
      "metadata": {
        "id": "view-in-github",
        "colab_type": "text"
      },
      "source": [
        "<a href=\"https://colab.research.google.com/github/rohitpaul23/kaggleAssign/blob/main/FMnist.ipynb\" target=\"_parent\"><img src=\"https://colab.research.google.com/assets/colab-badge.svg\" alt=\"Open In Colab\"/></a>"
      ]
    },
    {
      "cell_type": "markdown",
      "source": [
        "# Fasion MNIST Dataset Classification"
      ],
      "metadata": {
        "id": "rZUUWfVw-NTq"
      }
    },
    {
      "cell_type": "code",
      "source": [
        "!pip install opendatasets scikit-learn"
      ],
      "metadata": {
        "colab": {
          "base_uri": "https://localhost:8080/"
        },
        "id": "l8Geh7dZhIcp",
        "outputId": "05b967d2-cbd1-472f-ebfb-07765ae83d43"
      },
      "execution_count": 1,
      "outputs": [
        {
          "output_type": "stream",
          "name": "stdout",
          "text": [
            "Looking in indexes: https://pypi.org/simple, https://us-python.pkg.dev/colab-wheels/public/simple/\n",
            "Collecting opendatasets\n",
            "  Downloading opendatasets-0.1.22-py3-none-any.whl (15 kB)\n",
            "Requirement already satisfied: scikit-learn in /usr/local/lib/python3.7/dist-packages (1.0.2)\n",
            "Requirement already satisfied: kaggle in /usr/local/lib/python3.7/dist-packages (from opendatasets) (1.5.12)\n",
            "Requirement already satisfied: tqdm in /usr/local/lib/python3.7/dist-packages (from opendatasets) (4.64.0)\n",
            "Requirement already satisfied: click in /usr/local/lib/python3.7/dist-packages (from opendatasets) (7.1.2)\n",
            "Requirement already satisfied: scipy>=1.1.0 in /usr/local/lib/python3.7/dist-packages (from scikit-learn) (1.7.3)\n",
            "Requirement already satisfied: threadpoolctl>=2.0.0 in /usr/local/lib/python3.7/dist-packages (from scikit-learn) (3.1.0)\n",
            "Requirement already satisfied: joblib>=0.11 in /usr/local/lib/python3.7/dist-packages (from scikit-learn) (1.1.0)\n",
            "Requirement already satisfied: numpy>=1.14.6 in /usr/local/lib/python3.7/dist-packages (from scikit-learn) (1.21.6)\n",
            "Requirement already satisfied: python-slugify in /usr/local/lib/python3.7/dist-packages (from kaggle->opendatasets) (6.1.2)\n",
            "Requirement already satisfied: certifi in /usr/local/lib/python3.7/dist-packages (from kaggle->opendatasets) (2022.6.15)\n",
            "Requirement already satisfied: six>=1.10 in /usr/local/lib/python3.7/dist-packages (from kaggle->opendatasets) (1.15.0)\n",
            "Requirement already satisfied: requests in /usr/local/lib/python3.7/dist-packages (from kaggle->opendatasets) (2.23.0)\n",
            "Requirement already satisfied: urllib3 in /usr/local/lib/python3.7/dist-packages (from kaggle->opendatasets) (1.24.3)\n",
            "Requirement already satisfied: python-dateutil in /usr/local/lib/python3.7/dist-packages (from kaggle->opendatasets) (2.8.2)\n",
            "Requirement already satisfied: text-unidecode>=1.3 in /usr/local/lib/python3.7/dist-packages (from python-slugify->kaggle->opendatasets) (1.3)\n",
            "Requirement already satisfied: idna<3,>=2.5 in /usr/local/lib/python3.7/dist-packages (from requests->kaggle->opendatasets) (2.10)\n",
            "Requirement already satisfied: chardet<4,>=3.0.2 in /usr/local/lib/python3.7/dist-packages (from requests->kaggle->opendatasets) (3.0.4)\n",
            "Installing collected packages: opendatasets\n",
            "Successfully installed opendatasets-0.1.22\n"
          ]
        }
      ]
    },
    {
      "cell_type": "code",
      "execution_count": 2,
      "metadata": {
        "id": "NKuGc0PRgL5Y"
      },
      "outputs": [],
      "source": [
        "import pandas as pd\n",
        "import numpy as np\n",
        "import torch\n",
        "import os\n",
        "import opendatasets as od\n",
        "import matplotlib.image as mpimg\n",
        "import matplotlib.pyplot as plt\n",
        "from torch.utils.data import Dataset, DataLoader"
      ]
    },
    {
      "cell_type": "code",
      "source": [
        "import torchvision.transforms as transforms\n",
        "from torch.utils.data import random_split"
      ],
      "metadata": {
        "id": "C6w22xY_UW1a"
      },
      "execution_count": 3,
      "outputs": []
    },
    {
      "cell_type": "markdown",
      "source": [
        "## Downloading and processing Fashion MNIST Dataset"
      ],
      "metadata": {
        "id": "NJtSCkjuMBPj"
      }
    },
    {
      "cell_type": "code",
      "source": [
        "from torchvision.datasets import FashionMNIST"
      ],
      "metadata": {
        "id": "3MeddAirMIZY"
      },
      "execution_count": 32,
      "outputs": []
    },
    {
      "cell_type": "code",
      "source": [
        "fashionDataset = FashionMNIST(root='data/', download=True)"
      ],
      "metadata": {
        "id": "WWj1sTxhMSXc"
      },
      "execution_count": 33,
      "outputs": []
    },
    {
      "cell_type": "code",
      "source": [
        "len(fashionDataset)"
      ],
      "metadata": {
        "colab": {
          "base_uri": "https://localhost:8080/"
        },
        "id": "Uf7cGfH2Mi9T",
        "outputId": "cea62c9f-743f-448d-b3e3-23110640e0df"
      },
      "execution_count": 34,
      "outputs": [
        {
          "output_type": "execute_result",
          "data": {
            "text/plain": [
              "60000"
            ]
          },
          "metadata": {},
          "execution_count": 34
        }
      ]
    },
    {
      "cell_type": "code",
      "source": [
        "test_dataset = FashionMNIST(root='data/', train=False)\n",
        "len(test_dataset)"
      ],
      "metadata": {
        "colab": {
          "base_uri": "https://localhost:8080/"
        },
        "id": "1qfpFh0zMvTu",
        "outputId": "4d80408d-c4c2-4324-a518-70290e97f014"
      },
      "execution_count": 35,
      "outputs": [
        {
          "output_type": "execute_result",
          "data": {
            "text/plain": [
              "10000"
            ]
          },
          "metadata": {},
          "execution_count": 35
        }
      ]
    },
    {
      "cell_type": "code",
      "source": [
        "fashionDataset[0]"
      ],
      "metadata": {
        "colab": {
          "base_uri": "https://localhost:8080/"
        },
        "id": "yoGUgaYrM24P",
        "outputId": "16bd4dad-7203-4401-d3e2-af36f01ea9f0"
      },
      "execution_count": 36,
      "outputs": [
        {
          "output_type": "execute_result",
          "data": {
            "text/plain": [
              "(<PIL.Image.Image image mode=L size=28x28 at 0x7F71ACC8B210>, 9)"
            ]
          },
          "metadata": {},
          "execution_count": 36
        }
      ]
    },
    {
      "cell_type": "code",
      "source": [
        "image, label = fashionDataset[0]\n",
        "plt.imshow(image, cmap='gray')\n",
        "print('Label:', label)"
      ],
      "metadata": {
        "colab": {
          "base_uri": "https://localhost:8080/",
          "height": 282
        },
        "id": "JLDs6_HeM8V6",
        "outputId": "b6a5a906-e04e-476f-9e09-a67f70f34343"
      },
      "execution_count": 37,
      "outputs": [
        {
          "output_type": "stream",
          "name": "stdout",
          "text": [
            "Label: 9\n"
          ]
        },
        {
          "output_type": "display_data",
          "data": {
            "text/plain": [
              "<Figure size 432x288 with 1 Axes>"
            ],
            "image/png": "[encoded data removed]"
          },
          "metadata": {
            "needs_background": "light"
          }
        }
      ]
    },
    {
      "cell_type": "code",
      "source": [
        "image, label = fashionDataset[10]\n",
        "plt.imshow(image, cmap='gray')\n",
        "print('Label:', label)"
      ],
      "metadata": {
        "colab": {
          "base_uri": "https://localhost:8080/",
          "height": 282
        },
        "id": "poPXx2_WNOK6",
        "outputId": "1c8c5199-d109-4031-c564-59895106321c"
      },
      "execution_count": 38,
      "outputs": [
        {
          "output_type": "stream",
          "name": "stdout",
          "text": [
            "Label: 0\n"
          ]
        },
        {
          "output_type": "display_data",
          "data": {
            "text/plain": [
              "<Figure size 432x288 with 1 Axes>"
            ],
            "image/png": "[encoded data removed]"
          },
          "metadata": {
            "needs_background": "light"
          }
        }
      ]
    },
    {
      "cell_type": "code",
      "source": [
        "import torchvision.transforms as transforms"
      ],
      "metadata": {
        "id": "3amiso7FNTDk"
      },
      "execution_count": 39,
      "outputs": []
    },
    {
      "cell_type": "code",
      "source": [
        "fashionTensorDataset = FashionMNIST(root='data/', \n",
        "                      train=True,\n",
        "                      transform=transforms.ToTensor())"
      ],
      "metadata": {
        "id": "Wvkp2_b0Nqx5"
      },
      "execution_count": 40,
      "outputs": []
    },
    {
      "cell_type": "code",
      "source": [
        "fashionTensorDataset[0][0].shape"
      ],
      "metadata": {
        "colab": {
          "base_uri": "https://localhost:8080/"
        },
        "id": "7SR1FORlOHC5",
        "outputId": "d0c6181b-7f19-4315-e368-546bc5652fbb"
      },
      "execution_count": 41,
      "outputs": [
        {
          "output_type": "execute_result",
          "data": {
            "text/plain": [
              "torch.Size([1, 28, 28])"
            ]
          },
          "metadata": {},
          "execution_count": 41
        }
      ]
    },
    {
      "cell_type": "code",
      "source": [
        "fashion_train_ds, fashion_val_ds = random_split(fashionTensorDataset, [50000, 10000])\n",
        "len(fashion_train_ds), len(fashion_val_ds)"
      ],
      "metadata": {
        "colab": {
          "base_uri": "https://localhost:8080/"
        },
        "id": "Zn8SmsDIT9rH",
        "outputId": "6f27e712-5f3a-4436-d074-93f2c7a56517"
      },
      "execution_count": 42,
      "outputs": [
        {
          "output_type": "execute_result",
          "data": {
            "text/plain": [
              "(50000, 10000)"
            ]
          },
          "metadata": {},
          "execution_count": 42
        }
      ]
    },
    {
      "cell_type": "code",
      "source": [
        "batch_size = 128\n",
        "\n",
        "fashion_train_loader = DataLoader(fashion_train_ds, batch_size, shuffle=True)\n",
        "fashion_val_loader = DataLoader(fashion_val_ds, batch_size)"
      ],
      "metadata": {
        "id": "ianwGueiUiRU"
      },
      "execution_count": 43,
      "outputs": []
    },
    {
      "cell_type": "markdown",
      "source": [
        "## Using Logistic Regression"
      ],
      "metadata": {
        "id": "-60gvrPz1kDc"
      }
    },
    {
      "cell_type": "code",
      "source": [
        "fashionTensorDataset[0][0].shape"
      ],
      "metadata": {
        "colab": {
          "base_uri": "https://localhost:8080/"
        },
        "id": "X4NNGEGFUw_3",
        "outputId": "95bd4812-7804-4e50-fa77-b930f5314f28"
      },
      "execution_count": 44,
      "outputs": [
        {
          "output_type": "execute_result",
          "data": {
            "text/plain": [
              "torch.Size([1, 28, 28])"
            ]
          },
          "metadata": {},
          "execution_count": 44
        }
      ]
    },
    {
      "cell_type": "code",
      "source": [
        "import torch.nn as nn\n",
        "\n",
        "input_size = 28*28\n",
        "output_size = 10\n",
        "\n",
        "input_size, output_size"
      ],
      "metadata": {
        "colab": {
          "base_uri": "https://localhost:8080/"
        },
        "id": "qFhs8XbO9OR9",
        "outputId": "2333cbd6-4b24-4940-8ac7-b7207e662cb2"
      },
      "execution_count": 45,
      "outputs": [
        {
          "output_type": "execute_result",
          "data": {
            "text/plain": [
              "(784, 10)"
            ]
          },
          "metadata": {},
          "execution_count": 45
        }
      ]
    },
    {
      "cell_type": "code",
      "source": [
        "class logistic_model(nn.Module):\n",
        "    def __init__(self, input_size, output_size):\n",
        "      super().__init__()\n",
        "      self.input_size= input_size\n",
        "      self.output_size = output_size\n",
        "      self.linear = nn.Linear(input_size, output_size)\n",
        "\n",
        "    def forward(self, data):\n",
        "      data = data.reshape(-1, self.input_size)\n",
        "      out = self.linear(data)\n",
        "      return out"
      ],
      "metadata": {
        "id": "zc8nd_NC-81U"
      },
      "execution_count": 46,
      "outputs": []
    },
    {
      "cell_type": "code",
      "source": [
        "model = logistic_model(input_size, output_size)"
      ],
      "metadata": {
        "id": "3Y3r0kR594y3"
      },
      "execution_count": 47,
      "outputs": []
    },
    {
      "cell_type": "code",
      "source": [
        "model.linear"
      ],
      "metadata": {
        "colab": {
          "base_uri": "https://localhost:8080/"
        },
        "id": "FZJQloQP-kJ6",
        "outputId": "06d5d6bd-db1d-4c82-cd8a-f20597b01996"
      },
      "execution_count": 48,
      "outputs": [
        {
          "output_type": "execute_result",
          "data": {
            "text/plain": [
              "Linear(in_features=784, out_features=10, bias=True)"
            ]
          },
          "metadata": {},
          "execution_count": 48
        }
      ]
    },
    {
      "cell_type": "code",
      "source": [
        "model.linear.weight.shape"
      ],
      "metadata": {
        "colab": {
          "base_uri": "https://localhost:8080/"
        },
        "id": "CFpo4jco-t5y",
        "outputId": "1f8bfbbe-af72-4515-d7bd-7b2151e8f919"
      },
      "execution_count": 49,
      "outputs": [
        {
          "output_type": "execute_result",
          "data": {
            "text/plain": [
              "torch.Size([10, 784])"
            ]
          },
          "metadata": {},
          "execution_count": 49
        }
      ]
    },
    {
      "cell_type": "code",
      "source": [
        "for images, labels in fashion_train_loader:\n",
        "    print(images.shape)\n",
        "    out = model(images)\n",
        "    break\n",
        "\n",
        "out.shape, out[0]"
      ],
      "metadata": {
        "colab": {
          "base_uri": "https://localhost:8080/"
        },
        "id": "wZkmEVeoCUmI",
        "outputId": "8cf7b439-d1e1-422b-e0f9-9a95f9bc8216"
      },
      "execution_count": 50,
      "outputs": [
        {
          "output_type": "stream",
          "name": "stdout",
          "text": [
            "torch.Size([128, 1, 28, 28])\n"
          ]
        },
        {
          "output_type": "execute_result",
          "data": {
            "text/plain": [
              "(torch.Size([128, 10]),\n",
              " tensor([ 0.0646, -0.4946,  0.6518,  0.2000,  0.0422, -0.4783, -0.3309,  0.1078,\n",
              "         -0.2014, -0.1266], grad_fn=<SelectBackward0>))"
            ]
          },
          "metadata": {},
          "execution_count": 50
        }
      ]
    },
    {
      "cell_type": "code",
      "source": [
        "import torch.nn.functional as F"
      ],
      "metadata": {
        "id": "tHjxrpmsD1z-"
      },
      "execution_count": 51,
      "outputs": []
    },
    {
      "cell_type": "markdown",
      "source": [
        "Defining the accuracy function using softmax concept"
      ],
      "metadata": {
        "id": "xjiuuZ7N-tLE"
      }
    },
    {
      "cell_type": "code",
      "source": [
        "def accuracy(outs, labels):\n",
        "  probs = F.softmax(outs, dim=1)\n",
        "  max_prob, pred = torch.max(probs, dim=1)\n",
        "  acc = torch.sum(pred == labels)/len(pred)\n",
        "  return acc"
      ],
      "metadata": {
        "id": "HDfAmkRvGUH5"
      },
      "execution_count": 52,
      "outputs": []
    },
    {
      "cell_type": "code",
      "source": [
        "accuracy(out, labels)"
      ],
      "metadata": {
        "colab": {
          "base_uri": "https://localhost:8080/"
        },
        "id": "JFwXLvYyGxy_",
        "outputId": "c0b4e23e-d024-44a3-973c-e2ef2e516f50"
      },
      "execution_count": 53,
      "outputs": [
        {
          "output_type": "execute_result",
          "data": {
            "text/plain": [
              "tensor(0.0859)"
            ]
          },
          "metadata": {},
          "execution_count": 53
        }
      ]
    },
    {
      "cell_type": "markdown",
      "source": [
        "Using cross entropy as a loss function as it is differentiable"
      ],
      "metadata": {
        "id": "uoq2-1Ku-xjK"
      }
    },
    {
      "cell_type": "code",
      "source": [
        "loss_func = F.cross_entropy"
      ],
      "metadata": {
        "id": "MW-VgidzKWmW"
      },
      "execution_count": 54,
      "outputs": []
    },
    {
      "cell_type": "code",
      "source": [
        "loss = loss_func(out, labels)\n",
        "loss"
      ],
      "metadata": {
        "colab": {
          "base_uri": "https://localhost:8080/"
        },
        "id": "c129LKCPKfXm",
        "outputId": "55cf9d95-31f4-4ae9-955b-ac78b0a5845b"
      },
      "execution_count": 55,
      "outputs": [
        {
          "output_type": "execute_result",
          "data": {
            "text/plain": [
              "tensor(2.2691, grad_fn=<NllLossBackward0>)"
            ]
          },
          "metadata": {},
          "execution_count": 55
        }
      ]
    },
    {
      "cell_type": "markdown",
      "source": [
        "**Combining all the concepts above**"
      ],
      "metadata": {
        "id": "2A6Y4MPQK-1A"
      }
    },
    {
      "cell_type": "code",
      "source": [
        "class final_logistic_model(nn.Module):\n",
        "    def __init__(self, input_size, output_size):\n",
        "      super().__init__()\n",
        "      self.input_size= input_size\n",
        "      self.output_size = output_size\n",
        "      self.linear = nn.Linear(input_size, output_size)\n",
        "        \n",
        "    def forward(self, data):\n",
        "      data = data.reshape(-1, self.input_size)\n",
        "      out = self.linear(data)\n",
        "      return out\n",
        "    \n",
        "    #Used in Training in fit()\n",
        "    def training_step(self, batch):\n",
        "        images, labels = batch \n",
        "        out = self(images)                  # Generate predictions\n",
        "        loss = F.cross_entropy(out, labels) # Calculate loss\n",
        "        return loss\n",
        "    \n",
        "    #Calculating the loss used in evaluate()\n",
        "    def validation_step(self, batch):\n",
        "        images, labels = batch \n",
        "        out = self(images)                    # Generate predictions\n",
        "        loss = F.cross_entropy(out, labels)   # Calculate loss\n",
        "        acc = accuracy(out, labels)           # Calculate accuracy\n",
        "        return {'val_loss': loss, 'val_acc': acc}\n",
        "        \n",
        "    #Output the loss and accuracy obtained used in evaluate()\n",
        "    def validation_epoch_end(self, outputs):\n",
        "        batch_losses = [x['val_loss'] for x in outputs]\n",
        "        epoch_loss = torch.stack(batch_losses).mean()   # Combine losses\n",
        "        batch_accs = [x['val_acc'] for x in outputs]\n",
        "        batch_accs = torch.stack(batch_accs).to(float)\n",
        "        epoch_acc = torch.mean(batch_accs)      # Combine accuracies\n",
        "        return {'val_loss': epoch_loss.item(), 'val_acc': epoch_acc.item()}\n",
        "    \n",
        "    #To print the result of evaluate function used in fit()\n",
        "    def epoch_end(self, epoch, result):\n",
        "        print(\"Epoch [{}], val_loss: {:.4f}, val_acc: {:.4f}\".format(epoch, result['val_loss'], result['val_acc']))\n",
        "    "
      ],
      "metadata": {
        "id": "b88AT8fHLVeN"
      },
      "execution_count": 56,
      "outputs": []
    },
    {
      "cell_type": "code",
      "source": [
        "def evaluate(model, val_loader):\n",
        "    outputs = [model.validation_step(batch) for batch in val_loader]\n",
        "    return model.validation_epoch_end(outputs)"
      ],
      "metadata": {
        "id": "pH9MTeoeMOks"
      },
      "execution_count": 57,
      "outputs": []
    },
    {
      "cell_type": "markdown",
      "source": [
        "Training the Model"
      ],
      "metadata": {
        "id": "1Lc7XVoq_KqY"
      }
    },
    {
      "cell_type": "code",
      "source": [
        "def fit(epochs, lr, model, train_loader, val_loader, opt_func=torch.optim.SGD):\n",
        "    optimizer = opt_func(model.parameters(), lr)\n",
        "    history = [] \n",
        "    \n",
        "    for epoch in range(epochs):\n",
        "         \n",
        "        for batch in train_loader:\n",
        "            loss = model.training_step(batch)\n",
        "            loss.backward()\n",
        "            optimizer.step()\n",
        "            optimizer.zero_grad()\n",
        "        \n",
        "        result = evaluate(model, val_loader)\n",
        "        model.epoch_end(epoch, result)\n",
        "        history.append(result)\n",
        "\n",
        "    return history"
      ],
      "metadata": {
        "id": "1djgf7WpLYQS"
      },
      "execution_count": 58,
      "outputs": []
    },
    {
      "cell_type": "code",
      "source": [
        "fashion_model = final_logistic_model(input_size, output_size)"
      ],
      "metadata": {
        "id": "Km2XB1GGNWVU"
      },
      "execution_count": 59,
      "outputs": []
    },
    {
      "cell_type": "code",
      "source": [
        "result0 = evaluate(fashion_model, fashion_val_loader)\n",
        "result0"
      ],
      "metadata": {
        "colab": {
          "base_uri": "https://localhost:8080/"
        },
        "id": "LxCvdJRuNt0H",
        "outputId": "e0d7761b-47e0-4152-a369-37405fa31442"
      },
      "execution_count": 60,
      "outputs": [
        {
          "output_type": "execute_result",
          "data": {
            "text/plain": [
              "{'val_acc': 0.08494857594936708, 'val_loss': 2.3543262481689453}"
            ]
          },
          "metadata": {},
          "execution_count": 60
        }
      ]
    },
    {
      "cell_type": "code",
      "source": [
        "history1 = fit(10, 0.001, fashion_model, fashion_train_loader, fashion_val_loader)"
      ],
      "metadata": {
        "colab": {
          "base_uri": "https://localhost:8080/"
        },
        "id": "SvEhwQvDVYRm",
        "outputId": "5422175a-cd91-475c-928e-c06c65f93f10"
      },
      "execution_count": 61,
      "outputs": [
        {
          "output_type": "stream",
          "name": "stdout",
          "text": [
            "Epoch [0], val_loss: 1.7224, val_acc: 0.6024\n",
            "Epoch [1], val_loss: 1.4291, val_acc: 0.6522\n",
            "Epoch [2], val_loss: 1.2621, val_acc: 0.6650\n",
            "Epoch [3], val_loss: 1.1553, val_acc: 0.6725\n",
            "Epoch [4], val_loss: 1.0810, val_acc: 0.6835\n",
            "Epoch [5], val_loss: 1.0257, val_acc: 0.6913\n",
            "Epoch [6], val_loss: 0.9828, val_acc: 0.7002\n",
            "Epoch [7], val_loss: 0.9484, val_acc: 0.7072\n",
            "Epoch [8], val_loss: 0.9197, val_acc: 0.7174\n",
            "Epoch [9], val_loss: 0.8955, val_acc: 0.7232\n"
          ]
        }
      ]
    },
    {
      "cell_type": "code",
      "source": [
        "history2 = fit(10, 0.001, fashion_model, fashion_train_loader, fashion_val_loader)"
      ],
      "metadata": {
        "colab": {
          "base_uri": "https://localhost:8080/"
        },
        "id": "yXh0rQ1fVkFu",
        "outputId": "a87003a9-7ace-4fec-c274-269d45449e38"
      },
      "execution_count": 62,
      "outputs": [
        {
          "output_type": "stream",
          "name": "stdout",
          "text": [
            "Epoch [0], val_loss: 0.8748, val_acc: 0.7286\n",
            "Epoch [1], val_loss: 0.8568, val_acc: 0.7328\n",
            "Epoch [2], val_loss: 0.8406, val_acc: 0.7386\n",
            "Epoch [3], val_loss: 0.8261, val_acc: 0.7430\n",
            "Epoch [4], val_loss: 0.8132, val_acc: 0.7469\n",
            "Epoch [5], val_loss: 0.8014, val_acc: 0.7496\n",
            "Epoch [6], val_loss: 0.7906, val_acc: 0.7518\n",
            "Epoch [7], val_loss: 0.7808, val_acc: 0.7529\n",
            "Epoch [8], val_loss: 0.7716, val_acc: 0.7546\n",
            "Epoch [9], val_loss: 0.7633, val_acc: 0.7571\n"
          ]
        }
      ]
    },
    {
      "cell_type": "code",
      "source": [
        "history3 = fit(10, 0.001, fashion_model, fashion_train_loader, fashion_val_loader)"
      ],
      "metadata": {
        "colab": {
          "base_uri": "https://localhost:8080/"
        },
        "id": "1tmSG3AaVrQ2",
        "outputId": "fa3974b0-407f-4970-b885-9c72bde94592"
      },
      "execution_count": 63,
      "outputs": [
        {
          "output_type": "stream",
          "name": "stdout",
          "text": [
            "Epoch [0], val_loss: 0.7552, val_acc: 0.7579\n",
            "Epoch [1], val_loss: 0.7478, val_acc: 0.7609\n",
            "Epoch [2], val_loss: 0.7411, val_acc: 0.7621\n",
            "Epoch [3], val_loss: 0.7344, val_acc: 0.7634\n",
            "Epoch [4], val_loss: 0.7283, val_acc: 0.7649\n",
            "Epoch [5], val_loss: 0.7226, val_acc: 0.7670\n",
            "Epoch [6], val_loss: 0.7170, val_acc: 0.7685\n",
            "Epoch [7], val_loss: 0.7117, val_acc: 0.7704\n",
            "Epoch [8], val_loss: 0.7068, val_acc: 0.7716\n",
            "Epoch [9], val_loss: 0.7022, val_acc: 0.7728\n"
          ]
        }
      ]
    },
    {
      "cell_type": "code",
      "source": [
        "history4 = fit(10, 0.001, fashion_model, fashion_train_loader, fashion_val_loader)"
      ],
      "metadata": {
        "colab": {
          "base_uri": "https://localhost:8080/"
        },
        "id": "GLB_7Z_UXnvt",
        "outputId": "23071d99-09e8-4c99-a36c-2917f13ec5fe"
      },
      "execution_count": 64,
      "outputs": [
        {
          "output_type": "stream",
          "name": "stdout",
          "text": [
            "Epoch [0], val_loss: 0.6976, val_acc: 0.7738\n",
            "Epoch [1], val_loss: 0.6933, val_acc: 0.7749\n",
            "Epoch [2], val_loss: 0.6891, val_acc: 0.7767\n",
            "Epoch [3], val_loss: 0.6852, val_acc: 0.7776\n",
            "Epoch [4], val_loss: 0.6814, val_acc: 0.7795\n",
            "Epoch [5], val_loss: 0.6777, val_acc: 0.7803\n",
            "Epoch [6], val_loss: 0.6742, val_acc: 0.7822\n",
            "Epoch [7], val_loss: 0.6708, val_acc: 0.7828\n",
            "Epoch [8], val_loss: 0.6676, val_acc: 0.7836\n",
            "Epoch [9], val_loss: 0.6644, val_acc: 0.7848\n"
          ]
        }
      ]
    },
    {
      "cell_type": "code",
      "source": [
        "history5 = fit(10, 0.001, fashion_model, fashion_train_loader, fashion_val_loader)"
      ],
      "metadata": {
        "colab": {
          "base_uri": "https://localhost:8080/"
        },
        "id": "AVw_dlsEYIjt",
        "outputId": "7cfe8f73-d716-4c81-d892-bdbd7c4ac29b"
      },
      "execution_count": 65,
      "outputs": [
        {
          "output_type": "stream",
          "name": "stdout",
          "text": [
            "Epoch [0], val_loss: 0.6613, val_acc: 0.7855\n",
            "Epoch [1], val_loss: 0.6585, val_acc: 0.7864\n",
            "Epoch [2], val_loss: 0.6557, val_acc: 0.7872\n",
            "Epoch [3], val_loss: 0.6530, val_acc: 0.7880\n",
            "Epoch [4], val_loss: 0.6504, val_acc: 0.7894\n",
            "Epoch [5], val_loss: 0.6477, val_acc: 0.7896\n",
            "Epoch [6], val_loss: 0.6452, val_acc: 0.7906\n",
            "Epoch [7], val_loss: 0.6427, val_acc: 0.7916\n",
            "Epoch [8], val_loss: 0.6404, val_acc: 0.7926\n",
            "Epoch [9], val_loss: 0.6380, val_acc: 0.7926\n"
          ]
        }
      ]
    },
    {
      "cell_type": "code",
      "source": [
        "history6 = fit(10, 0.001, fashion_model, fashion_train_loader, fashion_val_loader)"
      ],
      "metadata": {
        "colab": {
          "base_uri": "https://localhost:8080/"
        },
        "id": "mjq56kkBh549",
        "outputId": "c6b413ee-1092-42bc-c972-20da2eb2ae28"
      },
      "execution_count": 66,
      "outputs": [
        {
          "output_type": "stream",
          "name": "stdout",
          "text": [
            "Epoch [0], val_loss: 0.6358, val_acc: 0.7929\n",
            "Epoch [1], val_loss: 0.6337, val_acc: 0.7943\n",
            "Epoch [2], val_loss: 0.6315, val_acc: 0.7944\n",
            "Epoch [3], val_loss: 0.6295, val_acc: 0.7956\n",
            "Epoch [4], val_loss: 0.6275, val_acc: 0.7962\n",
            "Epoch [5], val_loss: 0.6256, val_acc: 0.7960\n",
            "Epoch [6], val_loss: 0.6237, val_acc: 0.7971\n",
            "Epoch [7], val_loss: 0.6218, val_acc: 0.7975\n",
            "Epoch [8], val_loss: 0.6201, val_acc: 0.7983\n",
            "Epoch [9], val_loss: 0.6182, val_acc: 0.7981\n"
          ]
        }
      ]
    },
    {
      "cell_type": "code",
      "source": [
        "history = [result0] + history1 + history2 + history3 + history4 + history5 + history6\n",
        "accuracies = [result['val_acc'] for result in history]\n",
        "plt.plot(accuracies, '-x')\n",
        "plt.xlabel('epoch')\n",
        "plt.ylabel('accuracy')\n",
        "plt.title('Accuracy vs. No. of epochs');"
      ],
      "metadata": {
        "colab": {
          "base_uri": "https://localhost:8080/",
          "height": 295
        },
        "id": "7BgYni21XADq",
        "outputId": "000a9724-9d25-4ffb-f94f-46fc217c7cc6"
      },
      "execution_count": 67,
      "outputs": [
        {
          "output_type": "display_data",
          "data": {
            "text/plain": [
              "<Figure size 432x288 with 1 Axes>"
            ],
            "image/png": "[encoded data removed]"
          },
          "metadata": {
            "needs_background": "light"
          }
        }
      ]
    },
    {
      "cell_type": "markdown",
      "source": [
        "After runing 60+ epoch, we are getting a validation accuracy of approx 80%"
      ],
      "metadata": {
        "id": "4yMKD1lS_SQg"
      }
    },
    {
      "cell_type": "markdown",
      "source": [
        "Prediction on Test Dataset"
      ],
      "metadata": {
        "id": "QQT7osV1eWze"
      }
    },
    {
      "cell_type": "code",
      "source": [
        "fashion_test_dataset = FashionMNIST(root='data/', \n",
        "                     train=False,\n",
        "                     transform=transforms.ToTensor())"
      ],
      "metadata": {
        "id": "wz4I2BU_Yb3h"
      },
      "execution_count": 68,
      "outputs": []
    },
    {
      "cell_type": "code",
      "source": [
        "image, label = fashion_test_dataset[0]\n",
        "plt.imshow(torch.squeeze(image), cmap='gray')\n",
        "print('Label:', label)"
      ],
      "metadata": {
        "colab": {
          "base_uri": "https://localhost:8080/",
          "height": 282
        },
        "id": "Kw1uustCYz9a",
        "outputId": "7238835a-07da-44f9-e3d0-8e3f5264581b"
      },
      "execution_count": 69,
      "outputs": [
        {
          "output_type": "stream",
          "name": "stdout",
          "text": [
            "Label: 9\n"
          ]
        },
        {
          "output_type": "display_data",
          "data": {
            "text/plain": [
              "<Figure size 432x288 with 1 Axes>"
            ],
            "image/png": "[encoded data removed]"
          },
          "metadata": {
            "needs_background": "light"
          }
        }
      ]
    },
    {
      "cell_type": "code",
      "source": [
        "def pred_image(data, model):\n",
        "  y = model(data)\n",
        "  _, pred = torch.max(y, dim = 1)\n",
        "  return pred.item()"
      ],
      "metadata": {
        "id": "6ZfvX_mmcC6W"
      },
      "execution_count": 70,
      "outputs": []
    },
    {
      "cell_type": "code",
      "source": [
        "pred_image(fashion_test_dataset[0][0], fashion_model)"
      ],
      "metadata": {
        "colab": {
          "base_uri": "https://localhost:8080/"
        },
        "id": "peYRNbDRch_d",
        "outputId": "2cbb97e7-1975-4659-eb9e-b3b0a56c2c2b"
      },
      "execution_count": 71,
      "outputs": [
        {
          "output_type": "execute_result",
          "data": {
            "text/plain": [
              "9"
            ]
          },
          "metadata": {},
          "execution_count": 71
        }
      ]
    },
    {
      "cell_type": "code",
      "source": [
        "image, label = fashion_test_dataset[5]\n",
        "plt.imshow(torch.squeeze(image), cmap='gray')\n",
        "print('Label:', label)"
      ],
      "metadata": {
        "colab": {
          "base_uri": "https://localhost:8080/",
          "height": 282
        },
        "id": "SQnjBoBlhhX1",
        "outputId": "1899e3fe-580a-4f23-94c2-a1ded14ab209"
      },
      "execution_count": 72,
      "outputs": [
        {
          "output_type": "stream",
          "name": "stdout",
          "text": [
            "Label: 1\n"
          ]
        },
        {
          "output_type": "display_data",
          "data": {
            "text/plain": [
              "<Figure size 432x288 with 1 Axes>"
            ],
            "image/png": "[encoded data removed]"
          },
          "metadata": {
            "needs_background": "light"
          }
        }
      ]
    },
    {
      "cell_type": "code",
      "source": [
        "pred_image(fashion_test_dataset[5][0], fashion_model)"
      ],
      "metadata": {
        "colab": {
          "base_uri": "https://localhost:8080/"
        },
        "id": "fWlG4RgnhlN4",
        "outputId": "075d7fa0-eac6-4159-b8fb-e572157ef7df"
      },
      "execution_count": 73,
      "outputs": [
        {
          "output_type": "execute_result",
          "data": {
            "text/plain": [
              "1"
            ]
          },
          "metadata": {},
          "execution_count": 73
        }
      ]
    },
    {
      "cell_type": "code",
      "source": [
        "image, label = fashion_test_dataset[10]\n",
        "plt.imshow(torch.squeeze(image), cmap='gray')\n",
        "print('Label:', label)"
      ],
      "metadata": {
        "colab": {
          "base_uri": "https://localhost:8080/",
          "height": 282
        },
        "id": "tzBrQgimhvDw",
        "outputId": "1b395013-e5c0-4257-97ac-379440cb43e6"
      },
      "execution_count": 74,
      "outputs": [
        {
          "output_type": "stream",
          "name": "stdout",
          "text": [
            "Label: 4\n"
          ]
        },
        {
          "output_type": "display_data",
          "data": {
            "text/plain": [
              "<Figure size 432x288 with 1 Axes>"
            ],
            "image/png": "[encoded data removed]"
          },
          "metadata": {
            "needs_background": "light"
          }
        }
      ]
    },
    {
      "cell_type": "code",
      "source": [
        "pred_image(fashion_test_dataset[10][0], fashion_model)"
      ],
      "metadata": {
        "colab": {
          "base_uri": "https://localhost:8080/"
        },
        "id": "6oGDwd6Whr-A",
        "outputId": "349663a3-5611-4517-ab91-01736422534b"
      },
      "execution_count": 75,
      "outputs": [
        {
          "output_type": "execute_result",
          "data": {
            "text/plain": [
              "2"
            ]
          },
          "metadata": {},
          "execution_count": 75
        }
      ]
    },
    {
      "cell_type": "code",
      "source": [
        "image, label = fashion_test_dataset[20]\n",
        "plt.imshow(torch.squeeze(image), cmap='gray')\n",
        "print('Label:', label)"
      ],
      "metadata": {
        "colab": {
          "base_uri": "https://localhost:8080/",
          "height": 282
        },
        "id": "iu92BPEqj2IH",
        "outputId": "56aee76c-c7b6-422f-9ccf-45ac53159060"
      },
      "execution_count": 76,
      "outputs": [
        {
          "output_type": "stream",
          "name": "stdout",
          "text": [
            "Label: 2\n"
          ]
        },
        {
          "output_type": "display_data",
          "data": {
            "text/plain": [
              "<Figure size 432x288 with 1 Axes>"
            ],
            "image/png": "[encoded data removed]"
          },
          "metadata": {
            "needs_background": "light"
          }
        }
      ]
    },
    {
      "cell_type": "code",
      "source": [
        "pred_image(fashion_test_dataset[20][0], fashion_model)"
      ],
      "metadata": {
        "colab": {
          "base_uri": "https://localhost:8080/"
        },
        "id": "i3DJ5OZEj83c",
        "outputId": "e62d8ab1-7b40-45a2-b6ec-2efd959cf622"
      },
      "execution_count": 77,
      "outputs": [
        {
          "output_type": "execute_result",
          "data": {
            "text/plain": [
              "0"
            ]
          },
          "metadata": {},
          "execution_count": 77
        }
      ]
    },
    {
      "cell_type": "markdown",
      "source": [
        "Logistic Regression was able to give 80.23% accuracy"
      ],
      "metadata": {
        "id": "NNHblI7KhyQB"
      }
    },
    {
      "cell_type": "markdown",
      "source": [
        "## Using Neural Network"
      ],
      "metadata": {
        "id": "CVHSaYtuik8E"
      }
    },
    {
      "cell_type": "markdown",
      "source": [
        "Defining the model"
      ],
      "metadata": {
        "id": "Nh_8e_4O_u3U"
      }
    },
    {
      "cell_type": "code",
      "source": [
        "class neural_Model(nn.Module):\n",
        "    \"\"\"Feedfoward neural network with 1 hidden layer\"\"\"\n",
        "    def __init__(self, in_size, hidden_size, out_size):\n",
        "        super().__init__()\n",
        "        # hidden layer\n",
        "        self.linear1 = nn.Linear(in_size, hidden_size)\n",
        "        # output layer\n",
        "        self.linear2 = nn.Linear(hidden_size, out_size)\n",
        "        \n",
        "    def forward(self, xb):\n",
        "        # Flattening the image tensors\n",
        "        xb = xb.view(xb.size(0), -1)\n",
        "        # Get intermediate outputs using hidden layer\n",
        "        out = self.linear1(xb)\n",
        "        # Apply activation function(ReLU)\n",
        "        out = F.relu(out)\n",
        "        # Get predictions using output layer\n",
        "        out = self.linear2(out)\n",
        "        return out\n",
        "    \n",
        "    def training_step(self, batch):\n",
        "        images, labels = batch \n",
        "        out = self(images)                  # Generate predictions\n",
        "        loss = F.cross_entropy(out, labels) # Calculate loss\n",
        "        return loss\n",
        "    \n",
        "    def validation_step(self, batch):\n",
        "        images, labels = batch \n",
        "        out = self(images)                    # Generate predictions\n",
        "        loss = F.cross_entropy(out, labels)   # Calculate loss\n",
        "        acc = accuracy(out, labels)           # Calculate accuracy\n",
        "        return {'val_loss': loss, 'val_acc': acc}\n",
        "        \n",
        "    def validation_epoch_end(self, outputs):\n",
        "        batch_losses = [x['val_loss'] for x in outputs]\n",
        "        epoch_loss = torch.stack(batch_losses).mean()   # Combine losses\n",
        "        batch_accs = [x['val_acc'] for x in outputs]\n",
        "        epoch_acc = torch.stack(batch_accs).mean()      # Combine accuracies\n",
        "        return {'val_loss': epoch_loss.item(), 'val_acc': epoch_acc.item()}\n",
        "    \n",
        "    def epoch_end(self, epoch, result):\n",
        "        print(\"Epoch [{}], val_loss: {:.4f}, val_acc: {:.4f}\".format(epoch, result['val_loss'], result['val_acc']))"
      ],
      "metadata": {
        "id": "orGkbQ5Mi6Nn"
      },
      "execution_count": 78,
      "outputs": []
    },
    {
      "cell_type": "code",
      "source": [
        "neuralModel = neural_Model(input_size, hidden_size=32, out_size = output_size)"
      ],
      "metadata": {
        "id": "Hwv1M0UaroPL"
      },
      "execution_count": 79,
      "outputs": []
    },
    {
      "cell_type": "code",
      "source": [
        "for t in neuralModel.parameters():\n",
        "    print(t.shape)"
      ],
      "metadata": {
        "colab": {
          "base_uri": "https://localhost:8080/"
        },
        "id": "GVttNEGQsKVy",
        "outputId": "4458137c-d2f3-4697-9714-2e17b0a950e7"
      },
      "execution_count": 80,
      "outputs": [
        {
          "output_type": "stream",
          "name": "stdout",
          "text": [
            "torch.Size([32, 784])\n",
            "torch.Size([32])\n",
            "torch.Size([10, 32])\n",
            "torch.Size([10])\n"
          ]
        }
      ]
    },
    {
      "cell_type": "markdown",
      "source": [
        "Enabling GPU, to speed up the computation"
      ],
      "metadata": {
        "id": "mmpXYrjF_zCP"
      }
    },
    {
      "cell_type": "code",
      "source": [
        "device = 'cuda' if torch.cuda.is_available() else 'cpu'\n",
        "device"
      ],
      "metadata": {
        "colab": {
          "base_uri": "https://localhost:8080/",
          "height": 35
        },
        "id": "tWJKUBgQn7FW",
        "outputId": "81cada8b-aab9-4d39-b2e1-499fc1f1b773"
      },
      "execution_count": 81,
      "outputs": [
        {
          "output_type": "execute_result",
          "data": {
            "text/plain": [
              "'cuda'"
            ],
            "application/vnd.google.colaboratory.intrinsic+json": {
              "type": "string"
            }
          },
          "metadata": {},
          "execution_count": 81
        }
      ]
    },
    {
      "cell_type": "code",
      "source": [
        "def to_device(data, device):\n",
        "    \"\"\"Move tensor(s) to chosen device\"\"\"\n",
        "    if isinstance(data, (list,tuple)):\n",
        "        return [to_device(x, device) for x in data]\n",
        "    return data.to(device, non_blocking=True)"
      ],
      "metadata": {
        "id": "TQRs-ZiHgLw4"
      },
      "execution_count": 82,
      "outputs": []
    },
    {
      "cell_type": "code",
      "source": [
        "class DeviceDataLoader():\n",
        "    \"\"\"Wrap a dataloader to move data to a device\"\"\"\n",
        "    def __init__(self, dl, device):\n",
        "        self.dl = dl\n",
        "        self.device = device\n",
        "        \n",
        "    def __iter__(self):\n",
        "        \"\"\"Yield a batch of data after moving it to device\"\"\"\n",
        "        for b in self.dl: \n",
        "            yield to_device(b, self.device)\n",
        "\n",
        "    def __len__(self):\n",
        "        \"\"\"Number of batches\"\"\"\n",
        "        return len(self.dl)"
      ],
      "metadata": {
        "id": "3WFr8MC5gCE3"
      },
      "execution_count": 83,
      "outputs": []
    },
    {
      "cell_type": "code",
      "source": [
        "fashion_train_loader = DeviceDataLoader(fashion_train_loader, device)\n",
        "fashion_val_loader = DeviceDataLoader(fashion_val_loader, device)"
      ],
      "metadata": {
        "id": "nN3MmrwfgmwM"
      },
      "execution_count": 84,
      "outputs": []
    },
    {
      "cell_type": "code",
      "source": [
        "for xb, yb in fashion_val_loader:\n",
        "    print('xb.device:', xb.device)\n",
        "    print('yb:', yb)\n",
        "    break"
      ],
      "metadata": {
        "colab": {
          "base_uri": "https://localhost:8080/"
        },
        "id": "wQnrjoIIgsI8",
        "outputId": "65331170-7021-4091-f3e3-369ff2da1c55"
      },
      "execution_count": 85,
      "outputs": [
        {
          "output_type": "stream",
          "name": "stdout",
          "text": [
            "xb.device: cuda:0\n",
            "yb: tensor([0, 7, 2, 4, 4, 3, 1, 6, 9, 3, 9, 9, 1, 6, 4, 5, 5, 6, 2, 0, 8, 9, 3, 1,\n",
            "        3, 8, 4, 6, 9, 7, 7, 4, 2, 1, 7, 5, 3, 4, 1, 6, 4, 7, 0, 3, 0, 5, 2, 9,\n",
            "        8, 8, 7, 5, 6, 8, 1, 1, 0, 3, 6, 9, 0, 9, 7, 3, 2, 1, 9, 2, 9, 3, 0, 0,\n",
            "        2, 5, 0, 5, 5, 0, 0, 7, 3, 2, 7, 1, 0, 4, 9, 8, 5, 2, 2, 3, 0, 2, 8, 7,\n",
            "        9, 3, 2, 4, 9, 0, 6, 6, 7, 3, 5, 6, 6, 2, 4, 0, 2, 6, 4, 4, 7, 1, 0, 6,\n",
            "        4, 5, 8, 4, 9, 1, 9, 8], device='cuda:0')\n"
          ]
        }
      ]
    },
    {
      "cell_type": "markdown",
      "source": [
        "Training the model"
      ],
      "metadata": {
        "id": "_SAjtZDt__fc"
      }
    },
    {
      "cell_type": "code",
      "source": [
        "def evaluate(model, val_loader):\n",
        "    \"\"\"Evaluate the model's performance on the validation set\"\"\"\n",
        "    outputs = [model.validation_step(batch) for batch in val_loader]\n",
        "    return model.validation_epoch_end(outputs)\n",
        "\n",
        "def fit(epochs, lr, model, train_loader, val_loader, opt_func=torch.optim.SGD):\n",
        "    \"\"\"Train the model using gradient descent\"\"\"\n",
        "    history = []\n",
        "    optimizer = opt_func(model.parameters(), lr)\n",
        "    for epoch in range(epochs):\n",
        "        # Training Phase \n",
        "        for batch in train_loader:\n",
        "            loss = model.training_step(batch)\n",
        "            loss.backward()\n",
        "            optimizer.step()\n",
        "            optimizer.zero_grad()\n",
        "        # Validation phase\n",
        "        result = evaluate(model, val_loader)\n",
        "        model.epoch_end(epoch, result)\n",
        "        history.append(result)\n",
        "    return history"
      ],
      "metadata": {
        "id": "HXp17Bxbg6V9"
      },
      "execution_count": 86,
      "outputs": []
    },
    {
      "cell_type": "code",
      "source": [
        "neuralModel = neural_Model(input_size, hidden_size=32, out_size = output_size)\n",
        "to_device(neuralModel, device)"
      ],
      "metadata": {
        "colab": {
          "base_uri": "https://localhost:8080/"
        },
        "id": "fCGpzklBhIUl",
        "outputId": "7d09b9cb-4bdc-4478-991b-044490ce09cd"
      },
      "execution_count": 87,
      "outputs": [
        {
          "output_type": "execute_result",
          "data": {
            "text/plain": [
              "neural_Model(\n",
              "  (linear1): Linear(in_features=784, out_features=32, bias=True)\n",
              "  (linear2): Linear(in_features=32, out_features=10, bias=True)\n",
              ")"
            ]
          },
          "metadata": {},
          "execution_count": 87
        }
      ]
    },
    {
      "cell_type": "code",
      "source": [
        "history = [evaluate(neuralModel, fashion_val_loader)]\n",
        "history"
      ],
      "metadata": {
        "colab": {
          "base_uri": "https://localhost:8080/"
        },
        "id": "BbrRu3GYhhRK",
        "outputId": "ea66e9e3-46fd-40d0-da23-0c195dc58f58"
      },
      "execution_count": 88,
      "outputs": [
        {
          "output_type": "execute_result",
          "data": {
            "text/plain": [
              "[{'val_acc': 0.10037579387426376, 'val_loss': 2.324483871459961}]"
            ]
          },
          "metadata": {},
          "execution_count": 88
        }
      ]
    },
    {
      "cell_type": "code",
      "source": [
        "history += fit(5, 0.05, neuralModel, fashion_train_loader, fashion_val_loader)"
      ],
      "metadata": {
        "colab": {
          "base_uri": "https://localhost:8080/"
        },
        "id": "AogO24TZiZ3J",
        "outputId": "6d6d5318-0fa7-4e7a-c58e-c844368a1d30"
      },
      "execution_count": 89,
      "outputs": [
        {
          "output_type": "stream",
          "name": "stdout",
          "text": [
            "Epoch [0], val_loss: 0.6331, val_acc: 0.7780\n",
            "Epoch [1], val_loss: 0.5425, val_acc: 0.8109\n",
            "Epoch [2], val_loss: 0.5090, val_acc: 0.8183\n",
            "Epoch [3], val_loss: 0.5176, val_acc: 0.8177\n",
            "Epoch [4], val_loss: 0.5075, val_acc: 0.8166\n"
          ]
        }
      ]
    },
    {
      "cell_type": "code",
      "source": [
        "history += fit(5, 0.01, neuralModel, fashion_train_loader, fashion_val_loader)"
      ],
      "metadata": {
        "colab": {
          "base_uri": "https://localhost:8080/"
        },
        "id": "7ANFDDAditq1",
        "outputId": "6e3d1d20-d18b-4edb-9b98-d43a7231549a"
      },
      "execution_count": 90,
      "outputs": [
        {
          "output_type": "stream",
          "name": "stdout",
          "text": [
            "Epoch [0], val_loss: 0.4605, val_acc: 0.8390\n",
            "Epoch [1], val_loss: 0.4576, val_acc: 0.8423\n",
            "Epoch [2], val_loss: 0.4566, val_acc: 0.8401\n",
            "Epoch [3], val_loss: 0.4569, val_acc: 0.8393\n",
            "Epoch [4], val_loss: 0.4578, val_acc: 0.8399\n"
          ]
        }
      ]
    },
    {
      "cell_type": "code",
      "source": [
        "history += fit(5, 0.005, neuralModel, fashion_train_loader, fashion_val_loader)"
      ],
      "metadata": {
        "colab": {
          "base_uri": "https://localhost:8080/"
        },
        "id": "b9Vu9SOhi83o",
        "outputId": "e026aefb-50dd-4e88-bf08-77d4db7d3b41"
      },
      "execution_count": 91,
      "outputs": [
        {
          "output_type": "stream",
          "name": "stdout",
          "text": [
            "Epoch [0], val_loss: 0.4495, val_acc: 0.8438\n",
            "Epoch [1], val_loss: 0.4503, val_acc: 0.8430\n",
            "Epoch [2], val_loss: 0.4479, val_acc: 0.8444\n",
            "Epoch [3], val_loss: 0.4477, val_acc: 0.8443\n",
            "Epoch [4], val_loss: 0.4469, val_acc: 0.8451\n"
          ]
        }
      ]
    },
    {
      "cell_type": "markdown",
      "source": [
        "Using only 16 epochs, able to get validation accuracy of 84.5%"
      ],
      "metadata": {
        "id": "HlL9BxLSAIsG"
      }
    },
    {
      "cell_type": "code",
      "source": [
        "accuracies = [result['val_acc'] for result in history]\n",
        "plt.plot(accuracies, '-x')\n",
        "plt.xlabel('epoch')\n",
        "plt.ylabel('accuracy')\n",
        "plt.title('Accuracy vs. No. of epochs');"
      ],
      "metadata": {
        "colab": {
          "base_uri": "https://localhost:8080/",
          "height": 295
        },
        "id": "tdJnxe7Bi6YH",
        "outputId": "48d80f4a-7b93-46b1-8fc0-b645fc6cfb2d"
      },
      "execution_count": 92,
      "outputs": [
        {
          "output_type": "display_data",
          "data": {
            "text/plain": [
              "<Figure size 432x288 with 1 Axes>"
            ],
            "image/png": "[encoded data removed]"
          },
          "metadata": {
            "needs_background": "light"
          }
        }
      ]
    },
    {
      "cell_type": "markdown",
      "source": [
        "Predicting the class for the test image"
      ],
      "metadata": {
        "id": "vKJOSwKUATWT"
      }
    },
    {
      "cell_type": "code",
      "source": [
        "def neural_pred_image(img, model):\n",
        "    xb = to_device(img.unsqueeze(0), device)\n",
        "    yb = model(xb)\n",
        "    _, preds  = torch.max(yb, dim=1)\n",
        "    return preds[0].item()"
      ],
      "metadata": {
        "id": "E0uZy5Xsk6qd"
      },
      "execution_count": 93,
      "outputs": []
    },
    {
      "cell_type": "code",
      "source": [
        "image, label = fashion_test_dataset[10]\n",
        "plt.imshow(torch.squeeze(image), cmap='gray')\n",
        "print('Label:', label)"
      ],
      "metadata": {
        "colab": {
          "base_uri": "https://localhost:8080/",
          "height": 282
        },
        "id": "XEC-CkOFlRy8",
        "outputId": "3501b987-0e3b-41ff-c9ba-47f4d10fb5a9"
      },
      "execution_count": 94,
      "outputs": [
        {
          "output_type": "stream",
          "name": "stdout",
          "text": [
            "Label: 4\n"
          ]
        },
        {
          "output_type": "display_data",
          "data": {
            "text/plain": [
              "<Figure size 432x288 with 1 Axes>"
            ],
            "image/png": "[encoded data removed]"
          },
          "metadata": {
            "needs_background": "light"
          }
        }
      ]
    },
    {
      "cell_type": "code",
      "source": [
        "neural_pred_image(fashion_test_dataset[10][0], neuralModel)"
      ],
      "metadata": {
        "colab": {
          "base_uri": "https://localhost:8080/"
        },
        "id": "i2LAWGfvkLPN",
        "outputId": "ae1b4142-5b89-49a9-f55d-9be85a4e881b"
      },
      "execution_count": 95,
      "outputs": [
        {
          "output_type": "execute_result",
          "data": {
            "text/plain": [
              "4"
            ]
          },
          "metadata": {},
          "execution_count": 95
        }
      ]
    },
    {
      "cell_type": "code",
      "source": [
        "image, label = fashion_test_dataset[35]\n",
        "plt.imshow(torch.squeeze(image), cmap='gray')\n",
        "print('Label:', label)"
      ],
      "metadata": {
        "colab": {
          "base_uri": "https://localhost:8080/",
          "height": 282
        },
        "id": "I_pp6Hzxlo17",
        "outputId": "b5f19cd2-585a-40e8-e39c-4559df7c24f0"
      },
      "execution_count": 96,
      "outputs": [
        {
          "output_type": "stream",
          "name": "stdout",
          "text": [
            "Label: 0\n"
          ]
        },
        {
          "output_type": "display_data",
          "data": {
            "text/plain": [
              "<Figure size 432x288 with 1 Axes>"
            ],
            "image/png": "[encoded data removed]"
          },
          "metadata": {
            "needs_background": "light"
          }
        }
      ]
    },
    {
      "cell_type": "code",
      "source": [
        "neural_pred_image(fashion_test_dataset[35][0], neuralModel)"
      ],
      "metadata": {
        "colab": {
          "base_uri": "https://localhost:8080/"
        },
        "id": "g5S6kY3MltKa",
        "outputId": "9acc09b9-d7fa-41c5-f48d-9c8fa4bdf5f4"
      },
      "execution_count": 97,
      "outputs": [
        {
          "output_type": "execute_result",
          "data": {
            "text/plain": [
              "0"
            ]
          },
          "metadata": {},
          "execution_count": 97
        }
      ]
    },
    {
      "cell_type": "code",
      "source": [
        "test_loader = DeviceDataLoader(DataLoader(fashion_test_dataset, batch_size=128), device)\n",
        "result = evaluate(neuralModel, test_loader)\n",
        "result"
      ],
      "metadata": {
        "colab": {
          "base_uri": "https://localhost:8080/"
        },
        "id": "7Wq92insnlxX",
        "outputId": "31e3f6c1-2d7b-49e8-def8-d0ab77e64f08"
      },
      "execution_count": 98,
      "outputs": [
        {
          "output_type": "execute_result",
          "data": {
            "text/plain": [
              "{'val_acc': 0.8390032052993774, 'val_loss': 0.4540216028690338}"
            ]
          },
          "metadata": {},
          "execution_count": 98
        }
      ]
    },
    {
      "cell_type": "markdown",
      "source": [
        "By using neural network having single hidden layer, we are able to increase the accuracy from 80.23% to 84.54%"
      ],
      "metadata": {
        "id": "85yMT_fgl6ec"
      }
    },
    {
      "cell_type": "markdown",
      "source": [
        "## CONVOLUTIONAL NEURAL NETWORK(CNN)"
      ],
      "metadata": {
        "id": "FJWRSGQomZVH"
      }
    },
    {
      "cell_type": "markdown",
      "source": [
        "Defining the model"
      ],
      "metadata": {
        "id": "lh9GVZsLAbmc"
      }
    },
    {
      "cell_type": "code",
      "source": [
        "class ImageClassificationBase(nn.Module):\n",
        "    def training_step(self, batch):\n",
        "        images, labels = batch \n",
        "        out = self(images)                  # Generate predictions\n",
        "        loss = F.cross_entropy(out, labels) # Calculate loss\n",
        "        return loss\n",
        "    \n",
        "    def validation_step(self, batch):\n",
        "        images, labels = batch \n",
        "        out = self(images)                    # Generate predictions\n",
        "        loss = F.cross_entropy(out, labels)   # Calculate loss\n",
        "        acc = accuracy(out, labels)           # Calculate accuracy\n",
        "        return {'val_loss': loss.detach(), 'val_acc': acc}\n",
        "        \n",
        "    def validation_epoch_end(self, outputs):\n",
        "        batch_losses = [x['val_loss'] for x in outputs]\n",
        "        epoch_loss = torch.stack(batch_losses).mean()   # Combine losses\n",
        "        batch_accs = [x['val_acc'] for x in outputs]\n",
        "        epoch_acc = torch.stack(batch_accs).mean()      # Combine accuracies\n",
        "        return {'val_loss': epoch_loss.item(), 'val_acc': epoch_acc.item()}\n",
        "    \n",
        "    def epoch_end(self, epoch, result):\n",
        "        print(\"Epoch [{}], train_loss: {:.4f}, val_loss: {:.4f}, val_acc: {:.4f}\".format(\n",
        "            epoch, result['train_loss'], result['val_loss'], result['val_acc']))\n",
        "        \n",
        "def accuracy(outputs, labels):\n",
        "    _, preds = torch.max(outputs, dim=1)\n",
        "    return torch.tensor(torch.sum(preds == labels).item() / len(preds))"
      ],
      "metadata": {
        "id": "KtSqzWnDmlTN"
      },
      "execution_count": 99,
      "outputs": []
    },
    {
      "cell_type": "code",
      "source": [
        "class fashionMnistCnnModel(ImageClassificationBase):\n",
        "    def __init__(self):\n",
        "        super().__init__()\n",
        "        self.network = nn.Sequential(\n",
        "            nn.Conv2d(1, 8, kernel_size=3, padding=1),\n",
        "            nn.ReLU(),\n",
        "            nn.Conv2d(8, 32, kernel_size=3, padding=1),\n",
        "            nn.ReLU(),\n",
        "            nn.Conv2d(32, 64, kernel_size=3, stride=1, padding=1),\n",
        "            nn.ReLU(),\n",
        "            nn.MaxPool2d(2, 2), # output: 64 x 14 x 14\n",
        "\n",
        "            nn.Conv2d(64, 128, kernel_size=3, stride=1, padding=1),\n",
        "            nn.ReLU(),\n",
        "            nn.Conv2d(128, 128, kernel_size=3, stride=1, padding=1),\n",
        "            nn.ReLU(),\n",
        "            nn.MaxPool2d(2, 2), # output: 128 x 7 x 7\n",
        "\n",
        "            nn.Conv2d(128, 256, kernel_size=3, stride=1, padding=1),\n",
        "            nn.ReLU(),\n",
        "            nn.Conv2d(256, 256, kernel_size=3, stride=2, padding=1),\n",
        "            nn.ReLU(), # output: 256 x 4 x 4\n",
        "\n",
        "            nn.Flatten(), \n",
        "            nn.Linear(256*4*4, 1024),\n",
        "            nn.ReLU(),\n",
        "            nn.Linear(1024, 512),\n",
        "            nn.ReLU(),\n",
        "            nn.Linear(512, 10))\n",
        "                \n",
        "    def forward(self, xb):\n",
        "        return self.network(xb)"
      ],
      "metadata": {
        "id": "kd88SicW2EIj"
      },
      "execution_count": 129,
      "outputs": []
    },
    {
      "cell_type": "code",
      "source": [
        "cnnModel = fashionMnistCnnModel()\n",
        "cnnModel"
      ],
      "metadata": {
        "colab": {
          "base_uri": "https://localhost:8080/"
        },
        "id": "gwBShf7I6XcF",
        "outputId": "60a9d24f-2e35-4b20-c473-b7ea3f9be5b1"
      },
      "execution_count": 130,
      "outputs": [
        {
          "output_type": "execute_result",
          "data": {
            "text/plain": [
              "fashionMnistCnnModel(\n",
              "  (network): Sequential(\n",
              "    (0): Conv2d(1, 8, kernel_size=(3, 3), stride=(1, 1), padding=(1, 1))\n",
              "    (1): ReLU()\n",
              "    (2): Conv2d(8, 32, kernel_size=(3, 3), stride=(1, 1), padding=(1, 1))\n",
              "    (3): ReLU()\n",
              "    (4): Conv2d(32, 64, kernel_size=(3, 3), stride=(1, 1), padding=(1, 1))\n",
              "    (5): ReLU()\n",
              "    (6): MaxPool2d(kernel_size=2, stride=2, padding=0, dilation=1, ceil_mode=False)\n",
              "    (7): Conv2d(64, 128, kernel_size=(3, 3), stride=(1, 1), padding=(1, 1))\n",
              "    (8): ReLU()\n",
              "    (9): Conv2d(128, 128, kernel_size=(3, 3), stride=(1, 1), padding=(1, 1))\n",
              "    (10): ReLU()\n",
              "    (11): MaxPool2d(kernel_size=2, stride=2, padding=0, dilation=1, ceil_mode=False)\n",
              "    (12): Conv2d(128, 256, kernel_size=(3, 3), stride=(1, 1), padding=(1, 1))\n",
              "    (13): ReLU()\n",
              "    (14): Conv2d(256, 256, kernel_size=(3, 3), stride=(2, 2), padding=(1, 1))\n",
              "    (15): ReLU()\n",
              "    (16): Flatten(start_dim=1, end_dim=-1)\n",
              "    (17): Linear(in_features=4096, out_features=1024, bias=True)\n",
              "    (18): ReLU()\n",
              "    (19): Linear(in_features=1024, out_features=512, bias=True)\n",
              "    (20): ReLU()\n",
              "    (21): Linear(in_features=512, out_features=10, bias=True)\n",
              "  )\n",
              ")"
            ]
          },
          "metadata": {},
          "execution_count": 130
        }
      ]
    },
    {
      "cell_type": "code",
      "source": [
        "to_device(cnnModel, device);"
      ],
      "metadata": {
        "id": "czOSl_WD-1L0"
      },
      "execution_count": 131,
      "outputs": []
    },
    {
      "cell_type": "code",
      "source": [
        "for images, labels in fashion_train_loader:\n",
        "    print('images.shape:', images.shape)\n",
        "    out = cnnModel(images)\n",
        "    print('out.shape:', out.shape)\n",
        "    print('out[0]:', out[0])\n",
        "    break"
      ],
      "metadata": {
        "colab": {
          "base_uri": "https://localhost:8080/"
        },
        "id": "4DniKlc6-6iP",
        "outputId": "00118201-a415-4e16-8939-9e860d702a94"
      },
      "execution_count": 132,
      "outputs": [
        {
          "output_type": "stream",
          "name": "stdout",
          "text": [
            "images.shape: torch.Size([128, 1, 28, 28])\n",
            "out.shape: torch.Size([128, 10])\n",
            "out[0]: tensor([ 0.0158, -0.0433, -0.0061, -0.0391, -0.0215,  0.0012, -0.0135,  0.0371,\n",
            "        -0.0207, -0.0234], device='cuda:0', grad_fn=<SelectBackward0>)\n"
          ]
        }
      ]
    },
    {
      "cell_type": "markdown",
      "source": [
        "Training the model"
      ],
      "metadata": {
        "id": "cQhtx055AhGm"
      }
    },
    {
      "cell_type": "code",
      "source": [
        "@torch.no_grad()\n",
        "def evaluate(model, val_loader):\n",
        "    model.eval()\n",
        "    outputs = [model.validation_step(batch) for batch in val_loader]\n",
        "    return model.validation_epoch_end(outputs)\n",
        "\n",
        "def fit(epochs, lr, model, train_loader, val_loader, opt_func=torch.optim.SGD):\n",
        "    history = []\n",
        "    optimizer = opt_func(model.parameters(), lr)\n",
        "    for epoch in range(epochs):\n",
        "        # Training Phase \n",
        "        model.train()\n",
        "        train_losses = []\n",
        "        for batch in train_loader:\n",
        "            loss = model.training_step(batch)\n",
        "            train_losses.append(loss)\n",
        "            loss.backward()\n",
        "            optimizer.step()\n",
        "            optimizer.zero_grad()\n",
        "        # Validation phase\n",
        "        result = evaluate(model, val_loader)\n",
        "        result['train_loss'] = torch.stack(train_losses).mean().item()\n",
        "        model.epoch_end(epoch, result)\n",
        "        history.append(result)\n",
        "    return history"
      ],
      "metadata": {
        "id": "6LH-evfwAUpm"
      },
      "execution_count": 133,
      "outputs": []
    },
    {
      "cell_type": "code",
      "source": [
        "evaluate(cnnModel, fashion_val_loader)"
      ],
      "metadata": {
        "colab": {
          "base_uri": "https://localhost:8080/"
        },
        "id": "UXAF3xn5AiUz",
        "outputId": "352e6d2b-b6a5-4db6-9339-46067cd16a38"
      },
      "execution_count": 134,
      "outputs": [
        {
          "output_type": "execute_result",
          "data": {
            "text/plain": [
              "{'val_acc': 0.09968354552984238, 'val_loss': 2.3027050495147705}"
            ]
          },
          "metadata": {},
          "execution_count": 134
        }
      ]
    },
    {
      "cell_type": "code",
      "source": [
        "num_epochs = 10\n",
        "opt_func = torch.optim.Adam\n",
        "lr = 0.001"
      ],
      "metadata": {
        "id": "do4_wakMAzUp"
      },
      "execution_count": 135,
      "outputs": []
    },
    {
      "cell_type": "code",
      "source": [
        "history = fit(num_epochs, lr, cnnModel, fashion_train_loader, fashion_val_loader, opt_func)"
      ],
      "metadata": {
        "colab": {
          "base_uri": "https://localhost:8080/"
        },
        "id": "g34_NLPOBTF7",
        "outputId": "b74a057e-7a8f-4b51-e978-fc8c3aaeeef8"
      },
      "execution_count": 136,
      "outputs": [
        {
          "output_type": "stream",
          "name": "stdout",
          "text": [
            "Epoch [0], train_loss: 0.7701, val_loss: 0.3980, val_acc: 0.8534\n",
            "Epoch [1], train_loss: 0.3503, val_loss: 0.3477, val_acc: 0.8700\n",
            "Epoch [2], train_loss: 0.2943, val_loss: 0.2891, val_acc: 0.8938\n",
            "Epoch [3], train_loss: 0.2603, val_loss: 0.2936, val_acc: 0.8944\n",
            "Epoch [4], train_loss: 0.2362, val_loss: 0.3041, val_acc: 0.8916\n",
            "Epoch [5], train_loss: 0.2118, val_loss: 0.2570, val_acc: 0.9086\n",
            "Epoch [6], train_loss: 0.1895, val_loss: 0.2539, val_acc: 0.9115\n",
            "Epoch [7], train_loss: 0.1716, val_loss: 0.2607, val_acc: 0.9090\n",
            "Epoch [8], train_loss: 0.1530, val_loss: 0.2561, val_acc: 0.9194\n",
            "Epoch [9], train_loss: 0.1365, val_loss: 0.2681, val_acc: 0.9163\n"
          ]
        }
      ]
    },
    {
      "cell_type": "code",
      "source": [
        "history += fit(5, 0.0005, cnnModel, fashion_train_loader, fashion_val_loader, opt_func)"
      ],
      "metadata": {
        "colab": {
          "base_uri": "https://localhost:8080/"
        },
        "id": "iHrLfXD0Gv3j",
        "outputId": "2b5f3c8c-cc5d-4c6a-acb8-44b0eb519339"
      },
      "execution_count": 137,
      "outputs": [
        {
          "output_type": "stream",
          "name": "stdout",
          "text": [
            "Epoch [0], train_loss: 0.0942, val_loss: 0.2888, val_acc: 0.9187\n",
            "Epoch [1], train_loss: 0.0714, val_loss: 0.3177, val_acc: 0.9215\n",
            "Epoch [2], train_loss: 0.0575, val_loss: 0.3442, val_acc: 0.9189\n",
            "Epoch [3], train_loss: 0.0513, val_loss: 0.3494, val_acc: 0.9243\n",
            "Epoch [4], train_loss: 0.0417, val_loss: 0.3720, val_acc: 0.9191\n"
          ]
        }
      ]
    },
    {
      "cell_type": "markdown",
      "source": [
        "In just 15 epoch able to get a validation accuracy of 91.91%"
      ],
      "metadata": {
        "id": "n38I9spZAlgI"
      }
    },
    {
      "cell_type": "code",
      "source": [
        "def plot_accuracies(history):\n",
        "    accuracies = [x['val_acc'] for x in history]\n",
        "    plt.plot(accuracies, '-x')\n",
        "    plt.xlabel('epoch')\n",
        "    plt.ylabel('accuracy')\n",
        "    plt.title('Accuracy vs. No. of epochs');"
      ],
      "metadata": {
        "id": "H_G8bkCyGs5e"
      },
      "execution_count": 138,
      "outputs": []
    },
    {
      "cell_type": "code",
      "source": [
        "plot_accuracies(history)"
      ],
      "metadata": {
        "colab": {
          "base_uri": "https://localhost:8080/",
          "height": 295
        },
        "id": "ceUwNUCKHMOS",
        "outputId": "f649dca5-1160-4c72-95e7-1dcebf19a32c"
      },
      "execution_count": 139,
      "outputs": [
        {
          "output_type": "display_data",
          "data": {
            "text/plain": [
              "<Figure size 432x288 with 1 Axes>"
            ],
            "image/png": "[encoded data removed]"
          },
          "metadata": {
            "needs_background": "light"
          }
        }
      ]
    },
    {
      "cell_type": "markdown",
      "source": [
        "By using Convolutional Neural Network setting, able to get an accuracy of 92% increasing it from 84.5%"
      ],
      "metadata": {
        "id": "WkmXUckqKGG8"
      }
    },
    {
      "cell_type": "code",
      "source": [
        "od.download('https://www.kaggle.com/datasets/vishalsubbiah/pokemon-images-and-types')"
      ],
      "metadata": {
        "colab": {
          "base_uri": "https://localhost:8080/"
        },
        "id": "ZN3HUkXMhOK2",
        "outputId": "1b0a6f36-5c3c-4f23-cb3a-49b39f3863d1"
      },
      "execution_count": 140,
      "outputs": [
        {
          "output_type": "stream",
          "name": "stdout",
          "text": [
            "Skipping, found downloaded files in \"./pokemon-images-and-types\" (use force=True to force download)\n"
          ]
        }
      ]
    },
    {
      "cell_type": "code",
      "source": [
        "os.listdir('pokemon-images-and-types')"
      ],
      "metadata": {
        "colab": {
          "base_uri": "https://localhost:8080/"
        },
        "id": "0Q139l1Hhx6e",
        "outputId": "82ce6916-522a-4595-b5d6-e415478e5713"
      },
      "execution_count": 141,
      "outputs": [
        {
          "output_type": "execute_result",
          "data": {
            "text/plain": [
              "['images', 'pokemon.csv']"
            ]
          },
          "metadata": {},
          "execution_count": 141
        }
      ]
    },
    {
      "cell_type": "code",
      "source": [
        "len(os.listdir('pokemon-images-and-types/images/images'))"
      ],
      "metadata": {
        "colab": {
          "base_uri": "https://localhost:8080/"
        },
        "id": "LbdWtODLr1se",
        "outputId": "e6c0b4ec-9737-4e1e-bf3d-2ea868b73f18"
      },
      "execution_count": 142,
      "outputs": [
        {
          "output_type": "execute_result",
          "data": {
            "text/plain": [
              "809"
            ]
          },
          "metadata": {},
          "execution_count": 142
        }
      ]
    },
    {
      "cell_type": "code",
      "source": [
        "info_df = pd.read_csv('pokemon-images-and-types/pokemon.csv')"
      ],
      "metadata": {
        "id": "mryLTDABimpm"
      },
      "execution_count": 173,
      "outputs": []
    },
    {
      "cell_type": "code",
      "source": [
        "info_df"
      ],
      "metadata": {
        "colab": {
          "base_uri": "https://localhost:8080/",
          "height": 424
        },
        "id": "zP0LUSebkF8Q",
        "outputId": "d8c7d9f2-01e5-4c8f-9f02-70179b4126a1"
      },
      "execution_count": 144,
      "outputs": [
        {
          "output_type": "execute_result",
          "data": {
            "text/plain": [
              "            Name     Type1   Type2\n",
              "0      bulbasaur     Grass  Poison\n",
              "1        ivysaur     Grass  Poison\n",
              "2       venusaur     Grass  Poison\n",
              "3     charmander      Fire     NaN\n",
              "4     charmeleon      Fire     NaN\n",
              "..           ...       ...     ...\n",
              "804    stakataka      Rock   Steel\n",
              "805  blacephalon      Fire   Ghost\n",
              "806      zeraora  Electric     NaN\n",
              "807       meltan     Steel     NaN\n",
              "808     melmetal     Steel     NaN\n",
              "\n",
              "[809 rows x 3 columns]"
            ],
            "text/html": [
              "\n",
              "  <div id=\"df-a144e869-22c5-4141-bf59-c3241e0e1085\">\n",
              "    <div class=\"colab-df-container\">\n",
              "      <div>\n",
              "<style scoped>\n",
              "    .dataframe tbody tr th:only-of-type {\n",
              "        vertical-align: middle;\n",
              "    }\n",
              "\n",
              "    .dataframe tbody tr th {\n",
              "        vertical-align: top;\n",
              "    }\n",
              "\n",
              "    .dataframe thead th {\n",
              "        text-align: right;\n",
              "    }\n",
              "</style>\n",
              "<table border=\"1\" class=\"dataframe\">\n",
              "  <thead>\n",
              "    <tr style=\"text-align: right;\">\n",
              "      <th></th>\n",
              "      <th>Name</th>\n",
              "      <th>Type1</th>\n",
              "      <th>Type2</th>\n",
              "    </tr>\n",
              "  </thead>\n",
              "  <tbody>\n",
              "    <tr>\n",
              "      <th>0</th>\n",
              "      <td>bulbasaur</td>\n",
              "      <td>Grass</td>\n",
              "      <td>Poison</td>\n",
              "    </tr>\n",
              "    <tr>\n",
              "      <th>1</th>\n",
              "      <td>ivysaur</td>\n",
              "      <td>Grass</td>\n",
              "      <td>Poison</td>\n",
              "    </tr>\n",
              "    <tr>\n",
              "      <th>2</th>\n",
              "      <td>venusaur</td>\n",
              "      <td>Grass</td>\n",
              "      <td>Poison</td>\n",
              "    </tr>\n",
              "    <tr>\n",
              "      <th>3</th>\n",
              "      <td>charmander</td>\n",
              "      <td>Fire</td>\n",
              "      <td>NaN</td>\n",
              "    </tr>\n",
              "    <tr>\n",
              "      <th>4</th>\n",
              "      <td>charmeleon</td>\n",
              "      <td>Fire</td>\n",
              "      <td>NaN</td>\n",
              "    </tr>\n",
              "    <tr>\n",
              "      <th>...</th>\n",
              "      <td>...</td>\n",
              "      <td>...</td>\n",
              "      <td>...</td>\n",
              "    </tr>\n",
              "    <tr>\n",
              "      <th>804</th>\n",
              "      <td>stakataka</td>\n",
              "      <td>Rock</td>\n",
              "      <td>Steel</td>\n",
              "    </tr>\n",
              "    <tr>\n",
              "      <th>805</th>\n",
              "      <td>blacephalon</td>\n",
              "      <td>Fire</td>\n",
              "      <td>Ghost</td>\n",
              "    </tr>\n",
              "    <tr>\n",
              "      <th>806</th>\n",
              "      <td>zeraora</td>\n",
              "      <td>Electric</td>\n",
              "      <td>NaN</td>\n",
              "    </tr>\n",
              "    <tr>\n",
              "      <th>807</th>\n",
              "      <td>meltan</td>\n",
              "      <td>Steel</td>\n",
              "      <td>NaN</td>\n",
              "    </tr>\n",
              "    <tr>\n",
              "      <th>808</th>\n",
              "      <td>melmetal</td>\n",
              "      <td>Steel</td>\n",
              "      <td>NaN</td>\n",
              "    </tr>\n",
              "  </tbody>\n",
              "</table>\n",
              "<p>809 rows × 3 columns</p>\n",
              "</div>\n",
              "      <button class=\"colab-df-convert\" onclick=\"convertToInteractive('df-a144e869-22c5-4141-bf59-c3241e0e1085')\"\n",
              "              title=\"Convert this dataframe to an interactive table.\"\n",
              "              style=\"display:none;\">\n",
              "        \n",
              "  <svg xmlns=\"http://www.w3.org/2000/svg\" height=\"24px\"viewBox=\"0 0 24 24\"\n",
              "       width=\"24px\">\n",
              "    <path d=\"M0 0h24v24H0V0z\" fill=\"none\"/>\n",
              "    <path d=\"M18.56 5.44l.94 2.06.94-2.06 2.06-.94-2.06-.94-.94-2.06-.94 2.06-2.06.94zm-11 1L8.5 8.5l.94-2.06 2.06-.94-2.06-.94L8.5 2.5l-.94 2.06-2.06.94zm10 10l.94 2.06.94-2.06 2.06-.94-2.06-.94-.94-2.06-.94 2.06-2.06.94z\"/><path d=\"M17.41 7.96l-1.37-1.37c-.4-.4-.92-.59-1.43-.59-.52 0-1.04.2-1.43.59L10.3 9.45l-7.72 7.72c-.78.78-.78 2.05 0 2.83L4 21.41c.39.39.9.59 1.41.59.51 0 1.02-.2 1.41-.59l7.78-7.78 2.81-2.81c.8-.78.8-2.07 0-2.86zM5.41 20L4 18.59l7.72-7.72 1.47 1.35L5.41 20z\"/>\n",
              "  </svg>\n",
              "      </button>\n",
              "      \n",
              "  <style>\n",
              "    .colab-df-container {\n",
              "      display:flex;\n",
              "      flex-wrap:wrap;\n",
              "      gap: 12px;\n",
              "    }\n",
              "\n",
              "    .colab-df-convert {\n",
              "      background-color: #E8F0FE;\n",
              "      border: none;\n",
              "      border-radius: 50%;\n",
              "      cursor: pointer;\n",
              "      display: none;\n",
              "      fill: #1967D2;\n",
              "      height: 32px;\n",
              "      padding: 0 0 0 0;\n",
              "      width: 32px;\n",
              "    }\n",
              "\n",
              "    .colab-df-convert:hover {\n",
              "      background-color: #E2EBFA;\n",
              "      box-shadow: 0px 1px 2px rgba(60, 64, 67, 0.3), 0px 1px 3px 1px rgba(60, 64, 67, 0.15);\n",
              "      fill: #174EA6;\n",
              "    }\n",
              "\n",
              "    [theme=dark] .colab-df-convert {\n",
              "      background-color: #3B4455;\n",
              "      fill: #D2E3FC;\n",
              "    }\n",
              "\n",
              "    [theme=dark] .colab-df-convert:hover {\n",
              "      background-color: #434B5C;\n",
              "      box-shadow: 0px 1px 3px 1px rgba(0, 0, 0, 0.15);\n",
              "      filter: drop-shadow(0px 1px 2px rgba(0, 0, 0, 0.3));\n",
              "      fill: #FFFFFF;\n",
              "    }\n",
              "  </style>\n",
              "\n",
              "      <script>\n",
              "        const buttonEl =\n",
              "          document.querySelector('#df-a144e869-22c5-4141-bf59-c3241e0e1085 button.colab-df-convert');\n",
              "        buttonEl.style.display =\n",
              "          google.colab.kernel.accessAllowed ? 'block' : 'none';\n",
              "\n",
              "        async function convertToInteractive(key) {\n",
              "          const element = document.querySelector('#df-a144e869-22c5-4141-bf59-c3241e0e1085');\n",
              "          const dataTable =\n",
              "            await google.colab.kernel.invokeFunction('convertToInteractive',\n",
              "                                                     [key], {});\n",
              "          if (!dataTable) return;\n",
              "\n",
              "          const docLinkHtml = 'Like what you see? Visit the ' +\n",
              "            '<a target=\"_blank\" href=https://colab.research.google.com/notebooks/data_table.ipynb>data table notebook</a>'\n",
              "            + ' to learn more about interactive tables.';\n",
              "          element.innerHTML = '';\n",
              "          dataTable['output_type'] = 'display_data';\n",
              "          await google.colab.output.renderOutput(dataTable, element);\n",
              "          const docLink = document.createElement('div');\n",
              "          docLink.innerHTML = docLinkHtml;\n",
              "          element.appendChild(docLink);\n",
              "        }\n",
              "      </script>\n",
              "    </div>\n",
              "  </div>\n",
              "  "
            ]
          },
          "metadata": {},
          "execution_count": 144
        }
      ]
    },
    {
      "cell_type": "code",
      "source": [
        "no_of_rows = info_df.shape[0]"
      ],
      "metadata": {
        "id": "_dHxxJ4AThp3"
      },
      "execution_count": 146,
      "outputs": []
    },
    {
      "cell_type": "code",
      "source": [
        "labels = np.unique(info_df['Type1'])\n",
        "label_dict = {labels[idx] : idx for idx in range(len(labels))}"
      ],
      "metadata": {
        "id": "tDZPWJsv7mGP"
      },
      "execution_count": 147,
      "outputs": []
    },
    {
      "cell_type": "code",
      "source": [
        "label_dict"
      ],
      "metadata": {
        "colab": {
          "base_uri": "https://localhost:8080/"
        },
        "id": "g6pMsOpkTTfv",
        "outputId": "2bc2f8b1-7047-4374-b663-dd12fc1cdd4c"
      },
      "execution_count": 148,
      "outputs": [
        {
          "output_type": "execute_result",
          "data": {
            "text/plain": [
              "{'Bug': 0,\n",
              " 'Dark': 1,\n",
              " 'Dragon': 2,\n",
              " 'Electric': 3,\n",
              " 'Fairy': 4,\n",
              " 'Fighting': 5,\n",
              " 'Fire': 6,\n",
              " 'Flying': 7,\n",
              " 'Ghost': 8,\n",
              " 'Grass': 9,\n",
              " 'Ground': 10,\n",
              " 'Ice': 11,\n",
              " 'Normal': 12,\n",
              " 'Poison': 13,\n",
              " 'Psychic': 14,\n",
              " 'Rock': 15,\n",
              " 'Steel': 16,\n",
              " 'Water': 17}"
            ]
          },
          "metadata": {},
          "execution_count": 148
        }
      ]
    },
    {
      "cell_type": "code",
      "source": [
        "folder_name = 'pokemon-images-and-types/images/images/'"
      ],
      "metadata": {
        "id": "6gmEpeuPq5Pt"
      },
      "execution_count": 12,
      "outputs": []
    },
    {
      "cell_type": "code",
      "source": [
        "def showImg(file):\n",
        "  if os.path.exists(folder_name + file + '.png'):\n",
        "    img = mpimg.imread(folder_name + file + '.png')\n",
        "  else:\n",
        "    img = mpimg.imread(folder_name + file + '.jpg')\n",
        "  plt.imshow(img)"
      ],
      "metadata": {
        "id": "VCSHkx5Es6xX"
      },
      "execution_count": 13,
      "outputs": []
    },
    {
      "cell_type": "code",
      "source": [
        "showImg('meltan')"
      ],
      "metadata": {
        "colab": {
          "base_uri": "https://localhost:8080/",
          "height": 268
        },
        "id": "LxbBnIqkkO7D",
        "outputId": "f348c0d3-e33e-4dea-8410-4518cc59bcf3"
      },
      "execution_count": 149,
      "outputs": [
        {
          "output_type": "display_data",
          "data": {
            "text/plain": [
              "<Figure size 432x288 with 1 Axes>"
            ],
            "image/png": "[encoded data removed]"
          },
          "metadata": {
            "needs_background": "light"
          }
        }
      ]
    },
    {
      "cell_type": "code",
      "source": [
        "showImg('bulbasaur')"
      ],
      "metadata": {
        "colab": {
          "base_uri": "https://localhost:8080/",
          "height": 268
        },
        "id": "JuWR5E9Fvl_q",
        "outputId": "05813555-9801-4fb6-9685-2ff4150d2d6e"
      },
      "execution_count": 15,
      "outputs": [
        {
          "output_type": "display_data",
          "data": {
            "text/plain": [
              "<Figure size 432x288 with 1 Axes>"
            ],
            "image/png": "[encoded data removed]"
          },
          "metadata": {
            "needs_background": "light"
          }
        }
      ]
    },
    {
      "cell_type": "code",
      "source": [
        "showImg('pikachu')"
      ],
      "metadata": {
        "colab": {
          "base_uri": "https://localhost:8080/",
          "height": 268
        },
        "id": "brMtMV1pvr6W",
        "outputId": "fb0a007e-56c0-4f7c-c9ad-ed0625e53167"
      },
      "execution_count": 16,
      "outputs": [
        {
          "output_type": "display_data",
          "data": {
            "text/plain": [
              "<Figure size 432x288 with 1 Axes>"
            ],
            "image/png": "[encoded data removed]"
          },
          "metadata": {
            "needs_background": "light"
          }
        }
      ]
    },
    {
      "cell_type": "code",
      "source": [
        "from PIL import Image"
      ],
      "metadata": {
        "id": "Sa7R-ijsyvvD"
      },
      "execution_count": 150,
      "outputs": []
    },
    {
      "cell_type": "code",
      "source": [
        "stats = ((0.4914, 0.4822, 0.4465), (0.2023, 0.1994, 0.2010))\n",
        "train_tfms = transforms.Compose([transforms.RandomCrop(120, padding=16, padding_mode='reflect'), \n",
        "                         transforms.RandomHorizontalFlip(), \n",
        "                         # tt.RandomRotate\n",
        "                         # tt.RandomResizedCrop(256, scale=(0.5,0.9), ratio=(1, 1)), \n",
        "                         # tt.ColorJitter(brightness=0.1, contrast=0.1, saturation=0.1, hue=0.1),\n",
        "                         transforms.ToTensor(), \n",
        "                         transforms.Normalize(*stats,inplace=True)])\n",
        "valid_tfms = transforms.Compose([transforms.ToTensor(), transforms.Normalize(*stats)])"
      ],
      "metadata": {
        "id": "8yerFkW9tR26"
      },
      "execution_count": 199,
      "outputs": []
    },
    {
      "cell_type": "code",
      "source": [
        "def convert_img_to_tensor(filename):\n",
        "  if os.path.exists(folder_name + filename + '.png'):\n",
        "    img = Image.open(folder_name + filename + '.png')\n",
        "  else:\n",
        "    img = Image.open(folder_name + filename + '.jpg')\n",
        "  convert_tensor = transforms.ToTensor()\n",
        "  tensor = convert_tensor(img)\n",
        "  return tensor"
      ],
      "metadata": {
        "id": "VcoCd-fkyx5f"
      },
      "execution_count": 151,
      "outputs": []
    },
    {
      "cell_type": "code",
      "source": [
        "for poke in info_df.loc[:10, 'Name']:  \n",
        "  data = convert_img_to_tensor(poke)\n",
        "  print(data.shape)"
      ],
      "metadata": {
        "colab": {
          "base_uri": "https://localhost:8080/"
        },
        "id": "w-KIyI1WyOJd",
        "outputId": "b55a2433-0f09-42a1-d540-157da4af8bc5"
      },
      "execution_count": 174,
      "outputs": [
        {
          "output_type": "stream",
          "name": "stdout",
          "text": [
            "torch.Size([1, 120, 120])\n",
            "torch.Size([4, 120, 120])\n",
            "torch.Size([4, 120, 120])\n",
            "torch.Size([4, 120, 120])\n",
            "torch.Size([4, 120, 120])\n",
            "torch.Size([4, 120, 120])\n",
            "torch.Size([4, 120, 120])\n",
            "torch.Size([4, 120, 120])\n",
            "torch.Size([4, 120, 120])\n",
            "torch.Size([4, 120, 120])\n",
            "torch.Size([1, 120, 120])\n"
          ]
        }
      ]
    },
    {
      "cell_type": "markdown",
      "source": [
        "Images are of variable shape hence need to covert it into a similar shape of 1x120x120"
      ],
      "metadata": {
        "id": "gCWZpiKm6igH"
      }
    },
    {
      "cell_type": "code",
      "source": [
        "tempData = convert_img_to_tensor(info_df.iloc[2].Name)\n",
        "plt.imshow(torch.mean(tempData, axis=0))"
      ],
      "metadata": {
        "colab": {
          "base_uri": "https://localhost:8080/",
          "height": 285
        },
        "id": "eBnxS1bK7c8D",
        "outputId": "a970c874-7f7c-4cf3-b918-9b8ae19c18ec"
      },
      "execution_count": 153,
      "outputs": [
        {
          "output_type": "execute_result",
          "data": {
            "text/plain": [
              "<matplotlib.image.AxesImage at 0x7f71aa898a10>"
            ]
          },
          "metadata": {},
          "execution_count": 153
        },
        {
          "output_type": "display_data",
          "data": {
            "text/plain": [
              "<Figure size 432x288 with 1 Axes>"
            ],
            "image/png": "[encoded data removed]"
          },
          "metadata": {
            "needs_background": "light"
          }
        }
      ]
    },
    {
      "cell_type": "code",
      "source": [
        "info_df.loc[2]['Name']"
      ],
      "metadata": {
        "colab": {
          "base_uri": "https://localhost:8080/",
          "height": 35
        },
        "id": "AHwe0ElhUyPB",
        "outputId": "c43809bb-43e5-4c48-c51c-dca742a8890c"
      },
      "execution_count": 154,
      "outputs": [
        {
          "output_type": "execute_result",
          "data": {
            "text/plain": [
              "'venusaur'"
            ],
            "application/vnd.google.colaboratory.intrinsic+json": {
              "type": "string"
            }
          },
          "metadata": {},
          "execution_count": 154
        }
      ]
    },
    {
      "cell_type": "code",
      "source": [
        "class CustomImageDataset(Dataset):\n",
        "  def __init__(self, datas, labels):\n",
        "    self.datas = datas\n",
        "    self.labels = labels\n",
        "    \n",
        "  def __len__(self):\n",
        "    return len(self.labels)\n",
        "\n",
        "  def __getitem__(self, idx):\n",
        "    data = self.datas[idx]\n",
        "    label = self.labels[idx]\n",
        "    sample = (data, label)\n",
        "    return sample"
      ],
      "metadata": {
        "id": "oqOcfjVmzI_K"
      },
      "execution_count": 155,
      "outputs": []
    },
    {
      "cell_type": "code",
      "source": [
        "data = []\n",
        "labels = []\n",
        "for idx in range(no_of_rows):\n",
        "  pokName = info_df.loc[idx]['Name']\n",
        "  type1 = info_df.loc[idx]['Type1']\n",
        "  tensorData = convert_img_to_tensor(pokName)\n",
        "  data.append(torch.mean(tensorData, axis = 0).reshape(1, 120, 120))\n",
        "  labels.append(label_dict[type1])\n",
        "dataFrame = pd.DataFrame({'Datas' : data, 'Labels' : labels})\n",
        "\n",
        "ImageData = CustomImageDataset(dataFrame['Datas'], dataFrame['Labels'])"
      ],
      "metadata": {
        "id": "1SpyjHdtPSIq"
      },
      "execution_count": 176,
      "outputs": []
    },
    {
      "cell_type": "code",
      "source": [
        "dataFrame.shape"
      ],
      "metadata": {
        "colab": {
          "base_uri": "https://localhost:8080/"
        },
        "id": "rEUoTeWMFrEK",
        "outputId": "8c57dccd-b05c-4c95-c15d-a94740d3854d"
      },
      "execution_count": 177,
      "outputs": [
        {
          "output_type": "execute_result",
          "data": {
            "text/plain": [
              "(809, 2)"
            ]
          },
          "metadata": {},
          "execution_count": 177
        }
      ]
    },
    {
      "cell_type": "code",
      "source": [
        "ImageData[0][0].shape"
      ],
      "metadata": {
        "colab": {
          "base_uri": "https://localhost:8080/"
        },
        "id": "_Gv2mq02XaX-",
        "outputId": "d40fda87-8fa2-4525-e85a-1f029650304e"
      },
      "execution_count": 178,
      "outputs": [
        {
          "output_type": "execute_result",
          "data": {
            "text/plain": [
              "torch.Size([1, 120, 120])"
            ]
          },
          "metadata": {},
          "execution_count": 178
        }
      ]
    },
    {
      "cell_type": "code",
      "source": [
        "len(ImageData)"
      ],
      "metadata": {
        "colab": {
          "base_uri": "https://localhost:8080/"
        },
        "id": "yDWfooyN1AB2",
        "outputId": "95972e8d-4fd0-48d9-af2e-4cb8b63e465a"
      },
      "execution_count": 179,
      "outputs": [
        {
          "output_type": "execute_result",
          "data": {
            "text/plain": [
              "809"
            ]
          },
          "metadata": {},
          "execution_count": 179
        }
      ]
    },
    {
      "cell_type": "code",
      "source": [
        "from torch.utils.data import random_split\n",
        "\n",
        "poke_train_df, poke_val_df, poke_test_df = random_split(ImageData, [592, 112, 105])\n",
        "len(poke_train_df), len(poke_val_df), len(poke_test_df)"
      ],
      "metadata": {
        "colab": {
          "base_uri": "https://localhost:8080/"
        },
        "id": "z5waCNSYE9I0",
        "outputId": "7b7e9a3a-8d9c-4058-d35a-b341610c704b"
      },
      "execution_count": 180,
      "outputs": [
        {
          "output_type": "execute_result",
          "data": {
            "text/plain": [
              "(592, 112, 105)"
            ]
          },
          "metadata": {},
          "execution_count": 180
        }
      ]
    },
    {
      "cell_type": "code",
      "source": [
        "poke_train_df[0][1]"
      ],
      "metadata": {
        "colab": {
          "base_uri": "https://localhost:8080/"
        },
        "id": "-wEWdEAoOXEx",
        "outputId": "43bf022c-7199-4ffb-da9b-569572513bc6"
      },
      "execution_count": 181,
      "outputs": [
        {
          "output_type": "execute_result",
          "data": {
            "text/plain": [
              "10"
            ]
          },
          "metadata": {},
          "execution_count": 181
        }
      ]
    },
    {
      "cell_type": "code",
      "source": [
        "plt.imshow(poke_train_df[0][0].reshape(120, 120))"
      ],
      "metadata": {
        "colab": {
          "base_uri": "https://localhost:8080/",
          "height": 285
        },
        "id": "VfW2o7TY5sCd",
        "outputId": "aab4a470-622c-4d5f-e091-efd2982542f5"
      },
      "execution_count": 183,
      "outputs": [
        {
          "output_type": "execute_result",
          "data": {
            "text/plain": [
              "<matplotlib.image.AxesImage at 0x7f70e3e80a10>"
            ]
          },
          "metadata": {},
          "execution_count": 183
        },
        {
          "output_type": "display_data",
          "data": {
            "text/plain": [
              "<Figure size 432x288 with 1 Axes>"
            ],
            "image/png": "[encoded data removed]"
          },
          "metadata": {
            "needs_background": "light"
          }
        }
      ]
    },
    {
      "cell_type": "code",
      "source": [
        "batch_size = 16\n",
        "\n",
        "poke_train_loader = DataLoader(poke_train_df, batch_size, shuffle=True, num_workers=4, pin_memory=True)\n",
        "poke_val_loader = DataLoader(poke_val_df, batch_size, num_workers=4, pin_memory=True)\n",
        "poke_test_loader = DataLoader(poke_test_df, batch_size, num_workers=4, pin_memory=True)"
      ],
      "metadata": {
        "colab": {
          "base_uri": "https://localhost:8080/"
        },
        "id": "PniRlnZWWG1V",
        "outputId": "0a698681-f268-4525-d78f-79f542507740"
      },
      "execution_count": 185,
      "outputs": [
        {
          "output_type": "stream",
          "name": "stderr",
          "text": [
            "/usr/local/lib/python3.7/dist-packages/torch/utils/data/dataloader.py:560: UserWarning: This DataLoader will create 4 worker processes in total. Our suggested max number of worker in current system is 2, which is smaller than what this DataLoader is going to create. Please be aware that excessive worker creation might get DataLoader running slow or even freeze, lower the worker number to avoid potential slowness/freeze if necessary.\n",
            "  cpuset_checked))\n"
          ]
        }
      ]
    },
    {
      "cell_type": "code",
      "source": [
        "class pokemonCnnModel(ImageClassificationBase):\n",
        "    def __init__(self):\n",
        "        super().__init__()\n",
        "        self.network = nn.Sequential(\n",
        "            nn.Conv2d(1, 8, kernel_size=3, padding=1),\n",
        "            nn.ReLU(),\n",
        "            nn.Conv2d(8, 32, kernel_size=3, padding=1),\n",
        "            nn.ReLU(),\n",
        "            nn.Conv2d(32, 64, kernel_size=3, stride=1, padding=1),\n",
        "            nn.ReLU(),\n",
        "            nn.MaxPool2d(2, 2), # output: 64 x 60 x 60\n",
        "\n",
        "            nn.Conv2d(64, 128, kernel_size=3, stride=1, padding=1),\n",
        "            nn.ReLU(),\n",
        "            nn.Conv2d(128, 128, kernel_size=3, stride=1, padding=1),\n",
        "            nn.ReLU(),\n",
        "            nn.MaxPool2d(2, 2), # output: 128 x 30 x 30\n",
        "\n",
        "            nn.Conv2d(128, 256, kernel_size=3, stride=1, padding=1),\n",
        "            nn.ReLU(),\n",
        "            nn.Conv2d(256, 256, kernel_size=3, stride=1, padding=1),\n",
        "            nn.ReLU(),\n",
        "            nn.MaxPool2d(2, 2), # output: 256 x 15 x 15\n",
        "\n",
        "            nn.Conv2d(256, 512, kernel_size=3, stride=1, padding=1),\n",
        "            nn.ReLU(),\n",
        "            nn.Conv2d(512, 512, kernel_size=3, stride=2, padding=1),\n",
        "            nn.ReLU(), \n",
        "            nn.MaxPool2d(2, 2), # output: 512 x 4 x 4\n",
        "\n",
        "            nn.Flatten(), \n",
        "            nn.Linear(512*4*4, 4096),\n",
        "            nn.ReLU(),\n",
        "            nn.Linear(4096, 1024),\n",
        "            nn.ReLU(),\n",
        "            nn.Linear(1024, 512),\n",
        "            nn.ReLU(),\n",
        "            nn.Linear(512, 18))\n",
        "                \n",
        "    def forward(self, xb):\n",
        "        return self.network(xb)"
      ],
      "metadata": {
        "id": "uRG5Lss9ajuL"
      },
      "execution_count": 189,
      "outputs": []
    },
    {
      "cell_type": "code",
      "source": [
        "pokeModel = pokemonCnnModel()\n",
        "pokeModel"
      ],
      "metadata": {
        "colab": {
          "base_uri": "https://localhost:8080/"
        },
        "id": "QnfWa4sDdfvC",
        "outputId": "9dadf032-93f7-4e97-bcbb-5510487f5da6"
      },
      "execution_count": 190,
      "outputs": [
        {
          "output_type": "execute_result",
          "data": {
            "text/plain": [
              "pokemonCnnModel(\n",
              "  (network): Sequential(\n",
              "    (0): Conv2d(1, 8, kernel_size=(3, 3), stride=(1, 1), padding=(1, 1))\n",
              "    (1): ReLU()\n",
              "    (2): Conv2d(8, 32, kernel_size=(3, 3), stride=(1, 1), padding=(1, 1))\n",
              "    (3): ReLU()\n",
              "    (4): Conv2d(32, 64, kernel_size=(3, 3), stride=(1, 1), padding=(1, 1))\n",
              "    (5): ReLU()\n",
              "    (6): MaxPool2d(kernel_size=2, stride=2, padding=0, dilation=1, ceil_mode=False)\n",
              "    (7): Conv2d(64, 128, kernel_size=(3, 3), stride=(1, 1), padding=(1, 1))\n",
              "    (8): ReLU()\n",
              "    (9): Conv2d(128, 128, kernel_size=(3, 3), stride=(1, 1), padding=(1, 1))\n",
              "    (10): ReLU()\n",
              "    (11): MaxPool2d(kernel_size=2, stride=2, padding=0, dilation=1, ceil_mode=False)\n",
              "    (12): Conv2d(128, 256, kernel_size=(3, 3), stride=(1, 1), padding=(1, 1))\n",
              "    (13): ReLU()\n",
              "    (14): Conv2d(256, 256, kernel_size=(3, 3), stride=(1, 1), padding=(1, 1))\n",
              "    (15): ReLU()\n",
              "    (16): MaxPool2d(kernel_size=2, stride=2, padding=0, dilation=1, ceil_mode=False)\n",
              "    (17): Conv2d(256, 512, kernel_size=(3, 3), stride=(1, 1), padding=(1, 1))\n",
              "    (18): ReLU()\n",
              "    (19): Conv2d(512, 512, kernel_size=(3, 3), stride=(2, 2), padding=(1, 1))\n",
              "    (20): ReLU()\n",
              "    (21): MaxPool2d(kernel_size=2, stride=2, padding=0, dilation=1, ceil_mode=False)\n",
              "    (22): Flatten(start_dim=1, end_dim=-1)\n",
              "    (23): Linear(in_features=8192, out_features=4096, bias=True)\n",
              "    (24): ReLU()\n",
              "    (25): Linear(in_features=4096, out_features=1024, bias=True)\n",
              "    (26): ReLU()\n",
              "    (27): Linear(in_features=1024, out_features=512, bias=True)\n",
              "    (28): ReLU()\n",
              "    (29): Linear(in_features=512, out_features=18, bias=True)\n",
              "  )\n",
              ")"
            ]
          },
          "metadata": {},
          "execution_count": 190
        }
      ]
    },
    {
      "cell_type": "code",
      "source": [
        "for images, labels in poke_train_loader:\n",
        "    print('images.shape:', images.shape)\n",
        "    out = pokeModel(images)\n",
        "    print('out.shape:', out.shape)\n",
        "    print('out[0]:', out[0])\n",
        "    break"
      ],
      "metadata": {
        "colab": {
          "base_uri": "https://localhost:8080/"
        },
        "id": "TqD-TTsEdsBH",
        "outputId": "b4d8492d-6a46-46e5-ccbe-2a9f92ab4ebd"
      },
      "execution_count": 191,
      "outputs": [
        {
          "output_type": "stream",
          "name": "stderr",
          "text": [
            "/usr/local/lib/python3.7/dist-packages/torch/utils/data/dataloader.py:560: UserWarning: This DataLoader will create 4 worker processes in total. Our suggested max number of worker in current system is 2, which is smaller than what this DataLoader is going to create. Please be aware that excessive worker creation might get DataLoader running slow or even freeze, lower the worker number to avoid potential slowness/freeze if necessary.\n",
            "  cpuset_checked))\n"
          ]
        },
        {
          "output_type": "stream",
          "name": "stdout",
          "text": [
            "images.shape: torch.Size([16, 1, 120, 120])\n",
            "out.shape: torch.Size([16, 18])\n",
            "out[0]: tensor([ 0.0334, -0.0401, -0.0345, -0.0357,  0.0218,  0.0175, -0.0323,  0.0173,\n",
            "        -0.0206, -0.0115,  0.0325, -0.0125, -0.0418,  0.0283, -0.0264, -0.0257,\n",
            "         0.0224,  0.0058], grad_fn=<SelectBackward0>)\n"
          ]
        }
      ]
    },
    {
      "cell_type": "code",
      "source": [
        "poke_train_loader = DeviceDataLoader(poke_train_loader, device)\n",
        "poke_val_loader = DeviceDataLoader(poke_val_loader, device)\n",
        "pokeModel = to_device(pokeModel, device);"
      ],
      "metadata": {
        "id": "Ct9zKKbwiOs7"
      },
      "execution_count": 193,
      "outputs": []
    },
    {
      "cell_type": "code",
      "source": [
        "evaluate(pokeModel, poke_val_loader)"
      ],
      "metadata": {
        "colab": {
          "base_uri": "https://localhost:8080/"
        },
        "id": "sJQcV7U8if5y",
        "outputId": "50c6519d-e719-4dea-e21b-aac3b97fa8d4"
      },
      "execution_count": 194,
      "outputs": [
        {
          "output_type": "stream",
          "name": "stderr",
          "text": [
            "/usr/local/lib/python3.7/dist-packages/torch/utils/data/dataloader.py:560: UserWarning: This DataLoader will create 4 worker processes in total. Our suggested max number of worker in current system is 2, which is smaller than what this DataLoader is going to create. Please be aware that excessive worker creation might get DataLoader running slow or even freeze, lower the worker number to avoid potential slowness/freeze if necessary.\n",
            "  cpuset_checked))\n"
          ]
        },
        {
          "output_type": "execute_result",
          "data": {
            "text/plain": [
              "{'val_acc': 0.0803571417927742, 'val_loss': 2.897228956222534}"
            ]
          },
          "metadata": {},
          "execution_count": 194
        }
      ]
    },
    {
      "cell_type": "code",
      "source": [
        "num_epochs = 10\n",
        "opt_func = torch.optim.Adam\n",
        "lr = 0.001"
      ],
      "metadata": {
        "id": "OcL5yDsui4nt"
      },
      "execution_count": 195,
      "outputs": []
    },
    {
      "cell_type": "code",
      "source": [
        "history = fit(num_epochs, 0.1, pokeModel, poke_train_loader, poke_val_loader, opt_func)"
      ],
      "metadata": {
        "colab": {
          "base_uri": "https://localhost:8080/"
        },
        "id": "tklohWZRi7-m",
        "outputId": "690d4250-9014-4c6e-eee6-957c2e102bd4"
      },
      "execution_count": 197,
      "outputs": [
        {
          "output_type": "stream",
          "name": "stderr",
          "text": [
            "/usr/local/lib/python3.7/dist-packages/torch/utils/data/dataloader.py:560: UserWarning: This DataLoader will create 4 worker processes in total. Our suggested max number of worker in current system is 2, which is smaller than what this DataLoader is going to create. Please be aware that excessive worker creation might get DataLoader running slow or even freeze, lower the worker number to avoid potential slowness/freeze if necessary.\n",
            "  cpuset_checked))\n"
          ]
        },
        {
          "output_type": "stream",
          "name": "stdout",
          "text": [
            "Epoch [0], train_loss: 3.5415, val_loss: 2.8105, val_acc: 0.0982\n",
            "Epoch [1], train_loss: 2.7314, val_loss: 2.7843, val_acc: 0.0982\n",
            "Epoch [2], train_loss: 2.7208, val_loss: 2.7970, val_acc: 0.0982\n",
            "Epoch [3], train_loss: 2.7174, val_loss: 2.7935, val_acc: 0.0982\n",
            "Epoch [4], train_loss: 2.7174, val_loss: 2.7904, val_acc: 0.0982\n",
            "Epoch [5], train_loss: 2.7181, val_loss: 2.7848, val_acc: 0.0982\n",
            "Epoch [6], train_loss: 2.7192, val_loss: 2.7885, val_acc: 0.0982\n",
            "Epoch [7], train_loss: 2.7164, val_loss: 2.7893, val_acc: 0.0982\n",
            "Epoch [8], train_loss: 2.7194, val_loss: 2.7935, val_acc: 0.0982\n",
            "Epoch [9], train_loss: 2.7181, val_loss: 2.7878, val_acc: 0.1518\n"
          ]
        }
      ]
    }
  ]
}